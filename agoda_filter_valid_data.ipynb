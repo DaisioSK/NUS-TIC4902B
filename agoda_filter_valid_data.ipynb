{
 "cells": [
  {
   "cell_type": "code",
   "execution_count": 1,
   "id": "8cf14c94-0a5d-450f-af41-73f242250c31",
   "metadata": {},
   "outputs": [],
   "source": [
    "import numpy as np\n",
    "import pandas as pd\n",
    "import langid"
   ]
  },
  {
   "cell_type": "code",
   "execution_count": 2,
   "id": "7f0d0c3b-c960-439a-a8d1-ffa15ff7c9ed",
   "metadata": {},
   "outputs": [],
   "source": [
    "# Define default source path\n",
    "SRC_PATH = \"src/\""
   ]
  },
  {
   "cell_type": "code",
   "execution_count": 3,
   "id": "98d921c0-6268-4c63-8fbc-bc7c99cfdd93",
   "metadata": {},
   "outputs": [],
   "source": [
    "# Load dataset\n",
    "df_hotel = pd.read_csv(SRC_PATH + \"agoda_hotels_details.csv\")\n",
    "df_review = pd.read_csv(SRC_PATH + \"agoda_reviews_details.csv\")"
   ]
  },
  {
   "cell_type": "code",
   "execution_count": 4,
   "id": "d90c2454-0544-47da-a379-9cc4b5508913",
   "metadata": {},
   "outputs": [
    {
     "name": "stdout",
     "output_type": "stream",
     "text": [
      "Currently, hotel dataset has 361 rows.\n",
      "Currently, review dataset has 55281 rows.\n"
     ]
    }
   ],
   "source": [
    "print(f\"Currently, hotel dataset has {len(df_hotel)} rows.\")\n",
    "print(f\"Currently, review dataset has {len(df_review)} rows.\")"
   ]
  },
  {
   "cell_type": "markdown",
   "id": "38d395ae-dc9e-454d-8483-55dc8e799b04",
   "metadata": {},
   "source": [
    "## 1) Remove invalid rows\n",
    "### Invalid rows: Rows with NULL value in \"Overall Rating\" column of df_hotel"
   ]
  },
  {
   "cell_type": "markdown",
   "id": "32506295-db11-4f34-9fbb-8d5f07c5b709",
   "metadata": {},
   "source": [
    "#### a) Remove invalid rows from df_review dataset"
   ]
  },
  {
   "cell_type": "code",
   "execution_count": 5,
   "id": "9dbee4dd-ac6e-4ce7-80d1-b11a71bd2cbd",
   "metadata": {},
   "outputs": [],
   "source": [
    "# Find out \"Hotel ID\" in df_hotel with NULL value \"Overall Rating\" column\n",
    "missing_overall_rating_ids = df_hotel[df_hotel[\"Overall Rating\"].isnull()][\"Hotel ID\"]\n",
    "\n",
    "# Find out all rows's index of invalid hotels in df_review\n",
    "matching_rows_index = df_review[df_review[\"hotel_id\"].isin(missing_overall_rating_ids)].index\n",
    "\n",
    "# Remove rows of invalid hotels from df_review \n",
    "df_review = df_review.drop(matching_rows_index).reset_index(drop=True)"
   ]
  },
  {
   "cell_type": "markdown",
   "id": "cf9142af-780a-4c46-8dfe-a7b637d30514",
   "metadata": {},
   "source": [
    "#### b) Remove invalid rows from df_hotel dataset"
   ]
  },
  {
   "cell_type": "code",
   "execution_count": 6,
   "id": "b8e8c7d9-af57-4351-bd40-def3a50c37a9",
   "metadata": {},
   "outputs": [],
   "source": [
    "# Remove rows of invalid hotels from df_hotel dataset\n",
    "df_hotel = df_hotel.dropna(subset=[\"Overall Rating\"]).reset_index(drop=True)"
   ]
  },
  {
   "cell_type": "code",
   "execution_count": 7,
   "id": "de987ed1-b52c-4d8f-acd4-81969f0c2122",
   "metadata": {},
   "outputs": [
    {
     "name": "stdout",
     "output_type": "stream",
     "text": [
      "Currently, hotel dataset has 361 rows, deleted 0 rows of invalid hotels.\n",
      "Currently, review dataset has 55281 rows, deleted 0 rows of invalid hotels.\n"
     ]
    }
   ],
   "source": [
    "print(f\"Currently, hotel dataset has {len(df_hotel)} rows, deleted {len(missing_overall_rating_ids)} rows of invalid hotels.\")\n",
    "print(f\"Currently, review dataset has {len(df_review)} rows, deleted {len(matching_rows_index)} rows of invalid hotels.\")"
   ]
  },
  {
   "cell_type": "markdown",
   "id": "4840d639-2cb2-45ec-92b5-8e58d8e314b8",
   "metadata": {},
   "source": [
    "## 2) Remove duplicate rows\n",
    "#### a) Remove duplicate reviews from df_review dataset"
   ]
  },
  {
   "cell_type": "code",
   "execution_count": 8,
   "id": "54c98297-fd62-4ab1-9059-f449a2f24478",
   "metadata": {},
   "outputs": [],
   "source": [
    "# Convert \"review_date\" as date format\n",
    "df_review[\"review_date\"] = pd.to_datetime(df_review[\"review_date\"])\n",
    "\n",
    "# List key columns that are used to identify the duplicate rows\n",
    "key_columns_review = [\"hotel_id\", \"reviewer\", \"stay_details\", \"review_score\", \"review_date\", \"review_title\", \"review\"]\n",
    "\n",
    "# Find out duplicated rows and keep first one\n",
    "duplicated_rows_review = df_review[df_review.duplicated(subset=key_columns_review, keep=\"first\")]\n",
    "\n",
    "# Remove duplicated rows and keep first one\n",
    "df_review = df_review.drop_duplicates(subset=key_columns_review, keep=\"first\").reset_index(drop=True)"
   ]
  },
  {
   "cell_type": "markdown",
   "id": "ec3055d4-5119-4c49-8f64-2384bd2649c2",
   "metadata": {},
   "source": [
    "#### b) Remove duplicate hotels from df_hotel dataset"
   ]
  },
  {
   "cell_type": "code",
   "execution_count": 9,
   "id": "184503f6-7d74-4f29-9a23-2064eb552a70",
   "metadata": {},
   "outputs": [],
   "source": [
    "# List key columns that are used to identify the duplicate rows\n",
    "key_columns_hotel = [\"Hotel ID\"]\n",
    "\n",
    "# Find out duplicated rows and keep first one\n",
    "duplicated_rows_hotel = df_hotel[df_hotel.duplicated(subset=key_columns_hotel, keep=\"first\")]\n",
    "\n",
    "# Remove duplicated rows and keep first one\n",
    "df_hotel = df_hotel.drop_duplicates(subset=key_columns_hotel, keep=\"first\").reset_index(drop=True)"
   ]
  },
  {
   "cell_type": "code",
   "execution_count": 10,
   "id": "575eda06-58fc-4a3d-94b5-9e083d0f0e1f",
   "metadata": {},
   "outputs": [
    {
     "name": "stdout",
     "output_type": "stream",
     "text": [
      "Currently, hotel dataset has 361 rows, deleted 0 duplicate rows.\n",
      "Currently, review dataset has 35686 rows, deleted 19595 duplicate rows.\n"
     ]
    }
   ],
   "source": [
    "print(f\"Currently, hotel dataset has {len(df_hotel)} rows, deleted {len(duplicated_rows_hotel)} duplicate rows.\")\n",
    "print(f\"Currently, review dataset has {len(df_review)} rows, deleted {len(duplicated_rows_review)} duplicate rows.\")"
   ]
  },
  {
   "cell_type": "markdown",
   "id": "2302eb47-f092-4e57-957d-6553b236445c",
   "metadata": {},
   "source": [
    "## 3) Remove rows from df_review dataset when tourists stayed before April 2022 "
   ]
  },
  {
   "cell_type": "code",
   "execution_count": 11,
   "id": "336ad821-05b6-4c37-a878-5b276d75249d",
   "metadata": {},
   "outputs": [],
   "source": [
    "# Remove \"stay_date\" column if it already exists\n",
    "if \"stay_date\" in df_review.columns:\n",
    "    df_review = df_review.drop(columns=[\"stay_date\"])\n",
    "\n",
    "# Add an empty column \"stay_date\" after \"stay_details\" column\n",
    "df_review.insert(df_review.columns.get_loc(\"stay_details\") + 1, \"stay_date\", None)\n",
    "\n",
    "# Extract year and month from \"stay_details\" column\n",
    "# and store extracted date into \"stay_date\" column\n",
    "df_review[\"stay_date\"] = df_review[\"stay_details\"].str.extract(r\"in (\\w+ \\d+)\")\n",
    "\n",
    "# Convert as date format\n",
    "df_review[\"stay_date\"] = pd.to_datetime(df_review[\"stay_date\"], format=\"%B %Y\")\n",
    "\n",
    "# Keep reviews after April 2022, and save into df_review_after202204 dataset\n",
    "df_review_after202204 = df_review[df_review[\"stay_date\"] >= \"2022-04-01\"]\n",
    "df_review_after202204 = df_review_after202204.reset_index(drop=True)\n",
    "\n",
    "# Convert as \"dd/mm/yyyy\" format\n",
    "df_review_after202204[\"stay_date\"] = df_review_after202204[\"stay_date\"].dt.strftime(\"%d/%m/%Y\")"
   ]
  },
  {
   "cell_type": "code",
   "execution_count": 12,
   "id": "909ff89b-5f85-4dfd-9389-a4433418343e",
   "metadata": {},
   "outputs": [
    {
     "name": "stdout",
     "output_type": "stream",
     "text": [
      "Currently, hotel dataset has 361 rows.\n",
      "Currently, review dataset has 32279 rows, deleted 3407 rows which tourists stayed before April 2022.\n"
     ]
    }
   ],
   "source": [
    "print(f\"Currently, hotel dataset has {len(df_hotel)} rows.\")\n",
    "print(f\"Currently, review dataset has {len(df_review_after202204)} rows, deleted {len(df_review) - len(df_review_after202204)} rows which tourists stayed before April 2022.\")"
   ]
  },
  {
   "cell_type": "markdown",
   "id": "ca74cce2-1c49-4287-ba28-8c6eba214697",
   "metadata": {},
   "source": [
    "## 4) Remove rows from df_review_after202204 dataset when \"review\" is not in English"
   ]
  },
  {
   "cell_type": "code",
   "execution_count": 13,
   "id": "bd4c3dad-229d-4a8f-9aaa-e2e7e8107f79",
   "metadata": {},
   "outputs": [],
   "source": [
    "# Function to check whether text is English\n",
    "def is_english(text):\n",
    "    if pd.isna(text):\n",
    "        return False  # if value is null, return False\n",
    "    lang, _ = langid.classify(text)\n",
    "    return lang == \"en\""
   ]
  },
  {
   "cell_type": "code",
   "execution_count": 14,
   "id": "36e050d3-0eda-428b-8272-a02bd2c7f22c",
   "metadata": {},
   "outputs": [],
   "source": [
    "# Create a new column \"is_english\" to indicate whether the review is wrote in English\n",
    "#df_review_after202204[\"is_english\"] = df_review_after202204[\"review\"].apply(is_english)\n",
    "df_review_after202204.loc[:, \"is_english\"] = df_review_after202204[\"review\"].apply(is_english)\n",
    "\n",
    "# Keep English reviews and save into df_review_english dataset\n",
    "df_review_english = df_review_after202204[df_review_after202204[\"is_english\"]]\n",
    "df_review_english = df_review_english.reset_index(drop=True)"
   ]
  },
  {
   "cell_type": "code",
   "execution_count": 15,
   "id": "a2bb7129-9cfd-4c9f-bd49-8596aaf725b6",
   "metadata": {},
   "outputs": [
    {
     "name": "stdout",
     "output_type": "stream",
     "text": [
      "Currently, hotel dataset has 361 rows.\n",
      "Currently, review dataset has 31599 rows, deleted 680 rows which are not in English.\n"
     ]
    }
   ],
   "source": [
    "print(f\"Currently, hotel dataset has {len(df_hotel)} rows.\")\n",
    "print(f\"Currently, review dataset has {len(df_review_english)} rows, deleted {len(df_review_after202204) - len(df_review_english)} rows which are not in English.\")"
   ]
  },
  {
   "cell_type": "code",
   "execution_count": 16,
   "id": "731deef1-fc18-4c4c-b972-6b23da44dc86",
   "metadata": {},
   "outputs": [
    {
     "data": {
      "text/html": [
       "<div>\n",
       "<style scoped>\n",
       "    .dataframe tbody tr th:only-of-type {\n",
       "        vertical-align: middle;\n",
       "    }\n",
       "\n",
       "    .dataframe tbody tr th {\n",
       "        vertical-align: top;\n",
       "    }\n",
       "\n",
       "    .dataframe thead th {\n",
       "        text-align: right;\n",
       "    }\n",
       "</style>\n",
       "<table border=\"1\" class=\"dataframe\">\n",
       "  <thead>\n",
       "    <tr style=\"text-align: right;\">\n",
       "      <th></th>\n",
       "      <th>hotel_id</th>\n",
       "      <th>hotel_name</th>\n",
       "      <th>rating_cat</th>\n",
       "      <th>reviewer</th>\n",
       "      <th>country</th>\n",
       "      <th>group_name</th>\n",
       "      <th>room_type</th>\n",
       "      <th>stay_details</th>\n",
       "      <th>stay_date</th>\n",
       "      <th>review_score</th>\n",
       "      <th>review_score_cat</th>\n",
       "      <th>review_date</th>\n",
       "      <th>review_title</th>\n",
       "      <th>review</th>\n",
       "      <th>is_english</th>\n",
       "    </tr>\n",
       "  </thead>\n",
       "  <tbody>\n",
       "    <tr>\n",
       "      <th>0</th>\n",
       "      <td>1007</td>\n",
       "      <td>PARKROYAL on Kitchener Road, Singapore</td>\n",
       "      <td>9+ Exceptional</td>\n",
       "      <td>ravi</td>\n",
       "      <td>India</td>\n",
       "      <td>Couple</td>\n",
       "      <td>Superior Corner Room with 1 King Bed</td>\n",
       "      <td>Stayed 6 nights in January 2024</td>\n",
       "      <td>01/01/2024</td>\n",
       "      <td>9.6</td>\n",
       "      <td>Exceptional</td>\n",
       "      <td>2024-01-28</td>\n",
       "      <td>Gr8</td>\n",
       "      <td>Awesome in all aspects</td>\n",
       "      <td>True</td>\n",
       "    </tr>\n",
       "    <tr>\n",
       "      <th>1</th>\n",
       "      <td>1007</td>\n",
       "      <td>PARKROYAL on Kitchener Road, Singapore</td>\n",
       "      <td>9+ Exceptional</td>\n",
       "      <td>Pankaj</td>\n",
       "      <td>India</td>\n",
       "      <td>Couple</td>\n",
       "      <td>Superior Room with 1 King Bed</td>\n",
       "      <td>Stayed 3 nights in January 2024</td>\n",
       "      <td>01/01/2024</td>\n",
       "      <td>9.6</td>\n",
       "      <td>Exceptional</td>\n",
       "      <td>2024-01-23</td>\n",
       "      <td>Overall it was a good experience</td>\n",
       "      <td>Everything was good there except they dont hav...</td>\n",
       "      <td>True</td>\n",
       "    </tr>\n",
       "  </tbody>\n",
       "</table>\n",
       "</div>"
      ],
      "text/plain": [
       "   hotel_id                              hotel_name      rating_cat reviewer  \\\n",
       "0      1007  PARKROYAL on Kitchener Road, Singapore  9+ Exceptional     ravi   \n",
       "1      1007  PARKROYAL on Kitchener Road, Singapore  9+ Exceptional   Pankaj   \n",
       "\n",
       "  country group_name                             room_type  \\\n",
       "0   India     Couple  Superior Corner Room with 1 King Bed   \n",
       "1   India     Couple         Superior Room with 1 King Bed   \n",
       "\n",
       "                      stay_details   stay_date  review_score review_score_cat  \\\n",
       "0  Stayed 6 nights in January 2024  01/01/2024           9.6      Exceptional   \n",
       "1  Stayed 3 nights in January 2024  01/01/2024           9.6      Exceptional   \n",
       "\n",
       "  review_date                       review_title  \\\n",
       "0  2024-01-28                                Gr8   \n",
       "1  2024-01-23  Overall it was a good experience    \n",
       "\n",
       "                                              review  is_english  \n",
       "0                             Awesome in all aspects        True  \n",
       "1  Everything was good there except they dont hav...        True  "
      ]
     },
     "execution_count": 16,
     "metadata": {},
     "output_type": "execute_result"
    }
   ],
   "source": [
    "df_review_english.head(2)"
   ]
  },
  {
   "cell_type": "markdown",
   "id": "893858f8-901c-4f90-947b-1f4b4b61345e",
   "metadata": {},
   "source": [
    "## 5) Correct wrong \"rating_cat\" category"
   ]
  },
  {
   "cell_type": "code",
   "execution_count": 17,
   "id": "9067d39d-94fd-46a7-a597-2f6d4e747c4a",
   "metadata": {},
   "outputs": [],
   "source": [
    "# Note:\n",
    "# rating_cat = \"9+ Exceptional\": review scores > 9\n",
    "# rating_cat = \"8-9 Excellent\": review scores > 8 and <= 9\n",
    "# rating_cat = \"7-8 Very Good\": review scores> 7 and <= 8\n",
    "# rating_cat = \"6-7 Good\": review scores > 6 and <= 7\n",
    "# rating_cat = \"<6 Below Expectation\": review scores <= 6"
   ]
  },
  {
   "cell_type": "code",
   "execution_count": 18,
   "id": "5c611830-dad2-452c-ae72-3a445bd87322",
   "metadata": {},
   "outputs": [],
   "source": [
    "# Copy \"rating_cat\" column and insert it into df_review_english dataset as \"old_rating_cat\" \n",
    "#df_review_english[\"old_rating_cat\"] = df_review_english[\"rating_cat\"].copy()\n",
    "df_review_english.loc[:, \"old_rating_cat\"] = df_review_english[\"rating_cat\"].copy()"
   ]
  },
  {
   "cell_type": "code",
   "execution_count": 19,
   "id": "6820974b-3b3d-4f55-a16a-9e99110c6990",
   "metadata": {},
   "outputs": [],
   "source": [
    "# Assign correct rating category based on above note\n",
    "df_review_english.loc[df_review_english[\"review_score\"] > 9, \"rating_cat\"] = \"9+ Exceptional\"\n",
    "df_review_english.loc[(df_review_english[\"review_score\"] > 8) & (df_review_english[\"review_score\"] <= 9), \"rating_cat\"] = \"8-9 Excellent\"\n",
    "df_review_english.loc[(df_review_english[\"review_score\"] > 7) & (df_review_english[\"review_score\"] <= 8), \"rating_cat\"] = \"7-8 Very Good\"\n",
    "df_review_english.loc[(df_review_english[\"review_score\"] > 6) & (df_review_english[\"review_score\"] <= 7), \"rating_cat\"] = \"6-7 Good\"\n",
    "df_review_english.loc[df_review_english[\"review_score\"] <= 6, \"rating_cat\"] = \"<6 Below Expectation\""
   ]
  },
  {
   "cell_type": "code",
   "execution_count": 20,
   "id": "6bb85bb4-f341-44eb-a576-76d668fb3fc9",
   "metadata": {},
   "outputs": [
    {
     "name": "stdout",
     "output_type": "stream",
     "text": [
      "Total rows with incorrect rating category: 4\n"
     ]
    }
   ],
   "source": [
    "# Count total number of rows with wrong rating category\n",
    "incorrect_cat = df_review_english.loc[df_review_english[\"rating_cat\"] != df_review_english[\"old_rating_cat\"]]\n",
    "\n",
    "print(f\"Total rows with incorrect rating category: {len(incorrect_cat)}\")"
   ]
  },
  {
   "cell_type": "code",
   "execution_count": 21,
   "id": "6365b657-ac1c-4e1b-b1bf-ba9b1eea781e",
   "metadata": {},
   "outputs": [
    {
     "data": {
      "text/html": [
       "<div>\n",
       "<style scoped>\n",
       "    .dataframe tbody tr th:only-of-type {\n",
       "        vertical-align: middle;\n",
       "    }\n",
       "\n",
       "    .dataframe tbody tr th {\n",
       "        vertical-align: top;\n",
       "    }\n",
       "\n",
       "    .dataframe thead th {\n",
       "        text-align: right;\n",
       "    }\n",
       "</style>\n",
       "<table border=\"1\" class=\"dataframe\">\n",
       "  <thead>\n",
       "    <tr style=\"text-align: right;\">\n",
       "      <th></th>\n",
       "      <th>hotel_id</th>\n",
       "      <th>hotel_name</th>\n",
       "      <th>rating_cat</th>\n",
       "      <th>reviewer</th>\n",
       "      <th>country</th>\n",
       "      <th>group_name</th>\n",
       "      <th>room_type</th>\n",
       "      <th>stay_details</th>\n",
       "      <th>stay_date</th>\n",
       "      <th>review_score</th>\n",
       "      <th>review_score_cat</th>\n",
       "      <th>review_date</th>\n",
       "      <th>review_title</th>\n",
       "      <th>review</th>\n",
       "      <th>is_english</th>\n",
       "      <th>old_rating_cat</th>\n",
       "    </tr>\n",
       "  </thead>\n",
       "  <tbody>\n",
       "    <tr>\n",
       "      <th>0</th>\n",
       "      <td>1007</td>\n",
       "      <td>PARKROYAL on Kitchener Road, Singapore</td>\n",
       "      <td>9+ Exceptional</td>\n",
       "      <td>ravi</td>\n",
       "      <td>India</td>\n",
       "      <td>Couple</td>\n",
       "      <td>Superior Corner Room with 1 King Bed</td>\n",
       "      <td>Stayed 6 nights in January 2024</td>\n",
       "      <td>01/01/2024</td>\n",
       "      <td>9.6</td>\n",
       "      <td>Exceptional</td>\n",
       "      <td>2024-01-28</td>\n",
       "      <td>Gr8</td>\n",
       "      <td>Awesome in all aspects</td>\n",
       "      <td>True</td>\n",
       "      <td>9+ Exceptional</td>\n",
       "    </tr>\n",
       "    <tr>\n",
       "      <th>1</th>\n",
       "      <td>1007</td>\n",
       "      <td>PARKROYAL on Kitchener Road, Singapore</td>\n",
       "      <td>9+ Exceptional</td>\n",
       "      <td>Pankaj</td>\n",
       "      <td>India</td>\n",
       "      <td>Couple</td>\n",
       "      <td>Superior Room with 1 King Bed</td>\n",
       "      <td>Stayed 3 nights in January 2024</td>\n",
       "      <td>01/01/2024</td>\n",
       "      <td>9.6</td>\n",
       "      <td>Exceptional</td>\n",
       "      <td>2024-01-23</td>\n",
       "      <td>Overall it was a good experience</td>\n",
       "      <td>Everything was good there except they dont hav...</td>\n",
       "      <td>True</td>\n",
       "      <td>9+ Exceptional</td>\n",
       "    </tr>\n",
       "  </tbody>\n",
       "</table>\n",
       "</div>"
      ],
      "text/plain": [
       "   hotel_id                              hotel_name      rating_cat reviewer  \\\n",
       "0      1007  PARKROYAL on Kitchener Road, Singapore  9+ Exceptional     ravi   \n",
       "1      1007  PARKROYAL on Kitchener Road, Singapore  9+ Exceptional   Pankaj   \n",
       "\n",
       "  country group_name                             room_type  \\\n",
       "0   India     Couple  Superior Corner Room with 1 King Bed   \n",
       "1   India     Couple         Superior Room with 1 King Bed   \n",
       "\n",
       "                      stay_details   stay_date  review_score review_score_cat  \\\n",
       "0  Stayed 6 nights in January 2024  01/01/2024           9.6      Exceptional   \n",
       "1  Stayed 3 nights in January 2024  01/01/2024           9.6      Exceptional   \n",
       "\n",
       "  review_date                       review_title  \\\n",
       "0  2024-01-28                                Gr8   \n",
       "1  2024-01-23  Overall it was a good experience    \n",
       "\n",
       "                                              review  is_english  \\\n",
       "0                             Awesome in all aspects        True   \n",
       "1  Everything was good there except they dont hav...        True   \n",
       "\n",
       "   old_rating_cat  \n",
       "0  9+ Exceptional  \n",
       "1  9+ Exceptional  "
      ]
     },
     "execution_count": 21,
     "metadata": {},
     "output_type": "execute_result"
    }
   ],
   "source": [
    "df_review_english.head(2)"
   ]
  },
  {
   "cell_type": "markdown",
   "id": "b39f628d-337a-4ded-bfa1-8ca08a8f021f",
   "metadata": {},
   "source": [
    "## 6) Sort df_review_english data by the specified columns"
   ]
  },
  {
   "cell_type": "code",
   "execution_count": 22,
   "id": "27e469ac-5a26-41dc-bf87-9b29c373a635",
   "metadata": {
    "tags": []
   },
   "outputs": [],
   "source": [
    "# Define category order for \"rating_cat\"\n",
    "cat_order = {\"9+ Exceptional\": 0, \"8-9 Excellent\": 1, \"7-8 Very Good\": 2, \"6-7 Good\": 3, \"<6 Below Expectation\": 4}\n",
    "\n",
    "# Create a new column \"cat_order\"\n",
    "#df_review_english[\"cat_order\"] = df_review_english[\"rating_cat\"].map(cat_order)\n",
    "df_review_english.loc[:, \"cat_order\"] = df_review_english[\"rating_cat\"].map(cat_order)\n",
    "\n",
    "\n",
    "# To sort reviews\n",
    "# 1) Sort df_review_english data according to the order of \"hotel_id\"\n",
    "# 2) Each hotel's reviews are sorted according to \"rating_cat\" based on cat_order\n",
    "# 3) Each \"rating_cat\" category is sorted by \"review_date\" by descending\n",
    "df_review_sorted = df_review_english.sort_values(by=[\"hotel_id\", \"cat_order\", \"review_date\"], ascending=[True, True, False])\n",
    "df_review_sorted = df_review_sorted.reset_index(drop=True)"
   ]
  },
  {
   "cell_type": "code",
   "execution_count": 23,
   "id": "98bed5c5-5745-4ce3-b09c-85aef8b953c7",
   "metadata": {},
   "outputs": [],
   "source": [
    "# Convert \"review_date\" as \"dd/mm/yyyy\" date format\n",
    "df_review_sorted[\"review_date\"] = df_review_sorted[\"review_date\"].dt.strftime(\"%d/%m/%Y\")"
   ]
  },
  {
   "cell_type": "markdown",
   "id": "e6e2a847-a09e-41af-8f16-adb99de317b8",
   "metadata": {},
   "source": [
    "## 7) Other"
   ]
  },
  {
   "cell_type": "markdown",
   "id": "4a8930c4-bad9-42d5-a6a0-d68556e92bbc",
   "metadata": {},
   "source": [
    "#### a) For df_review_sorted dataset"
   ]
  },
  {
   "cell_type": "code",
   "execution_count": 24,
   "id": "cc0d3f1c-ded6-4ec8-9d19-82dc7ee801eb",
   "metadata": {},
   "outputs": [],
   "source": [
    "# Remove \"stay_length\" column if it already exists\n",
    "if \"stay_length\" in df_review_sorted.columns:\n",
    "    df_review_sorted = df_review_sorted.drop(columns=[\"stay_length\"])\n",
    "\n",
    "# Add an empty column \"stay_length\" after \"stay_details\" column\n",
    "df_review_sorted.insert(df_review_sorted.columns.get_loc(\"stay_details\") + 1, \"stay_length\", None)\n",
    "\n",
    "# Extract stay_length from \"stay_details\" column\n",
    "# and store extracted value into \"stay_length\" column\n",
    "df_review_sorted[\"stay_length\"] = df_review_sorted[\"stay_details\"].str.extract(\"(\\d+)\").astype(float)"
   ]
  },
  {
   "cell_type": "code",
   "execution_count": 25,
   "id": "67565e03-7d4d-4a87-b24f-463fc47c315e",
   "metadata": {},
   "outputs": [],
   "source": [
    "# Remove empty rows for \"reviewer\", \"country\", \"review_title\" and \"review\" columns\n",
    "df_review_sorted = df_review_sorted.dropna(subset=[\"reviewer\", \"country\", \"review_title\", \"review\"]).reset_index(drop=True)"
   ]
  },
  {
   "cell_type": "code",
   "execution_count": 26,
   "id": "0d8d7922-e73f-4c11-963b-f64d65677c89",
   "metadata": {},
   "outputs": [],
   "source": [
    "# Remove \"is_english\", \"old_rating_cat\", \"cat_order\" columns\n",
    "df_review_sorted = df_review_sorted.drop([\"is_english\", \"old_rating_cat\", \"cat_order\"], axis=1)"
   ]
  },
  {
   "cell_type": "code",
   "execution_count": 27,
   "id": "f1b1d821-6326-4390-928d-fd047ee1e47d",
   "metadata": {},
   "outputs": [
    {
     "data": {
      "text/html": [
       "<div>\n",
       "<style scoped>\n",
       "    .dataframe tbody tr th:only-of-type {\n",
       "        vertical-align: middle;\n",
       "    }\n",
       "\n",
       "    .dataframe tbody tr th {\n",
       "        vertical-align: top;\n",
       "    }\n",
       "\n",
       "    .dataframe thead th {\n",
       "        text-align: right;\n",
       "    }\n",
       "</style>\n",
       "<table border=\"1\" class=\"dataframe\">\n",
       "  <thead>\n",
       "    <tr style=\"text-align: right;\">\n",
       "      <th></th>\n",
       "      <th>hotel_id</th>\n",
       "      <th>hotel_name</th>\n",
       "      <th>rating_cat</th>\n",
       "      <th>reviewer</th>\n",
       "      <th>country</th>\n",
       "      <th>group_name</th>\n",
       "      <th>room_type</th>\n",
       "      <th>stay_details</th>\n",
       "      <th>stay_length</th>\n",
       "      <th>stay_date</th>\n",
       "      <th>review_score</th>\n",
       "      <th>review_score_cat</th>\n",
       "      <th>review_date</th>\n",
       "      <th>review_title</th>\n",
       "      <th>review</th>\n",
       "    </tr>\n",
       "  </thead>\n",
       "  <tbody>\n",
       "    <tr>\n",
       "      <th>0</th>\n",
       "      <td>1007</td>\n",
       "      <td>PARKROYAL on Kitchener Road, Singapore</td>\n",
       "      <td>9+ Exceptional</td>\n",
       "      <td>ravi</td>\n",
       "      <td>India</td>\n",
       "      <td>Couple</td>\n",
       "      <td>Superior Corner Room with 1 King Bed</td>\n",
       "      <td>Stayed 6 nights in January 2024</td>\n",
       "      <td>6.0</td>\n",
       "      <td>01/01/2024</td>\n",
       "      <td>9.6</td>\n",
       "      <td>Exceptional</td>\n",
       "      <td>28/01/2024</td>\n",
       "      <td>Gr8</td>\n",
       "      <td>Awesome in all aspects</td>\n",
       "    </tr>\n",
       "    <tr>\n",
       "      <th>1</th>\n",
       "      <td>1007</td>\n",
       "      <td>PARKROYAL on Kitchener Road, Singapore</td>\n",
       "      <td>9+ Exceptional</td>\n",
       "      <td>Pankaj</td>\n",
       "      <td>India</td>\n",
       "      <td>Couple</td>\n",
       "      <td>Superior Room with 1 King Bed</td>\n",
       "      <td>Stayed 3 nights in January 2024</td>\n",
       "      <td>3.0</td>\n",
       "      <td>01/01/2024</td>\n",
       "      <td>9.6</td>\n",
       "      <td>Exceptional</td>\n",
       "      <td>23/01/2024</td>\n",
       "      <td>Overall it was a good experience</td>\n",
       "      <td>Everything was good there except they dont hav...</td>\n",
       "    </tr>\n",
       "  </tbody>\n",
       "</table>\n",
       "</div>"
      ],
      "text/plain": [
       "   hotel_id                              hotel_name      rating_cat reviewer  \\\n",
       "0      1007  PARKROYAL on Kitchener Road, Singapore  9+ Exceptional     ravi   \n",
       "1      1007  PARKROYAL on Kitchener Road, Singapore  9+ Exceptional   Pankaj   \n",
       "\n",
       "  country group_name                             room_type  \\\n",
       "0   India     Couple  Superior Corner Room with 1 King Bed   \n",
       "1   India     Couple         Superior Room with 1 King Bed   \n",
       "\n",
       "                      stay_details  stay_length   stay_date  review_score  \\\n",
       "0  Stayed 6 nights in January 2024          6.0  01/01/2024           9.6   \n",
       "1  Stayed 3 nights in January 2024          3.0  01/01/2024           9.6   \n",
       "\n",
       "  review_score_cat review_date                       review_title  \\\n",
       "0      Exceptional  28/01/2024                                Gr8   \n",
       "1      Exceptional  23/01/2024  Overall it was a good experience    \n",
       "\n",
       "                                              review  \n",
       "0                             Awesome in all aspects  \n",
       "1  Everything was good there except they dont hav...  "
      ]
     },
     "execution_count": 27,
     "metadata": {},
     "output_type": "execute_result"
    }
   ],
   "source": [
    "df_review_sorted.head(2)"
   ]
  },
  {
   "cell_type": "markdown",
   "id": "b5c412a0-ad87-40fe-8b2a-440c304c5daf",
   "metadata": {},
   "source": [
    "#### b) For df_hotel dataset"
   ]
  },
  {
   "cell_type": "code",
   "execution_count": 28,
   "id": "f7c1c34e-5d9f-4acb-a62d-271f478b1c45",
   "metadata": {},
   "outputs": [],
   "source": [
    "# Change all column names to lower case and replace Spaces with underscores\n",
    "df_hotel.columns = df_hotel.columns.str.lower().str.replace(' ', '_')"
   ]
  },
  {
   "cell_type": "code",
   "execution_count": 29,
   "id": "ebe45b63-daea-4947-b8a6-5bcd78ce2a0f",
   "metadata": {},
   "outputs": [
    {
     "data": {
      "text/html": [
       "<div>\n",
       "<style scoped>\n",
       "    .dataframe tbody tr th:only-of-type {\n",
       "        vertical-align: middle;\n",
       "    }\n",
       "\n",
       "    .dataframe tbody tr th {\n",
       "        vertical-align: top;\n",
       "    }\n",
       "\n",
       "    .dataframe thead th {\n",
       "        text-align: right;\n",
       "    }\n",
       "</style>\n",
       "<table border=\"1\" class=\"dataframe\">\n",
       "  <thead>\n",
       "    <tr style=\"text-align: right;\">\n",
       "      <th></th>\n",
       "      <th>hotel_id</th>\n",
       "      <th>hotel_name</th>\n",
       "      <th>hotel_url</th>\n",
       "      <th>hotel_address</th>\n",
       "      <th>total_reviews</th>\n",
       "      <th>overall_rating</th>\n",
       "      <th>overall_rating_category</th>\n",
       "      <th>rating_location</th>\n",
       "      <th>rating_service</th>\n",
       "      <th>rating_cleanliness</th>\n",
       "      <th>rating_room_comfort_and_quality</th>\n",
       "      <th>rating_value_for_money</th>\n",
       "      <th>rating_facilities</th>\n",
       "    </tr>\n",
       "  </thead>\n",
       "  <tbody>\n",
       "    <tr>\n",
       "      <th>0</th>\n",
       "      <td>408551</td>\n",
       "      <td>Dorsett Singapore</td>\n",
       "      <td>https://www.agoda.com/dorsett-singapore/hotel/...</td>\n",
       "      <td>333 New Bridge Road, Chinatown, Singapore, Sin...</td>\n",
       "      <td>10337.0</td>\n",
       "      <td>8.2</td>\n",
       "      <td>Excellent</td>\n",
       "      <td>9.0</td>\n",
       "      <td>8.4</td>\n",
       "      <td>8.3</td>\n",
       "      <td>8.1</td>\n",
       "      <td>8.1</td>\n",
       "      <td>7.9</td>\n",
       "    </tr>\n",
       "    <tr>\n",
       "      <th>1</th>\n",
       "      <td>1635</td>\n",
       "      <td>M Hotel Singapore</td>\n",
       "      <td>https://www.agoda.com/m-hotel/hotel/singapore-...</td>\n",
       "      <td>81 Anson Road, CBD, Singapore, Singapore, 079908</td>\n",
       "      <td>9034.0</td>\n",
       "      <td>8.1</td>\n",
       "      <td>Excellent</td>\n",
       "      <td>8.2</td>\n",
       "      <td>8.1</td>\n",
       "      <td>8.5</td>\n",
       "      <td>8.2</td>\n",
       "      <td>8.0</td>\n",
       "      <td>8.0</td>\n",
       "    </tr>\n",
       "  </tbody>\n",
       "</table>\n",
       "</div>"
      ],
      "text/plain": [
       "   hotel_id         hotel_name  \\\n",
       "0    408551  Dorsett Singapore   \n",
       "1      1635  M Hotel Singapore   \n",
       "\n",
       "                                           hotel_url  \\\n",
       "0  https://www.agoda.com/dorsett-singapore/hotel/...   \n",
       "1  https://www.agoda.com/m-hotel/hotel/singapore-...   \n",
       "\n",
       "                                       hotel_address  total_reviews  \\\n",
       "0  333 New Bridge Road, Chinatown, Singapore, Sin...        10337.0   \n",
       "1   81 Anson Road, CBD, Singapore, Singapore, 079908         9034.0   \n",
       "\n",
       "   overall_rating overall_rating_category  rating_location  rating_service  \\\n",
       "0             8.2               Excellent              9.0             8.4   \n",
       "1             8.1               Excellent              8.2             8.1   \n",
       "\n",
       "   rating_cleanliness  rating_room_comfort_and_quality  \\\n",
       "0                 8.3                              8.1   \n",
       "1                 8.5                              8.2   \n",
       "\n",
       "   rating_value_for_money  rating_facilities  \n",
       "0                     8.1                7.9  \n",
       "1                     8.0                8.0  "
      ]
     },
     "execution_count": 29,
     "metadata": {},
     "output_type": "execute_result"
    }
   ],
   "source": [
    "df_hotel.head(2)"
   ]
  },
  {
   "cell_type": "markdown",
   "id": "5f3d1d14-5288-4776-9b2c-2f445e7b403e",
   "metadata": {},
   "source": [
    "## 8) Save latest dataset as csv file"
   ]
  },
  {
   "cell_type": "code",
   "execution_count": 30,
   "id": "79f47058-2cc6-4988-9476-439d6d2deeb1",
   "metadata": {},
   "outputs": [],
   "source": [
    "# Save latest dataset as csv\n",
    "df_hotel.to_csv(SRC_PATH + \"agoda_hotels_details_valid.csv\", index=False, encoding=\"utf-8\")\n",
    "df_review_sorted.to_csv(SRC_PATH + \"agoda_reviews_details_valid.csv\", index=False, encoding=\"utf-8\")"
   ]
  },
  {
   "cell_type": "code",
   "execution_count": null,
   "id": "8c657979-c0a2-4bac-a9e8-32ba5f21f7a7",
   "metadata": {},
   "outputs": [],
   "source": []
  }
 ],
 "metadata": {
  "kernelspec": {
   "display_name": "Python 3 (ipykernel)",
   "language": "python",
   "name": "python3"
  },
  "language_info": {
   "codemirror_mode": {
    "name": "ipython",
    "version": 3
   },
   "file_extension": ".py",
   "mimetype": "text/x-python",
   "name": "python",
   "nbconvert_exporter": "python",
   "pygments_lexer": "ipython3",
   "version": "3.11.1"
  }
 },
 "nbformat": 4,
 "nbformat_minor": 5
}

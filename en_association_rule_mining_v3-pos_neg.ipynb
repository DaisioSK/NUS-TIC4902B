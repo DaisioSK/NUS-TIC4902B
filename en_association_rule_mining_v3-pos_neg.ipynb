{
 "cells": [
  {
   "cell_type": "code",
   "execution_count": null,
   "id": "aa85fc22-23ef-4bf6-b88e-a01de05fd1bb",
   "metadata": {},
   "outputs": [],
   "source": [
    "import numpy as np\n",
    "import pandas as pd\n",
    "\n",
    "from apyori import apriori\n",
    "import networkx as nx\n",
    "import matplotlib.pyplot as plt\n",
    "from matplotlib.colors import LinearSegmentedColormap, Normalize\n",
    "from matplotlib.font_manager import FontProperties\n",
    "\n",
    "from datetime import datetime\n",
    "import en_nlp_utils"
   ]
  },
  {
   "cell_type": "code",
   "execution_count": null,
   "id": "12788efb-1ee0-456f-b6a5-98b6c4b6b141",
   "metadata": {},
   "outputs": [
    {
     "name": "stdout",
     "output_type": "stream",
     "text": [
      "Text processing started at 2024-06-29 17:37:58.250003\n"
     ]
    }
   ],
   "source": [
    "# Define default source path\n",
    "SRC_PATH = \"src/\"\n",
    "\n",
    "start_time = datetime.now()\n",
    "print(\"Text processing started at {}\".format(start_time))"
   ]
  },
  {
   "cell_type": "code",
   "execution_count": null,
   "id": "96ae3a2c-4707-4b96-86e3-241b00ae5360",
   "metadata": {},
   "outputs": [],
   "source": [
    "# Load dataset\n",
    "df_review = pd.read_csv(SRC_PATH + \"en_hotel_review.csv\")\n",
    "\n",
    "# Check NULL values\n",
    "en_nlp_utils.check_null(df_review, \"df_review\")"
   ]
  },
  {
   "cell_type": "code",
   "execution_count": null,
   "id": "71ee90e8-921e-4118-93f5-cec3f14bb8db",
   "metadata": {},
   "outputs": [],
   "source": [
    "# Filter positive and negative reviews and save into different dataframe\n",
    "df_pos = df_review[df_review[\"sentiment\"] == \"positive\"].reset_index(drop=True)\n",
    "df_neg = df_review[df_review[\"sentiment\"] == \"negative\"].reset_index(drop=True)"
   ]
  },
  {
   "cell_type": "markdown",
   "id": "99b4bfd7-c77e-4a3f-9e86-161ded937440",
   "metadata": {},
   "source": [
    "## 1) Association Rule Mining"
   ]
  },
  {
   "cell_type": "markdown",
   "id": "b8cdd892-e4ce-421b-88f4-c45b72b79655",
   "metadata": {},
   "source": [
    "### a) Helper functions"
   ]
  },
  {
   "cell_type": "code",
   "execution_count": null,
   "id": "137026e3-96a9-4be8-b608-50c56108d63d",
   "metadata": {},
   "outputs": [],
   "source": [
    "# Function to convert the input value of a string type to a list of words\n",
    "def process_all_words(value):\n",
    "    if isinstance(value, str):\n",
    "        return value.split()\n",
    "    return []\n",
    "\n",
    "\n",
    "# Function to discover association rules between item sets in a data set\n",
    "# and to represent these rules as a graphical network for visualization\n",
    "def find_association_rules(target_text, min_support=0.01, min_confidence=0.3, min_lift=3, min_length=2):\n",
    "    \n",
    "    # Process target_text: split each string into a list of words\n",
    "    text = target_text.apply(process_all_words)\n",
    "    text = [x for x in text if x != []]  # Remove empty lists\n",
    "    \n",
    "    # Find association rules using Apriori algorithm\n",
    "    association_rules = apriori(text, min_support=min_support, min_confidence=min_confidence, \n",
    "                                min_lift=min_lift, min_length=min_length)\n",
    "    association_results = list(association_rules)\n",
    "    \n",
    "    # Initialize a directed graph\n",
    "    G = nx.DiGraph()\n",
    "    \n",
    "    # Summarize association rules and add edges to the graph\n",
    "    rules_summary = [{\n",
    "        \"antecedent\": list(item[2][0][0]),\n",
    "        \"consequent\": list(item[2][0][1]),\n",
    "        \"support\": round(item[1], 4),\n",
    "        \"confidence\": round(item[2][0][2], 4),\n",
    "        \"lift\": round(item[2][0][3], 4),\n",
    "    } for item in association_results]\n",
    "    \n",
    "    print(f\"Success. {len(rules_summary)} rules found.\")\n",
    "    print(\"========================================\")\n",
    "    \n",
    "    # Print and add edges to the graph\n",
    "    for rule in rules_summary:\n",
    "        print(f\"Rule: {rule['antecedent']} => {rule['consequent']}\")\n",
    "        print(\"Support: \" + str(rule[\"support\"]))\n",
    "        print(\"Confidence: \" + str(rule[\"confidence\"]))\n",
    "        print(\"Lift: \" + str(rule[\"lift\"]))\n",
    "        print(\"----------------------------------------\")\n",
    "        \n",
    "        # Add edges to the graph\n",
    "        for ant in rule[\"antecedent\"]:\n",
    "            for con in rule[\"consequent\"]:\n",
    "                G.add_edge(ant, con, weight=rule[\"lift\"], support=rule[\"support\"], confidence=rule[\"confidence\"])\n",
    "\n",
    "    # Check if there are any edges to plot\n",
    "    edges = G.edges(data=True)\n",
    "    if not edges:\n",
    "        print(\"No edges to plot. Exiting visualization.\")\n",
    "        return\n",
    "    \n",
    "    # Create a custom colormap\n",
    "    colors = plt.cm.Blues(np.linspace(0.5, 1, 256))\n",
    "    new_cmap = LinearSegmentedColormap.from_list(\"new_blues\", colors)\n",
    "    \n",
    "    # Draw the network graph\n",
    "    pos = nx.spring_layout(G, k=1, iterations=15)  # Adjust layout parameters for a more compact graph\n",
    "    plt.figure(figsize=(12, 12))  # Increase figure size for better visibility\n",
    "    \n",
    "    # Node color and size\n",
    "    node_color = \"skyblue\"\n",
    "    node_size = 3000\n",
    "    \n",
    "    # Edge width and color\n",
    "    edge_color = [d[\"weight\"] for (u, v, d) in edges]\n",
    "    \n",
    "    # Draw nodes and edges\n",
    "    nx.draw_networkx_nodes(G, pos, node_size=node_size, node_color=node_color)\n",
    "    \n",
    "    # Function to shorten edges to prevent overlap with nodes\n",
    "    def shorten_edge(pos, src, dst, shrink_factor=0.1):\n",
    "        \"\"\"Shorten edges to prevent overlap with nodes\"\"\"\n",
    "        x1, y1 = pos[src]\n",
    "        x2, y2 = pos[dst]\n",
    "        new_x2 = x1 + (x2 - x1) * (1 - shrink_factor)\n",
    "        new_y2 = y1 + (y2 - y1) * (1 - shrink_factor)\n",
    "        return (x1, y1), (new_x2, new_y2)\n",
    "    \n",
    "    new_edges = []\n",
    "    for src, dst, data in edges:\n",
    "        new_edges.append((*shorten_edge(pos, src, dst), data))\n",
    "    \n",
    "    # Draw edges with shortened positions\n",
    "    for ((x1, y1), (x2, y2), data) in new_edges:\n",
    "        plt.arrow(x1, y1, x2 - x1, y2 - y1, color=new_cmap(Normalize(vmin=min(edge_color), \n",
    "                                                                     vmax=max(edge_color))(data[\"weight\"])),\n",
    "            alpha=0.8, head_width=0.05, head_length=0.1, length_includes_head=True, width=0.01)\n",
    "        # Show lift value at the midpoint of the edge\n",
    "        plt.text((x1 + x2) / 2, (y1 + y2) / 2, f\"{data['weight']:.2f}\", fontsize=10, \n",
    "                 horizontalalignment=\"center\", verticalalignment=\"center\")\n",
    "\n",
    "    # Draw labels with specified font\n",
    "    for node, (x, y) in pos.items():\n",
    "        plt.text(x, y, node, fontsize=12, horizontalalignment=\"center\", verticalalignment=\"center\")\n",
    "    \n",
    "    # Adjust color mapping for better visibility of the lightest color\n",
    "    norm = Normalize(vmin=min(edge_color), vmax=max(edge_color))\n",
    "    sm = plt.cm.ScalarMappable(cmap=new_cmap, norm=norm)\n",
    "    sm.set_array([])\n",
    "    plt.colorbar(sm, ax=plt.gca())\n",
    "    \n",
    "    plt.title(\"Association Rules Network\")\n",
    "    plt.show()"
   ]
  },
  {
   "cell_type": "markdown",
   "id": "de76faa8-807f-48b6-80ac-3e543c7b6894",
   "metadata": {},
   "source": [
    "### b) Find association using whole cleaned reviews"
   ]
  },
  {
   "cell_type": "markdown",
   "id": "d1b3b267-1e72-4a32-9644-5e7ecdd71aac",
   "metadata": {},
   "source": [
    "#### For Positive Reviews"
   ]
  },
  {
   "cell_type": "code",
   "execution_count": null,
   "id": "e4965828-7f2e-4f25-b247-f54515e3dc27",
   "metadata": {},
   "outputs": [],
   "source": [
    "target_text = \"review_cleaned_v3\"\n",
    "\n",
    "# Remove rows when target_text is NULL\n",
    "df_target_text = df_pos.dropna(subset=[target_text]).reset_index(drop=True)\n",
    "print(f\"Length of df_pos: {len(df_pos)}\")\n",
    "print(f\"Length of df_target_text: {len(df_target_text)}\")\n",
    "\n",
    "# Find association\n",
    "find_association_rules(df_target_text[target_text], 0.01, 0.3, 10)"
   ]
  },
  {
   "cell_type": "markdown",
   "id": "7c184292-0bb1-49ad-bbb8-c47b1c44ab0f",
   "metadata": {},
   "source": [
    "#### For Negative Reviews"
   ]
  },
  {
   "cell_type": "code",
   "execution_count": null,
   "id": "a9f7d3ba-3f60-4981-900d-489febcf1774",
   "metadata": {},
   "outputs": [],
   "source": [
    "# Remove rows when target_text is NULL\n",
    "df_target_text = df_neg.dropna(subset=[target_text]).reset_index(drop=True)\n",
    "print(f\"Length of df_neg: {len(df_neg)}\")\n",
    "print(f\"Length of df_target_text: {len(df_target_text)}\")\n",
    "\n",
    "# Find association\n",
    "find_association_rules(df_target_text[target_text])"
   ]
  },
  {
   "cell_type": "markdown",
   "id": "b32e6a0f-9350-4ae2-8cf9-7470112f25c4",
   "metadata": {},
   "source": [
    "### c) Find association using words by POS tagging"
   ]
  },
  {
   "cell_type": "markdown",
   "id": "a82f1b88-8eb5-453d-b1e2-ee5505ee6e9b",
   "metadata": {},
   "source": [
    "#### For Positive Reviews"
   ]
  },
  {
   "cell_type": "code",
   "execution_count": null,
   "id": "9da57486-61fc-4da2-898d-067feae319f7",
   "metadata": {},
   "outputs": [],
   "source": [
    "# Remove rows when \"ADJ\" is NULL\n",
    "df_tag = df_pos.dropna(subset=[\"ADJ\"]).reset_index(drop=True)\n",
    "print(f\"Length of ADJ: {len(df_tag)}\")\n",
    "\n",
    "# Find association\n",
    "find_association_rules(df_tag[\"ADJ\"], 0.0005, 0.5, 10)"
   ]
  },
  {
   "cell_type": "code",
   "execution_count": null,
   "id": "e5ddae9d-3627-4fd7-b2eb-32837d5299ed",
   "metadata": {},
   "outputs": [],
   "source": [
    "# Remove rows when \"ADV\" is NULL\n",
    "df_tag = df_pos.dropna(subset=[\"ADV\"]).reset_index(drop=True)\n",
    "print(f\"Length of ADV: {len(df_tag)}\")\n",
    "\n",
    "# Find association\n",
    "find_association_rules(df_tag[\"ADV\"], 0.0005, 0.3, 10)"
   ]
  },
  {
   "cell_type": "code",
   "execution_count": null,
   "id": "d62c0034-19c8-4939-ba92-c86d35e0bee0",
   "metadata": {},
   "outputs": [],
   "source": [
    "# Remove rows when \"NOUN\" is NULL\n",
    "df_tag = df_pos.dropna(subset=[\"NOUN\"]).reset_index(drop=True)\n",
    "print(f\"Length of NOUN: {len(df_tag)}\")\n",
    "\n",
    "# Find association\n",
    "find_association_rules(df_tag[\"NOUN\"], 0.001, 0.6, 30)"
   ]
  },
  {
   "cell_type": "code",
   "execution_count": null,
   "id": "478f48b4-46f3-472b-93bd-3ed5015ad048",
   "metadata": {},
   "outputs": [],
   "source": [
    "# Remove rows when \"VERB\" is NULL\n",
    "df_tag = df_pos.dropna(subset=[\"VERB\"]).reset_index(drop=True)\n",
    "print(f\"Length of VERB: {len(df_tag)}\")\n",
    "\n",
    "# Find association\n",
    "find_association_rules(df_tag[\"VERB\"], 0.0005, 0.3, 10)"
   ]
  },
  {
   "cell_type": "code",
   "execution_count": null,
   "id": "54addafb-1c07-4554-ab3d-9c11c8023f3a",
   "metadata": {},
   "outputs": [],
   "source": [
    "# Remove rows when \"PROPN\" is NULL\n",
    "df_tag = df_pos.dropna(subset=[\"PROPN\"]).reset_index(drop=True)\n",
    "print(f\"Length of PROPN: {len(df_tag)}\")\n",
    "\n",
    "# Find association\n",
    "find_association_rules(df_tag[\"PROPN\"], 0.001, 0.8, 30)"
   ]
  },
  {
   "cell_type": "code",
   "execution_count": null,
   "id": "0d48223c-301e-4a9b-b651-33d3f319e464",
   "metadata": {},
   "outputs": [],
   "source": [
    "# Remove rows when \"DET\" is NULL\n",
    "df_tag = df_pos.dropna(subset=[\"DET\"]).reset_index(drop=True)\n",
    "print(f\"Length of DET: {len(df_tag)}\")\n",
    "\n",
    "# Find association\n",
    "find_association_rules(df_tag[\"DET\"], 0.0005, 0.3, 10)"
   ]
  },
  {
   "cell_type": "code",
   "execution_count": null,
   "id": "448b79c4-7a51-482b-b7a3-e87896154cd2",
   "metadata": {},
   "outputs": [],
   "source": [
    "# Remove rows when \"NUM\" is NULL\n",
    "df_tag = df_pos.dropna(subset=[\"NUM\"]).reset_index(drop=True)\n",
    "print(f\"Length of NUM: {len(df_tag)}\")\n",
    "\n",
    "# Find association\n",
    "find_association_rules(df_tag[\"NUM\"], 0.0005, 0.3, 10)"
   ]
  },
  {
   "cell_type": "markdown",
   "id": "ea60b353-dc01-41d1-9400-4beb222b34ce",
   "metadata": {},
   "source": [
    "#### For Negative Reviews"
   ]
  },
  {
   "cell_type": "code",
   "execution_count": null,
   "id": "76b256ad-e271-48e8-915d-6ae686193e9d",
   "metadata": {},
   "outputs": [],
   "source": [
    "# Remove rows when \"ADJ\" is NULL\n",
    "df_tag = df_neg.dropna(subset=[\"ADJ\"]).reset_index(drop=True)\n",
    "print(f\"Length of ADJ: {len(df_tag)}\")\n",
    "\n",
    "# Find association\n",
    "find_association_rules(df_tag[\"ADJ\"], 0.0008, 0.5, 10)"
   ]
  },
  {
   "cell_type": "code",
   "execution_count": null,
   "id": "bf609f92-4558-45f7-a832-2b6b1dc6bb1a",
   "metadata": {},
   "outputs": [],
   "source": [
    "# Remove rows when \"ADV\" is NULL\n",
    "df_tag = df_neg.dropna(subset=[\"ADV\"]).reset_index(drop=True)\n",
    "print(f\"Length of ADV: {len(df_tag)}\")\n",
    "\n",
    "# Find association\n",
    "find_association_rules(df_tag[\"ADV\"], 0.0008, 0.8, 50)"
   ]
  },
  {
   "cell_type": "code",
   "execution_count": null,
   "id": "52067f78-5a58-4c1d-be9a-14bc9815e6d0",
   "metadata": {},
   "outputs": [],
   "source": [
    "# Remove rows when \"NOUN\" is NULL\n",
    "df_tag = df_neg.dropna(subset=[\"NOUN\"]).reset_index(drop=True)\n",
    "print(f\"Length of NOUN: {len(df_tag)}\")\n",
    "\n",
    "# Find association\n",
    "find_association_rules(df_tag[\"NOUN\"], 0.001, 0.8, 30)"
   ]
  },
  {
   "cell_type": "code",
   "execution_count": null,
   "id": "f3aa2449-4afb-4bb7-8fc3-1858bd11951f",
   "metadata": {},
   "outputs": [],
   "source": [
    "# Remove rows when \"VERB\" is NULL\n",
    "df_tag = df_neg.dropna(subset=[\"VERB\"]).reset_index(drop=True)\n",
    "print(f\"Length of VERB: {len(df_tag)}\")\n",
    "\n",
    "# Find association\n",
    "find_association_rules(df_tag[\"VERB\"], 0.001, 0.3, 10)"
   ]
  },
  {
   "cell_type": "code",
   "execution_count": null,
   "id": "a0299f7b-6532-40d0-ba80-85ffc9a4bd5e",
   "metadata": {},
   "outputs": [],
   "source": [
    "# Remove rows when \"PROPN\" is NULL\n",
    "df_tag = df_neg.dropna(subset=[\"PROPN\"]).reset_index(drop=True)\n",
    "print(f\"Length of PROPN: {len(df_tag)}\")\n",
    "\n",
    "# Find association\n",
    "find_association_rules(df_tag[\"PROPN\"], 0.002, 0.3, 10)"
   ]
  },
  {
   "cell_type": "code",
   "execution_count": null,
   "id": "5311b085-fec9-4438-949f-016b856935ca",
   "metadata": {},
   "outputs": [],
   "source": [
    "# Remove rows when \"DET\" is NULL\n",
    "df_tag = df_neg.dropna(subset=[\"DET\"]).reset_index(drop=True)\n",
    "print(f\"Length of DET: {len(df_tag)}\")\n",
    "\n",
    "# Find association\n",
    "find_association_rules(df_tag[\"DET\"], 0.001, 0.3, 10)"
   ]
  },
  {
   "cell_type": "code",
   "execution_count": null,
   "id": "8d702201-8bf1-4ad3-ae9d-3f447bc3a121",
   "metadata": {},
   "outputs": [],
   "source": [
    "# Remove rows when \"NUM\" is NULL\n",
    "df_tag = df_neg.dropna(subset=[\"NUM\"]).reset_index(drop=True)\n",
    "print(f\"Length of NUM: {len(df_tag)}\")\n",
    "\n",
    "# Find association\n",
    "find_association_rules(df_tag[\"NUM\"], 0.001, 0.3, 10)"
   ]
  },
  {
   "cell_type": "code",
   "execution_count": null,
   "id": "8ce27b74-ec10-42ec-851a-ca511798f9f9",
   "metadata": {},
   "outputs": [],
   "source": [
    "end_time = datetime.now()\n",
    "print(\"Text processing ended at {}\".format(end_time))\n",
    "print(\"Text processing spent {}\".format(end_time - start_time))"
   ]
  },
  {
   "cell_type": "code",
   "execution_count": null,
   "id": "0cac4ebb-b975-482f-977f-7f5683692f8d",
   "metadata": {},
   "outputs": [],
   "source": []
  }
 ],
 "metadata": {
  "kernelspec": {
   "display_name": "Python 3 (ipykernel)",
   "language": "python",
   "name": "python3"
  },
  "language_info": {
   "codemirror_mode": {
    "name": "ipython",
    "version": 3
   },
   "file_extension": ".py",
   "mimetype": "text/x-python",
   "name": "python",
   "nbconvert_exporter": "python",
   "pygments_lexer": "ipython3",
   "version": "3.11.1"
  }
 },
 "nbformat": 4,
 "nbformat_minor": 5
}

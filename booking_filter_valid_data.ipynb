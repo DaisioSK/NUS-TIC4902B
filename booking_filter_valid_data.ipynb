{
 "cells": [
  {
   "cell_type": "code",
   "execution_count": 64,
   "id": "8cf14c94-0a5d-450f-af41-73f242250c31",
   "metadata": {},
   "outputs": [
    {
     "name": "stdout",
     "output_type": "stream",
     "text": [
      "Requirement already satisfied: langid in /Library/Frameworks/Python.framework/Versions/3.11/lib/python3.11/site-packages (1.1.6)\n",
      "Requirement already satisfied: numpy in /Library/Frameworks/Python.framework/Versions/3.11/lib/python3.11/site-packages (from langid) (1.24.2)\n",
      "\n",
      "\u001b[1m[\u001b[0m\u001b[34;49mnotice\u001b[0m\u001b[1;39;49m]\u001b[0m\u001b[39;49m A new release of pip is available: \u001b[0m\u001b[31;49m23.2.1\u001b[0m\u001b[39;49m -> \u001b[0m\u001b[32;49m24.0\u001b[0m\n",
      "\u001b[1m[\u001b[0m\u001b[34;49mnotice\u001b[0m\u001b[1;39;49m]\u001b[0m\u001b[39;49m To update, run: \u001b[0m\u001b[32;49mpip install --upgrade pip\u001b[0m\n"
     ]
    }
   ],
   "source": [
    "!pip install langid\n",
    "import numpy as np\n",
    "import pandas as pd\n",
    "import langid"
   ]
  },
  {
   "cell_type": "code",
   "execution_count": 65,
   "id": "98d921c0-6268-4c63-8fbc-bc7c99cfdd93",
   "metadata": {},
   "outputs": [],
   "source": [
    "# Load dataset\n",
    "df_hotel = pd.read_csv(\"booking_hotel_details.csv\")\n",
    "df_review = pd.read_csv(\"booking_reviews_details.csv\")"
   ]
  },
  {
   "cell_type": "code",
   "execution_count": 66,
   "id": "d90c2454-0544-47da-a379-9cc4b5508913",
   "metadata": {},
   "outputs": [
    {
     "name": "stdout",
     "output_type": "stream",
     "text": [
      "Currently, hotel dataset has 225 rows.\n",
      "Currently, review dataset has 6091 rows.\n"
     ]
    }
   ],
   "source": [
    "print(f\"Currently, hotel dataset has {len(df_hotel)} rows.\")\n",
    "print(f\"Currently, review dataset has {len(df_review)} rows.\")"
   ]
  },
  {
   "cell_type": "markdown",
   "id": "38d395ae-dc9e-454d-8483-55dc8e799b04",
   "metadata": {
    "tags": []
   },
   "source": [
    "## 1) converting the date to dd/mm/yyyy"
   ]
  },
  {
   "cell_type": "code",
   "execution_count": 67,
   "id": "9dbee4dd-ac6e-4ce7-80d1-b11a71bd2cbd",
   "metadata": {},
   "outputs": [],
   "source": [
    "df_review['Review_Date'] = pd.to_datetime(df_review['Review_Date'])\n",
    "df_review['Scraped_At'] = pd.to_datetime(df_review['Scraped_At'])\n",
    "df_review['Stay_Date'] = pd.to_datetime(df_review['Stay_Date'])\n",
    "# dd/mm/yyyy\n",
    "df_review['Review_Date'] = df_review['Review_Date'].dt.strftime('%d/%m/%Y')\n",
    "df_review['Scraped_At'] = df_review['Scraped_At'].dt.strftime('%d/%m/%Y')\n",
    "df_review['Stay_Date'] = df_review['Stay_Date'].dt.strftime('%d/%m/%Y')\n",
    "\n",
    "# Save merged_df dataset as csv\n",
    "df_review.to_csv(\"booking_reviews_details_final.csv\", index=False, encoding=\"utf-8\")\n",
    "df_review = pd.read_csv(\"booking_reviews_details_final.csv\")"
   ]
  },
  {
   "cell_type": "markdown",
   "id": "cf9142af-780a-4c46-8dfe-a7b637d30514",
   "metadata": {},
   "source": [
    "## 2) remove the rows with unvalid reviews"
   ]
  },
  {
   "cell_type": "code",
   "execution_count": 68,
   "id": "b8e8c7d9-af57-4351-bd40-def3a50c37a9",
   "metadata": {},
   "outputs": [],
   "source": [
    "# Remove rows of invalid review from df_review dataset\n",
    "df_review= df_review[~df_review['Unhappy_Review'].str.contains(\"There are no comments available for this review\", na=False)]"
   ]
  },
  {
   "cell_type": "code",
   "execution_count": 69,
   "id": "de987ed1-b52c-4d8f-acd4-81969f0c2122",
   "metadata": {},
   "outputs": [
    {
     "name": "stdout",
     "output_type": "stream",
     "text": [
      "Currently, hotel dataset has 225 rows.\n",
      "Currently, review dataset has 5537 rows.\n"
     ]
    }
   ],
   "source": [
    "print(f\"Currently, hotel dataset has {len(df_hotel)} rows.\")\n",
    "print(f\"Currently, review dataset has {len(df_review)} rows.\")"
   ]
  },
  {
   "cell_type": "markdown",
   "id": "2302eb47-f092-4e57-957d-6553b236445c",
   "metadata": {},
   "source": [
    "## 3) remove rows from df_review dataset when tourists stayed before April 2022 "
   ]
  },
  {
   "cell_type": "code",
   "execution_count": 70,
   "id": "336ad821-05b6-4c37-a878-5b276d75249d",
   "metadata": {},
   "outputs": [],
   "source": [
    "# Filter the dataset to only include stays on or after April 2022\n",
    "df_review['Stay_Date'] = pd.to_datetime(df_review['Stay_Date'], format='%d/%m/%Y')\n",
    "df_review = df_review[df_review['Stay_Date'] >= '2022-04-01']"
   ]
  },
  {
   "cell_type": "code",
   "execution_count": 71,
   "id": "909ff89b-5f85-4dfd-9389-a4433418343e",
   "metadata": {},
   "outputs": [
    {
     "name": "stdout",
     "output_type": "stream",
     "text": [
      "Currently, hotel dataset has 225 rows.\n",
      "Currently, review dataset has 5221 rows.\n"
     ]
    }
   ],
   "source": [
    "print(f\"Currently, hotel dataset has {len(df_hotel)} rows.\")\n",
    "print(f\"Currently, review dataset has {len(df_review)} rows.\")"
   ]
  },
  {
   "cell_type": "markdown",
   "id": "ca74cce2-1c49-4287-ba28-8c6eba214697",
   "metadata": {},
   "source": [
    "## 4) Remove rows when \"review\" is not in English"
   ]
  },
  {
   "cell_type": "code",
   "execution_count": 72,
   "id": "bd4c3dad-229d-4a8f-9aaa-e2e7e8107f79",
   "metadata": {},
   "outputs": [],
   "source": [
    "# Function to check whether text is English\n",
    "def is_english(text):\n",
    "    if pd.isna(text):\n",
    "        return False  # if value is null, return False\n",
    "    lang, _ = langid.classify(text)\n",
    "    return lang == \"en\""
   ]
  },
  {
   "cell_type": "code",
   "execution_count": 73,
   "id": "36e050d3-0eda-428b-8272-a02bd2c7f22c",
   "metadata": {},
   "outputs": [],
   "source": [
    "# Create a new column \"is_english\" to indicate whether the review is wrote in English\n",
    "\n",
    "df_review.loc[:, \"is_english\"] = df_review[\"Unhappy_Review\"].apply(is_english)\n",
    "df_review.loc[:, \"is_english\"] = df_review[\"Happy_Review\"].apply(is_english)\n",
    "\n",
    "# Keep English reviews and save into df_review_english dataset\n",
    "df_review_english = df_review[df_review[\"is_english\"]]\n",
    "df_review_english = df_review_english.reset_index(drop=True)"
   ]
  },
  {
   "cell_type": "code",
   "execution_count": 74,
   "id": "a2bb7129-9cfd-4c9f-bd49-8596aaf725b6",
   "metadata": {},
   "outputs": [
    {
     "name": "stdout",
     "output_type": "stream",
     "text": [
      "Currently, hotel dataset has 225 rows.\n",
      "Currently, review dataset has 4670 rows, deleted 551 rows which are not in English.\n"
     ]
    }
   ],
   "source": [
    "print(f\"Currently, hotel dataset has {len(df_hotel)} rows.\")\n",
    "print(f\"Currently, review dataset has {len(df_review_english)} rows, deleted {len(df_review) - len(df_review_english)} rows which are not in English.\")"
   ]
  },
  {
   "cell_type": "code",
   "execution_count": 75,
   "id": "731deef1-fc18-4c4c-b972-6b23da44dc86",
   "metadata": {},
   "outputs": [
    {
     "data": {
      "text/html": [
       "<div>\n",
       "<style scoped>\n",
       "    .dataframe tbody tr th:only-of-type {\n",
       "        vertical-align: middle;\n",
       "    }\n",
       "\n",
       "    .dataframe tbody tr th {\n",
       "        vertical-align: top;\n",
       "    }\n",
       "\n",
       "    .dataframe thead th {\n",
       "        text-align: right;\n",
       "    }\n",
       "</style>\n",
       "<table border=\"1\" class=\"dataframe\">\n",
       "  <thead>\n",
       "    <tr style=\"text-align: right;\">\n",
       "      <th></th>\n",
       "      <th>hotel_name</th>\n",
       "      <th>User_Name</th>\n",
       "      <th>Country</th>\n",
       "      <th>Room_Info</th>\n",
       "      <th>No_of_nights_stayed</th>\n",
       "      <th>Stay_Date</th>\n",
       "      <th>Traveller_Type</th>\n",
       "      <th>Review_Title</th>\n",
       "      <th>Rating</th>\n",
       "      <th>Happy_Review</th>\n",
       "      <th>Unhappy_Review</th>\n",
       "      <th>Review_Date</th>\n",
       "      <th>Scraped_At</th>\n",
       "      <th>is_english</th>\n",
       "    </tr>\n",
       "  </thead>\n",
       "  <tbody>\n",
       "    <tr>\n",
       "      <th>0</th>\n",
       "      <td>Ascott Raffles Place Singapore</td>\n",
       "      <td>Luis</td>\n",
       "      <td>Portugal</td>\n",
       "      <td>Cutler Suite</td>\n",
       "      <td>1.0</td>\n",
       "      <td>2022-12-01</td>\n",
       "      <td>Couple</td>\n",
       "      <td>Exceptional</td>\n",
       "      <td>10.0</td>\n",
       "      <td>room very spacious and clean, great location</td>\n",
       "      <td>the night receptionist was unpleasant and not ...</td>\n",
       "      <td>12/12/2022</td>\n",
       "      <td>10/02/2024</td>\n",
       "      <td>True</td>\n",
       "    </tr>\n",
       "    <tr>\n",
       "      <th>1</th>\n",
       "      <td>Ascott Raffles Place Singapore</td>\n",
       "      <td>Thi</td>\n",
       "      <td>Australia</td>\n",
       "      <td>Cutler Suite</td>\n",
       "      <td>4.0</td>\n",
       "      <td>2024-01-01</td>\n",
       "      <td>Group</td>\n",
       "      <td>Excellent place</td>\n",
       "      <td>8.0</td>\n",
       "      <td>It was in a good location. The staff was very ...</td>\n",
       "      <td>NaN</td>\n",
       "      <td>29/01/2024</td>\n",
       "      <td>10/02/2024</td>\n",
       "      <td>True</td>\n",
       "    </tr>\n",
       "  </tbody>\n",
       "</table>\n",
       "</div>"
      ],
      "text/plain": [
       "                       hotel_name User_Name    Country     Room_Info  \\\n",
       "0  Ascott Raffles Place Singapore      Luis   Portugal  Cutler Suite   \n",
       "1  Ascott Raffles Place Singapore       Thi  Australia  Cutler Suite   \n",
       "\n",
       "   No_of_nights_stayed  Stay_Date Traveller_Type     Review_Title  Rating  \\\n",
       "0                  1.0 2022-12-01         Couple      Exceptional    10.0   \n",
       "1                  4.0 2024-01-01          Group  Excellent place     8.0   \n",
       "\n",
       "                                        Happy_Review  \\\n",
       "0       room very spacious and clean, great location   \n",
       "1  It was in a good location. The staff was very ...   \n",
       "\n",
       "                                      Unhappy_Review Review_Date  Scraped_At  \\\n",
       "0  the night receptionist was unpleasant and not ...  12/12/2022  10/02/2024   \n",
       "1                                                NaN  29/01/2024  10/02/2024   \n",
       "\n",
       "   is_english  \n",
       "0        True  \n",
       "1        True  "
      ]
     },
     "execution_count": 75,
     "metadata": {},
     "output_type": "execute_result"
    }
   ],
   "source": [
    "df_review_english.head(2)"
   ]
  },
  {
   "cell_type": "code",
   "execution_count": 76,
   "id": "67565e03-7d4d-4a87-b24f-463fc47c315e",
   "metadata": {},
   "outputs": [],
   "source": [
    "# Remove rows where both 'Happy_Review' and 'Unhappy_Review' are empty or NaN\n",
    "df_review_english = df_review_english[~((df_review_english['Happy_Review'].isna() | df_review_english['Happy_Review'].eq('')) & \n",
    "                        (df_review_english['Unhappy_Review'].isna() | df_review_english['Unhappy_Review'].eq('')))]\n"
   ]
  },
  {
   "cell_type": "code",
   "execution_count": 77,
   "id": "c4c3c513-f82d-4ead-b0f7-4ac90fc1c677",
   "metadata": {},
   "outputs": [
    {
     "name": "stdout",
     "output_type": "stream",
     "text": [
      "Currently, hotel dataset has 225 rows.\n",
      "Currently, review dataset has 4670 rows.\n"
     ]
    }
   ],
   "source": [
    "print(f\"Currently, hotel dataset has {len(df_hotel)} rows.\")\n",
    "print(f\"Currently, review dataset has {len(df_review_english)} rows.\")"
   ]
  },
  {
   "cell_type": "code",
   "execution_count": 79,
   "id": "0d8d7922-e73f-4c11-963b-f64d65677c89",
   "metadata": {},
   "outputs": [],
   "source": [
    "# Remove \"is_english\" columns\n",
    "df_review_english = df_review_english.drop([\"is_english\"], axis=1)"
   ]
  },
  {
   "cell_type": "code",
   "execution_count": 81,
   "id": "f1b1d821-6326-4390-928d-fd047ee1e47d",
   "metadata": {},
   "outputs": [
    {
     "data": {
      "text/html": [
       "<div>\n",
       "<style scoped>\n",
       "    .dataframe tbody tr th:only-of-type {\n",
       "        vertical-align: middle;\n",
       "    }\n",
       "\n",
       "    .dataframe tbody tr th {\n",
       "        vertical-align: top;\n",
       "    }\n",
       "\n",
       "    .dataframe thead th {\n",
       "        text-align: right;\n",
       "    }\n",
       "</style>\n",
       "<table border=\"1\" class=\"dataframe\">\n",
       "  <thead>\n",
       "    <tr style=\"text-align: right;\">\n",
       "      <th></th>\n",
       "      <th>hotel_name</th>\n",
       "      <th>User_Name</th>\n",
       "      <th>Country</th>\n",
       "      <th>Room_Info</th>\n",
       "      <th>No_of_nights_stayed</th>\n",
       "      <th>Stay_Date</th>\n",
       "      <th>Traveller_Type</th>\n",
       "      <th>Review_Title</th>\n",
       "      <th>Rating</th>\n",
       "      <th>Happy_Review</th>\n",
       "      <th>Unhappy_Review</th>\n",
       "      <th>Review_Date</th>\n",
       "      <th>Scraped_At</th>\n",
       "    </tr>\n",
       "  </thead>\n",
       "  <tbody>\n",
       "    <tr>\n",
       "      <th>0</th>\n",
       "      <td>Ascott Raffles Place Singapore</td>\n",
       "      <td>Luis</td>\n",
       "      <td>Portugal</td>\n",
       "      <td>Cutler Suite</td>\n",
       "      <td>1.0</td>\n",
       "      <td>2022-12-01</td>\n",
       "      <td>Couple</td>\n",
       "      <td>Exceptional</td>\n",
       "      <td>10.0</td>\n",
       "      <td>room very spacious and clean, great location</td>\n",
       "      <td>the night receptionist was unpleasant and not ...</td>\n",
       "      <td>12/12/2022</td>\n",
       "      <td>10/02/2024</td>\n",
       "    </tr>\n",
       "    <tr>\n",
       "      <th>1</th>\n",
       "      <td>Ascott Raffles Place Singapore</td>\n",
       "      <td>Thi</td>\n",
       "      <td>Australia</td>\n",
       "      <td>Cutler Suite</td>\n",
       "      <td>4.0</td>\n",
       "      <td>2024-01-01</td>\n",
       "      <td>Group</td>\n",
       "      <td>Excellent place</td>\n",
       "      <td>8.0</td>\n",
       "      <td>It was in a good location. The staff was very ...</td>\n",
       "      <td>NaN</td>\n",
       "      <td>29/01/2024</td>\n",
       "      <td>10/02/2024</td>\n",
       "    </tr>\n",
       "  </tbody>\n",
       "</table>\n",
       "</div>"
      ],
      "text/plain": [
       "                       hotel_name User_Name    Country     Room_Info  \\\n",
       "0  Ascott Raffles Place Singapore      Luis   Portugal  Cutler Suite   \n",
       "1  Ascott Raffles Place Singapore       Thi  Australia  Cutler Suite   \n",
       "\n",
       "   No_of_nights_stayed  Stay_Date Traveller_Type     Review_Title  Rating  \\\n",
       "0                  1.0 2022-12-01         Couple      Exceptional    10.0   \n",
       "1                  4.0 2024-01-01          Group  Excellent place     8.0   \n",
       "\n",
       "                                        Happy_Review  \\\n",
       "0       room very spacious and clean, great location   \n",
       "1  It was in a good location. The staff was very ...   \n",
       "\n",
       "                                      Unhappy_Review Review_Date  Scraped_At  \n",
       "0  the night receptionist was unpleasant and not ...  12/12/2022  10/02/2024  \n",
       "1                                                NaN  29/01/2024  10/02/2024  "
      ]
     },
     "execution_count": 81,
     "metadata": {},
     "output_type": "execute_result"
    }
   ],
   "source": [
    "df_review_english.head(2)"
   ]
  },
  {
   "cell_type": "markdown",
   "id": "b5c412a0-ad87-40fe-8b2a-440c304c5daf",
   "metadata": {},
   "source": [
    "## 4) revise the column names"
   ]
  },
  {
   "cell_type": "code",
   "execution_count": 83,
   "id": "f7c1c34e-5d9f-4acb-a62d-271f478b1c45",
   "metadata": {},
   "outputs": [],
   "source": [
    "# Change all column names to lower case and replace Spaces with underscores\n",
    "df_review_english.columns = df_review_english.columns.str.lower().str.replace(' ', '_')\n",
    "df_hotel.columns = df_hotel.columns.str.lower().str.replace(' ', '_')"
   ]
  },
  {
   "cell_type": "code",
   "execution_count": 86,
   "id": "ebe45b63-daea-4947-b8a6-5bcd78ce2a0f",
   "metadata": {},
   "outputs": [
    {
     "data": {
      "text/html": [
       "<div>\n",
       "<style scoped>\n",
       "    .dataframe tbody tr th:only-of-type {\n",
       "        vertical-align: middle;\n",
       "    }\n",
       "\n",
       "    .dataframe tbody tr th {\n",
       "        vertical-align: top;\n",
       "    }\n",
       "\n",
       "    .dataframe thead th {\n",
       "        text-align: right;\n",
       "    }\n",
       "</style>\n",
       "<table border=\"1\" class=\"dataframe\">\n",
       "  <thead>\n",
       "    <tr style=\"text-align: right;\">\n",
       "      <th></th>\n",
       "      <th>url</th>\n",
       "      <th>hotel_name</th>\n",
       "      <th>address</th>\n",
       "      <th>stars</th>\n",
       "      <th>reviews_count</th>\n",
       "      <th>reviews_grade</th>\n",
       "      <th>grades_staff</th>\n",
       "      <th>grades_facilities</th>\n",
       "      <th>grades_cleanliness</th>\n",
       "      <th>grades_comfort</th>\n",
       "      <th>grades_value_for_money</th>\n",
       "      <th>grades_location</th>\n",
       "      <th>sustainable_level</th>\n",
       "      <th>most_popular_facilities</th>\n",
       "      <th>highlights</th>\n",
       "    </tr>\n",
       "  </thead>\n",
       "  <tbody>\n",
       "    <tr>\n",
       "      <th>0</th>\n",
       "      <td>https://www.booking.com/hotel/sg/marina-bay-sa...</td>\n",
       "      <td>Marina Bay Sands</td>\n",
       "      <td>10 Bayfront Avenue, Marina Bay, 018956 Singapo...</td>\n",
       "      <td>5.0</td>\n",
       "      <td>12661</td>\n",
       "      <td>9.2</td>\n",
       "      <td>9.4</td>\n",
       "      <td>9.4</td>\n",
       "      <td>9.5</td>\n",
       "      <td>9.5</td>\n",
       "      <td>8.0</td>\n",
       "      <td>9.6</td>\n",
       "      <td>3+</td>\n",
       "      <td>2 restaurants, Bar, Family rooms, Fitness cent...</td>\n",
       "      <td>Top location: Highly rated by recent guests (9...</td>\n",
       "    </tr>\n",
       "    <tr>\n",
       "      <th>1</th>\n",
       "      <td>https://www.booking.com/hotel/sg/carlton.en-gb...</td>\n",
       "      <td>Carlton Hotel Singapore</td>\n",
       "      <td>76 Bras Basah Road, City Hall, 189558 Singapor...</td>\n",
       "      <td>5.0</td>\n",
       "      <td>7322</td>\n",
       "      <td>8.4</td>\n",
       "      <td>8.7</td>\n",
       "      <td>8.5</td>\n",
       "      <td>9.0</td>\n",
       "      <td>9.1</td>\n",
       "      <td>8.1</td>\n",
       "      <td>9.4</td>\n",
       "      <td>2</td>\n",
       "      <td>4 restaurants, Family rooms, Fitness centre, F...</td>\n",
       "      <td>Situated in the real heart of Singapore, this ...</td>\n",
       "    </tr>\n",
       "  </tbody>\n",
       "</table>\n",
       "</div>"
      ],
      "text/plain": [
       "                                                 url               hotel_name  \\\n",
       "0  https://www.booking.com/hotel/sg/marina-bay-sa...         Marina Bay Sands   \n",
       "1  https://www.booking.com/hotel/sg/carlton.en-gb...  Carlton Hotel Singapore   \n",
       "\n",
       "                                             address  stars  reviews_count  \\\n",
       "0  10 Bayfront Avenue, Marina Bay, 018956 Singapo...    5.0          12661   \n",
       "1  76 Bras Basah Road, City Hall, 189558 Singapor...    5.0           7322   \n",
       "\n",
       "   reviews_grade  grades_staff  grades_facilities  grades_cleanliness  \\\n",
       "0            9.2           9.4                9.4                 9.5   \n",
       "1            8.4           8.7                8.5                 9.0   \n",
       "\n",
       "   grades_comfort  grades_value_for_money  grades_location sustainable_level  \\\n",
       "0             9.5                     8.0              9.6                3+   \n",
       "1             9.1                     8.1              9.4                 2   \n",
       "\n",
       "                             most_popular_facilities  \\\n",
       "0  2 restaurants, Bar, Family rooms, Fitness cent...   \n",
       "1  4 restaurants, Family rooms, Fitness centre, F...   \n",
       "\n",
       "                                          highlights  \n",
       "0  Top location: Highly rated by recent guests (9...  \n",
       "1  Situated in the real heart of Singapore, this ...  "
      ]
     },
     "execution_count": 86,
     "metadata": {},
     "output_type": "execute_result"
    }
   ],
   "source": [
    "df_hotel.head(2)\n"
   ]
  },
  {
   "cell_type": "code",
   "execution_count": 87,
   "id": "044715f0-b34a-4bf4-9301-9587bebc8d28",
   "metadata": {},
   "outputs": [
    {
     "data": {
      "text/html": [
       "<div>\n",
       "<style scoped>\n",
       "    .dataframe tbody tr th:only-of-type {\n",
       "        vertical-align: middle;\n",
       "    }\n",
       "\n",
       "    .dataframe tbody tr th {\n",
       "        vertical-align: top;\n",
       "    }\n",
       "\n",
       "    .dataframe thead th {\n",
       "        text-align: right;\n",
       "    }\n",
       "</style>\n",
       "<table border=\"1\" class=\"dataframe\">\n",
       "  <thead>\n",
       "    <tr style=\"text-align: right;\">\n",
       "      <th></th>\n",
       "      <th>hotel_name</th>\n",
       "      <th>user_name</th>\n",
       "      <th>country</th>\n",
       "      <th>room_info</th>\n",
       "      <th>no_of_nights_stayed</th>\n",
       "      <th>stay_date</th>\n",
       "      <th>traveller_type</th>\n",
       "      <th>review_title</th>\n",
       "      <th>rating</th>\n",
       "      <th>happy_review</th>\n",
       "      <th>unhappy_review</th>\n",
       "      <th>review_date</th>\n",
       "      <th>scraped_at</th>\n",
       "    </tr>\n",
       "  </thead>\n",
       "  <tbody>\n",
       "    <tr>\n",
       "      <th>0</th>\n",
       "      <td>Ascott Raffles Place Singapore</td>\n",
       "      <td>Luis</td>\n",
       "      <td>Portugal</td>\n",
       "      <td>Cutler Suite</td>\n",
       "      <td>1.0</td>\n",
       "      <td>2022-12-01</td>\n",
       "      <td>Couple</td>\n",
       "      <td>Exceptional</td>\n",
       "      <td>10.0</td>\n",
       "      <td>room very spacious and clean, great location</td>\n",
       "      <td>the night receptionist was unpleasant and not ...</td>\n",
       "      <td>12/12/2022</td>\n",
       "      <td>10/02/2024</td>\n",
       "    </tr>\n",
       "    <tr>\n",
       "      <th>1</th>\n",
       "      <td>Ascott Raffles Place Singapore</td>\n",
       "      <td>Thi</td>\n",
       "      <td>Australia</td>\n",
       "      <td>Cutler Suite</td>\n",
       "      <td>4.0</td>\n",
       "      <td>2024-01-01</td>\n",
       "      <td>Group</td>\n",
       "      <td>Excellent place</td>\n",
       "      <td>8.0</td>\n",
       "      <td>It was in a good location. The staff was very ...</td>\n",
       "      <td>NaN</td>\n",
       "      <td>29/01/2024</td>\n",
       "      <td>10/02/2024</td>\n",
       "    </tr>\n",
       "  </tbody>\n",
       "</table>\n",
       "</div>"
      ],
      "text/plain": [
       "                       hotel_name user_name    country     room_info  \\\n",
       "0  Ascott Raffles Place Singapore      Luis   Portugal  Cutler Suite   \n",
       "1  Ascott Raffles Place Singapore       Thi  Australia  Cutler Suite   \n",
       "\n",
       "   no_of_nights_stayed  stay_date traveller_type     review_title  rating  \\\n",
       "0                  1.0 2022-12-01         Couple      Exceptional    10.0   \n",
       "1                  4.0 2024-01-01          Group  Excellent place     8.0   \n",
       "\n",
       "                                        happy_review  \\\n",
       "0       room very spacious and clean, great location   \n",
       "1  It was in a good location. The staff was very ...   \n",
       "\n",
       "                                      unhappy_review review_date  scraped_at  \n",
       "0  the night receptionist was unpleasant and not ...  12/12/2022  10/02/2024  \n",
       "1                                                NaN  29/01/2024  10/02/2024  "
      ]
     },
     "execution_count": 87,
     "metadata": {},
     "output_type": "execute_result"
    }
   ],
   "source": [
    "df_review_english.head(2)"
   ]
  },
  {
   "cell_type": "markdown",
   "id": "5f3d1d14-5288-4776-9b2c-2f445e7b403e",
   "metadata": {},
   "source": [
    "## 5) save latest dataset as csv file"
   ]
  },
  {
   "cell_type": "code",
   "execution_count": 88,
   "id": "79f47058-2cc6-4988-9476-439d6d2deeb1",
   "metadata": {},
   "outputs": [],
   "source": [
    "# Save latest dataset as csv\n",
    "df_hotel.to_csv(\"booking_hotels_details_valid.csv\", index=False, encoding=\"utf-8\")\n",
    "df_review_english.to_csv(\"booking_reviews_details_valid.csv\", index=False, encoding=\"utf-8\")"
   ]
  },
  {
   "cell_type": "code",
   "execution_count": null,
   "id": "8c657979-c0a2-4bac-a9e8-32ba5f21f7a7",
   "metadata": {},
   "outputs": [],
   "source": []
  }
 ],
 "metadata": {
  "kernelspec": {
   "display_name": "Python 3 (ipykernel)",
   "language": "python",
   "name": "python3"
  },
  "language_info": {
   "codemirror_mode": {
    "name": "ipython",
    "version": 3
   },
   "file_extension": ".py",
   "mimetype": "text/x-python",
   "name": "python",
   "nbconvert_exporter": "python",
   "pygments_lexer": "ipython3",
   "version": "3.11.1"
  }
 },
 "nbformat": 4,
 "nbformat_minor": 5
}

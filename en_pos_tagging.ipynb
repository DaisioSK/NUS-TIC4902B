{
 "cells": [
  {
   "cell_type": "code",
   "execution_count": 1,
   "id": "620a9532-ced0-4d98-96c3-3b53c04f3be7",
   "metadata": {},
   "outputs": [],
   "source": [
    "import numpy as np\n",
    "import pandas as pd\n",
    "import spacy\n",
    "from datetime import datetime\n",
    "\n",
    "import en_nlp_utils"
   ]
  },
  {
   "cell_type": "code",
   "execution_count": 2,
   "id": "1fe49f1e-1550-404a-9739-7957c56cb816",
   "metadata": {},
   "outputs": [
    {
     "name": "stdout",
     "output_type": "stream",
     "text": [
      "Text processing started at 2024-06-27 20:50:08.074383\n"
     ]
    }
   ],
   "source": [
    "# Define default source path\n",
    "SRC_PATH = \"src/\"\n",
    "\n",
    "start_time = datetime.now()\n",
    "print(\"Text processing started at {}\".format(start_time))"
   ]
  },
  {
   "cell_type": "code",
   "execution_count": 3,
   "id": "684735fa-6831-4d76-8fc6-b89051e57469",
   "metadata": {},
   "outputs": [],
   "source": [
    "# Load dataset\n",
    "df_review = pd.read_csv(SRC_PATH + \"en_hotel_review.csv\")\n",
    "\n",
    "#target_text = \"review_cleaned_v1\"\n",
    "#target_text = \"review_cleaned_v2\"\n",
    "target_text = \"review_cleaned_v3\"\n",
    "\n",
    "# Remove rows when target_text is NULL\n",
    "df_review = df_review.dropna(subset=[target_text]).reset_index(drop=True)"
   ]
  },
  {
   "cell_type": "code",
   "execution_count": 4,
   "id": "8ace4870-f971-4731-9887-47310aa2d2d7",
   "metadata": {
    "tags": []
   },
   "outputs": [],
   "source": [
    "# Initializes spaCy's English model\n",
    "nlp = spacy.load(\"en_core_web_sm\")"
   ]
  },
  {
   "cell_type": "code",
   "execution_count": 5,
   "id": "25dfa9f9-16f9-49e9-9160-be276cf29e0e",
   "metadata": {},
   "outputs": [],
   "source": [
    "# Function for part-of-speech tagging and merging\n",
    "def pos_tag_and_merge(text):\n",
    "    \n",
    "    doc = nlp(text)\n",
    "    pos_tags = {\n",
    "        \"ADJ\": [],\n",
    "        \"ADV\": [],\n",
    "        \"NOUN\": [],\n",
    "        \"VERB\": [],\n",
    "        \"PROPN\": [],\n",
    "        \"DET\": [],\n",
    "        \"NUM\": [],\n",
    "    }\n",
    "\n",
    "    # Add words to the corresponding list by POS\n",
    "    for token in doc:\n",
    "        pos_tag = token.pos_ # get POS tagging\n",
    "        lemma = token.lemma_ # get lexical element (morphing)\n",
    "        if pos_tag in pos_tags:\n",
    "            pos_tags[pos_tag].append(lemma)\n",
    "    \n",
    "    # Merges the terms in the list into strings, or None if empty\n",
    "    pos_tags_merged = {pos: \" \".join(words) if words else None for pos, words in pos_tags.items()}\n",
    "    return pos_tags_merged"
   ]
  },
  {
   "cell_type": "code",
   "execution_count": 6,
   "id": "7dc408e8-4c70-4607-8824-b5d1f3290e6a",
   "metadata": {},
   "outputs": [],
   "source": [
    "# Apply POS tagging and merging to each review\n",
    "pos_tags_list = []\n",
    "for review in df_review[target_text]:\n",
    "    pos_tags_list.append(pos_tag_and_merge(review))\n",
    "\n",
    "# Convert list of dictionaries to DataFrame\n",
    "pos_tags_df = pd.DataFrame(pos_tags_list)\n",
    "\n",
    "# Insert POS tags into original dataset df_review\n",
    "df_review = pd.concat([df_review, pos_tags_df], axis=1)"
   ]
  },
  {
   "cell_type": "code",
   "execution_count": 7,
   "id": "564fb785-2e16-4da5-a042-04d43a0bde0b",
   "metadata": {},
   "outputs": [
    {
     "data": {
      "text/html": [
       "<div>\n",
       "<style scoped>\n",
       "    .dataframe tbody tr th:only-of-type {\n",
       "        vertical-align: middle;\n",
       "    }\n",
       "\n",
       "    .dataframe tbody tr th {\n",
       "        vertical-align: top;\n",
       "    }\n",
       "\n",
       "    .dataframe thead th {\n",
       "        text-align: right;\n",
       "    }\n",
       "</style>\n",
       "<table border=\"1\" class=\"dataframe\">\n",
       "  <thead>\n",
       "    <tr style=\"text-align: right;\">\n",
       "      <th></th>\n",
       "      <th>source</th>\n",
       "      <th>hotel_id</th>\n",
       "      <th>hotel_name</th>\n",
       "      <th>country</th>\n",
       "      <th>group_name</th>\n",
       "      <th>room_type</th>\n",
       "      <th>stay_length</th>\n",
       "      <th>stay_date</th>\n",
       "      <th>review_score</th>\n",
       "      <th>review_score_category</th>\n",
       "      <th>...</th>\n",
       "      <th>review_cleaned_v1</th>\n",
       "      <th>review_cleaned_v2</th>\n",
       "      <th>review_cleaned_v3</th>\n",
       "      <th>ADJ</th>\n",
       "      <th>ADV</th>\n",
       "      <th>NOUN</th>\n",
       "      <th>VERB</th>\n",
       "      <th>PROPN</th>\n",
       "      <th>DET</th>\n",
       "      <th>NUM</th>\n",
       "    </tr>\n",
       "  </thead>\n",
       "  <tbody>\n",
       "    <tr>\n",
       "      <th>0</th>\n",
       "      <td>Agoda</td>\n",
       "      <td>1007</td>\n",
       "      <td>PARKROYAL on Kitchener Road, Singapore</td>\n",
       "      <td>India</td>\n",
       "      <td>Couple</td>\n",
       "      <td>Double Room</td>\n",
       "      <td>6</td>\n",
       "      <td>01/01/2024</td>\n",
       "      <td>9.6</td>\n",
       "      <td>Exceptional</td>\n",
       "      <td>...</td>\n",
       "      <td>awesome aspect</td>\n",
       "      <td>awesome aspect</td>\n",
       "      <td>awesome aspect</td>\n",
       "      <td>None</td>\n",
       "      <td>None</td>\n",
       "      <td>aspect</td>\n",
       "      <td>None</td>\n",
       "      <td>awesome</td>\n",
       "      <td>None</td>\n",
       "      <td>None</td>\n",
       "    </tr>\n",
       "    <tr>\n",
       "      <th>1</th>\n",
       "      <td>Agoda</td>\n",
       "      <td>1007</td>\n",
       "      <td>PARKROYAL on Kitchener Road, Singapore</td>\n",
       "      <td>India</td>\n",
       "      <td>Couple</td>\n",
       "      <td>Double Room</td>\n",
       "      <td>3</td>\n",
       "      <td>01/01/2024</td>\n",
       "      <td>9.6</td>\n",
       "      <td>Exceptional</td>\n",
       "      <td>...</td>\n",
       "      <td>everything good except many restaurant hotel c...</td>\n",
       "      <td>everything good except many restaurant charge ...</td>\n",
       "      <td>everything except many restaurant charge cutle...</td>\n",
       "      <td>many little unusual</td>\n",
       "      <td>None</td>\n",
       "      <td>restaurant charge cutlery rest thing</td>\n",
       "      <td>find</td>\n",
       "      <td>None</td>\n",
       "      <td>None</td>\n",
       "      <td>None</td>\n",
       "    </tr>\n",
       "  </tbody>\n",
       "</table>\n",
       "<p>2 rows × 24 columns</p>\n",
       "</div>"
      ],
      "text/plain": [
       "  source  hotel_id                              hotel_name country group_name  \\\n",
       "0  Agoda      1007  PARKROYAL on Kitchener Road, Singapore   India     Couple   \n",
       "1  Agoda      1007  PARKROYAL on Kitchener Road, Singapore   India     Couple   \n",
       "\n",
       "     room_type  stay_length   stay_date  review_score review_score_category  \\\n",
       "0  Double Room            6  01/01/2024           9.6           Exceptional   \n",
       "1  Double Room            3  01/01/2024           9.6           Exceptional   \n",
       "\n",
       "   ...                                  review_cleaned_v1  \\\n",
       "0  ...                                     awesome aspect   \n",
       "1  ...  everything good except many restaurant hotel c...   \n",
       "\n",
       "                                   review_cleaned_v2  \\\n",
       "0                                     awesome aspect   \n",
       "1  everything good except many restaurant charge ...   \n",
       "\n",
       "                                   review_cleaned_v3                  ADJ  \\\n",
       "0                                     awesome aspect                 None   \n",
       "1  everything except many restaurant charge cutle...  many little unusual   \n",
       "\n",
       "    ADV                                  NOUN  VERB    PROPN   DET   NUM  \n",
       "0  None                                aspect  None  awesome  None  None  \n",
       "1  None  restaurant charge cutlery rest thing  find     None  None  None  \n",
       "\n",
       "[2 rows x 24 columns]"
      ]
     },
     "execution_count": 7,
     "metadata": {},
     "output_type": "execute_result"
    }
   ],
   "source": [
    "df_review.head(2)"
   ]
  },
  {
   "cell_type": "code",
   "execution_count": 8,
   "id": "7ffd1ab2-b985-41b6-a5df-fe953292fc7a",
   "metadata": {},
   "outputs": [],
   "source": [
    "df_review.to_csv(SRC_PATH + \"en_hotel_review.csv\", index=False, encoding=\"utf-8\")"
   ]
  },
  {
   "cell_type": "code",
   "execution_count": 9,
   "id": "8c41c858-c96e-4067-b9bf-2dec80a947ce",
   "metadata": {},
   "outputs": [
    {
     "name": "stdout",
     "output_type": "stream",
     "text": [
      "Text processing ended at 2024-06-27 20:53:29.322821\n",
      "Text processing spent 0:03:21.248438\n"
     ]
    }
   ],
   "source": [
    "end_time = datetime.now()\n",
    "print(\"Text processing ended at {}\".format(end_time))\n",
    "print(\"Text processing spent {}\".format(end_time - start_time))"
   ]
  }
 ],
 "metadata": {
  "kernelspec": {
   "display_name": "Python 3 (ipykernel)",
   "language": "python",
   "name": "python3"
  },
  "language_info": {
   "codemirror_mode": {
    "name": "ipython",
    "version": 3
   },
   "file_extension": ".py",
   "mimetype": "text/x-python",
   "name": "python",
   "nbconvert_exporter": "python",
   "pygments_lexer": "ipython3",
   "version": "3.11.1"
  }
 },
 "nbformat": 4,
 "nbformat_minor": 5
}

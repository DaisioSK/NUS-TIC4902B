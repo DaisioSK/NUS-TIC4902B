{
 "cells": [
  {
   "cell_type": "code",
   "execution_count": 1,
   "id": "81892e64-b001-4745-a275-72ab7609f0e6",
   "metadata": {},
   "outputs": [],
   "source": [
    "import numpy as np\n",
    "import pandas as pd\n",
    "\n",
    "import time\n",
    "from datetime import datetime\n",
    "\n",
    "from IPython.core.display import HTML\n",
    "import en_nlp_utils"
   ]
  },
  {
   "cell_type": "code",
   "execution_count": 2,
   "id": "63827ad9-8358-43f2-9a55-777e8ee754c3",
   "metadata": {},
   "outputs": [
    {
     "data": {
      "text/html": [
       "<style>pre { white-space: pre !important; }</style>"
      ],
      "text/plain": [
       "<IPython.core.display.HTML object>"
      ]
     },
     "metadata": {},
     "output_type": "display_data"
    },
    {
     "name": "stdout",
     "output_type": "stream",
     "text": [
      "Text processing started at 2024-06-27 00:01:31.051352\n"
     ]
    }
   ],
   "source": [
    "# Adjust the HTML style of the output and set default display options for Pandas\n",
    "display(HTML(\"<style>pre { white-space: pre !important; }</style>\"))\n",
    "en_nlp_utils.set_default_pandas_options()\n",
    "\n",
    "# Define default source path\n",
    "SRC_PATH = \"src/\"\n",
    "\n",
    "start_time = datetime.now()\n",
    "print(\"Text processing started at {}\".format(start_time))"
   ]
  },
  {
   "cell_type": "code",
   "execution_count": 3,
   "id": "fe26eb98-bbd8-4e0c-88e0-3aff92866e7c",
   "metadata": {},
   "outputs": [],
   "source": [
    "# Load dataset\n",
    "df_review = pd.read_csv(SRC_PATH + \"en_hotel_review.csv\")"
   ]
  },
  {
   "cell_type": "code",
   "execution_count": 4,
   "id": "2590649c-bbb7-44ca-93b9-936ee74c1719",
   "metadata": {},
   "outputs": [],
   "source": [
    "# Exclude stopwords\n",
    "#stopword_exclusion_list = [\"no\", \"not\"]\n",
    "#en_nlp_utils.exclude_stopwords(stopword_exclusion_list)\n",
    "\n",
    "#df_review_cleaned = en_nlp_utils.normalize_corpus(df_review, \"room_type\", \"room_type_cleaned\")\n",
    "#df_review_cleaned = en_nlp_utils.normalize_corpus(df_review, \"review\", \"review_cleaned_v1\")\n",
    "#df_review_cleaned.head()"
   ]
  },
  {
   "cell_type": "code",
   "execution_count": 5,
   "id": "48a9dcee-5633-477c-8e66-f14558786385",
   "metadata": {},
   "outputs": [],
   "source": [
    "# Remove rows when \"review_cleaned_v1\" is NULL\n",
    "#df_review = df_review.dropna(subset=[\"review_cleaned_v1\"]).reset_index(drop=True)\n",
    "\n",
    "# Add custom stopwords\n",
    "#custom_stopwords = [\"I\", \"get\", \"go\", \"stay\", \"time\", \"would\", \"hotel\", \"room\", \"one\", \"night\", \"day\", \"place\", \"location\"]\n",
    "#en_nlp_utils.add_custom_stopwords(custom_stopwords)\n",
    "\n",
    "#df_review_cleaned = en_nlp_utils.normalize_corpus(df_review, \"review_cleaned_v1\", \"review_cleaned_v2\",\n",
    "#                                                 html_stripping=False, accented_char_removal=False, \n",
    "#                                                  contraction_expansion=False, text_lower_case=False, \n",
    "#                                                  extra_newlines_removal=False, extra_whitespace_removal=False,\n",
    "#                                                  special_char_removal=False, remove_digits=False, \n",
    "#                                                  repeating_char_removal=False, spelling_correction=False, \n",
    "#                                                  lemmatize=False, stop_word_removal=True)\n",
    "\n",
    "#df_review_cleaned.head()"
   ]
  },
  {
   "cell_type": "code",
   "execution_count": 6,
   "id": "15e2301c-7d2a-4c1f-836d-669633359cbc",
   "metadata": {},
   "outputs": [
    {
     "data": {
      "text/html": [
       "<div>\n",
       "<style scoped>\n",
       "    .dataframe tbody tr th:only-of-type {\n",
       "        vertical-align: middle;\n",
       "    }\n",
       "\n",
       "    .dataframe tbody tr th {\n",
       "        vertical-align: top;\n",
       "    }\n",
       "\n",
       "    .dataframe thead th {\n",
       "        text-align: right;\n",
       "    }\n",
       "</style>\n",
       "<table border=\"1\" class=\"dataframe\">\n",
       "  <thead>\n",
       "    <tr style=\"text-align: right;\">\n",
       "      <th></th>\n",
       "      <th>source</th>\n",
       "      <th>hotel_id</th>\n",
       "      <th>hotel_name</th>\n",
       "      <th>country</th>\n",
       "      <th>group_name</th>\n",
       "      <th>...</th>\n",
       "      <th>review_title</th>\n",
       "      <th>review</th>\n",
       "      <th>review_cleaned_v1</th>\n",
       "      <th>review_cleaned_v2</th>\n",
       "      <th>review_cleaned_v3</th>\n",
       "    </tr>\n",
       "  </thead>\n",
       "  <tbody>\n",
       "    <tr>\n",
       "      <th>0</th>\n",
       "      <td>Agoda</td>\n",
       "      <td>1007</td>\n",
       "      <td>PARKROYAL on Kitchener Road, Singapore</td>\n",
       "      <td>India</td>\n",
       "      <td>Couple</td>\n",
       "      <td>...</td>\n",
       "      <td>Gr8</td>\n",
       "      <td>Awesome in all aspects</td>\n",
       "      <td>awesome aspect</td>\n",
       "      <td>awesome aspect</td>\n",
       "      <td>awesome aspect</td>\n",
       "    </tr>\n",
       "    <tr>\n",
       "      <th>1</th>\n",
       "      <td>Agoda</td>\n",
       "      <td>1007</td>\n",
       "      <td>PARKROYAL on Kitchener Road, Singapore</td>\n",
       "      <td>India</td>\n",
       "      <td>Couple</td>\n",
       "      <td>...</td>\n",
       "      <td>Overall it was a good experience</td>\n",
       "      <td>Everything was good there except they dont hav...</td>\n",
       "      <td>everything good except many restaurant hotel c...</td>\n",
       "      <td>everything good except many restaurant charge ...</td>\n",
       "      <td>everything except many restaurant charge cutle...</td>\n",
       "    </tr>\n",
       "    <tr>\n",
       "      <th>2</th>\n",
       "      <td>Agoda</td>\n",
       "      <td>1007</td>\n",
       "      <td>PARKROYAL on Kitchener Road, Singapore</td>\n",
       "      <td>Singapore</td>\n",
       "      <td>Family with young children</td>\n",
       "      <td>...</td>\n",
       "      <td>Nice stay</td>\n",
       "      <td>Nice Stay</td>\n",
       "      <td>nice stay</td>\n",
       "      <td>nice</td>\n",
       "      <td></td>\n",
       "    </tr>\n",
       "    <tr>\n",
       "      <th>3</th>\n",
       "      <td>Agoda</td>\n",
       "      <td>1007</td>\n",
       "      <td>PARKROYAL on Kitchener Road, Singapore</td>\n",
       "      <td>Singapore</td>\n",
       "      <td>Couple</td>\n",
       "      <td>...</td>\n",
       "      <td>Staycay</td>\n",
       "      <td>Clean &amp; Spacious room, amenities were provided...</td>\n",
       "      <td>clean spacious room amenity provide good locat...</td>\n",
       "      <td>clean spacious amenity provide good worth price</td>\n",
       "      <td>spacious amenity provide worth price</td>\n",
       "    </tr>\n",
       "    <tr>\n",
       "      <th>4</th>\n",
       "      <td>Agoda</td>\n",
       "      <td>1007</td>\n",
       "      <td>PARKROYAL on Kitchener Road, Singapore</td>\n",
       "      <td>Singapore</td>\n",
       "      <td>Couple</td>\n",
       "      <td>...</td>\n",
       "      <td>Best hotel.</td>\n",
       "      <td>Clean and big rooms, good location, front offi...</td>\n",
       "      <td>clean big room good location front office gent...</td>\n",
       "      <td>clean big good front office gentleman mr josep...</td>\n",
       "      <td>big front office gentleman mr joseph friendly ...</td>\n",
       "    </tr>\n",
       "  </tbody>\n",
       "</table>\n",
       "<p>5 rows × 17 columns</p>\n",
       "</div>"
      ],
      "text/plain": [
       "  source  hotel_id                              hotel_name    country                  group_name  ...                       review_title                                             review                                  review_cleaned_v1                                  review_cleaned_v2                                  review_cleaned_v3\n",
       "0  Agoda      1007  PARKROYAL on Kitchener Road, Singapore      India                      Couple  ...                                Gr8                             Awesome in all aspects                                     awesome aspect                                     awesome aspect                                     awesome aspect\n",
       "1  Agoda      1007  PARKROYAL on Kitchener Road, Singapore      India                      Couple  ...  Overall it was a good experience   Everything was good there except they dont hav...  everything good except many restaurant hotel c...  everything good except many restaurant charge ...  everything except many restaurant charge cutle...\n",
       "2  Agoda      1007  PARKROYAL on Kitchener Road, Singapore  Singapore  Family with young children  ...                          Nice stay                                          Nice Stay                                          nice stay                                               nice                                                   \n",
       "3  Agoda      1007  PARKROYAL on Kitchener Road, Singapore  Singapore                      Couple  ...                            Staycay  Clean & Spacious room, amenities were provided...  clean spacious room amenity provide good locat...    clean spacious amenity provide good worth price               spacious amenity provide worth price\n",
       "4  Agoda      1007  PARKROYAL on Kitchener Road, Singapore  Singapore                      Couple  ...                        Best hotel.  Clean and big rooms, good location, front offi...  clean big room good location front office gent...  clean big good front office gentleman mr josep...  big front office gentleman mr joseph friendly ...\n",
       "\n",
       "[5 rows x 17 columns]"
      ]
     },
     "execution_count": 6,
     "metadata": {},
     "output_type": "execute_result"
    }
   ],
   "source": [
    "# Remove rows when \"review_cleaned_v2\" is NULL\n",
    "df_review = df_review.dropna(subset=[\"review_cleaned_v2\"]).reset_index(drop=True)\n",
    "\n",
    "# Add custom stopwords\n",
    "custom_stopwords = [\n",
    "    \"good\", \"also\", \"clean\", \"check\", \"well\", \"staff\", \"small\", \"bed\", \"bad\", \"like\", \n",
    "    \"need\", \"even\", \"nice\", \"book\", \"keep\", \"could\", \"bit\", \"take\", \"back\", \"say\", \n",
    "    \"hour\", \"pm\", \"give\", \"make\", \"ask\", \"come\", \"area\", \"meet\", \"guest\", \"long\", \n",
    "    \"floor\", \"near\", \"nearby\", \"around\", \"door\"\n",
    "]\n",
    "\n",
    "en_nlp_utils.add_custom_stopwords(custom_stopwords)\n",
    "\n",
    "df_review_cleaned = en_nlp_utils.normalize_corpus(df_review, \"review_cleaned_v2\", \"review_cleaned_v3\",\n",
    "                                                  html_stripping=False, accented_char_removal=False, \n",
    "                                                  contraction_expansion=False, text_lower_case=False, \n",
    "                                                  extra_newlines_removal=False, extra_whitespace_removal=False,\n",
    "                                                  special_char_removal=False, remove_digits=False, \n",
    "                                                  repeating_char_removal=False, spelling_correction=False, \n",
    "                                                  lemmatize=False, stop_word_removal=True)\n",
    "\n",
    "df_review_cleaned.head()"
   ]
  },
  {
   "cell_type": "code",
   "execution_count": 7,
   "id": "d9172319-7d36-48ba-8252-cac9e09e2729",
   "metadata": {},
   "outputs": [
    {
     "name": "stdout",
     "output_type": "stream",
     "text": [
      "Text processing ended at 2024-06-27 00:01:35.781350\n",
      "Text processing spent 0:00:04.729998\n"
     ]
    }
   ],
   "source": [
    "end_time = datetime.now()\n",
    "print(\"Text processing ended at {}\".format(end_time))\n",
    "print(\"Text processing spent {}\".format(end_time - start_time))"
   ]
  },
  {
   "cell_type": "code",
   "execution_count": 8,
   "id": "6c1230fd-356f-4878-aead-7c7da87c6a95",
   "metadata": {},
   "outputs": [],
   "source": [
    "df_review_cleaned.to_csv(SRC_PATH + \"en_hotel_review.csv\", index=False, encoding=\"utf-8\")"
   ]
  }
 ],
 "metadata": {
  "kernelspec": {
   "display_name": "Python 3 (ipykernel)",
   "language": "python",
   "name": "python3"
  },
  "language_info": {
   "codemirror_mode": {
    "name": "ipython",
    "version": 3
   },
   "file_extension": ".py",
   "mimetype": "text/x-python",
   "name": "python",
   "nbconvert_exporter": "python",
   "pygments_lexer": "ipython3",
   "version": "3.11.1"
  }
 },
 "nbformat": 4,
 "nbformat_minor": 5
}

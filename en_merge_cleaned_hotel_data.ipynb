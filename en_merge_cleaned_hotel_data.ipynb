{
 "cells": [
  {
   "cell_type": "code",
   "execution_count": 1,
   "id": "2fd7aa09-4747-4633-97ce-dbf810c22346",
   "metadata": {},
   "outputs": [],
   "source": [
    "import numpy as np\n",
    "import pandas as pd\n",
    "\n",
    "import en_nlp_utils"
   ]
  },
  {
   "cell_type": "code",
   "execution_count": 2,
   "id": "05e4f060-2983-4e20-81f9-323ec5c2c32a",
   "metadata": {},
   "outputs": [],
   "source": [
    "# Define default source path\n",
    "SRC_PATH = \"src/\""
   ]
  },
  {
   "cell_type": "code",
   "execution_count": 3,
   "id": "e105a5fd-d52b-4512-ae2a-4b37bb687ff0",
   "metadata": {},
   "outputs": [],
   "source": [
    "# Load dataset\n",
    "df_agoda_hotel = pd.read_csv(SRC_PATH + \"agoda_hotels_details_valid.csv\")\n",
    "df_agoda_review = pd.read_csv(SRC_PATH + \"agoda_reviews_details_cleaned.csv\")\n",
    "\n",
    "df_booking_hotel = pd.read_csv(SRC_PATH + \"booking_hotels_details_valid.csv\")\n",
    "df_booking_review = pd.read_csv(SRC_PATH + \"booking_reviews_details_cleaned.csv\")"
   ]
  },
  {
   "cell_type": "code",
   "execution_count": 4,
   "id": "51e7b4b6-6ee3-41e4-8c37-03969028909b",
   "metadata": {},
   "outputs": [
    {
     "name": "stdout",
     "output_type": "stream",
     "text": [
      "\u001b[1mdf_agoda_hotel:\u001b[0m\n",
      "hotel_id                             0\n",
      "hotel_name                           0\n",
      "hotel_url                            0\n",
      "hotel_address                        0\n",
      "total_reviews                        0\n",
      "overall_rating                       0\n",
      "overall_rating_category              0\n",
      "rating_location                      0\n",
      "rating_service                       0\n",
      "rating_cleanliness                   0\n",
      "rating_room_comfort_and_quality    168\n",
      "rating_value_for_money               0\n",
      "rating_facilities                    0\n",
      "dtype: int64\n",
      "\u001b[1mTotal rows in df_agoda_hotel:\u001b[0m 361 \n",
      "\n",
      "\u001b[1mdf_booking_hotel:\u001b[0m\n",
      "url                         0\n",
      "hotel_name                  0\n",
      "address                     0\n",
      "stars                      12\n",
      "reviews_count               0\n",
      "reviews_grade               0\n",
      "grades_staff                0\n",
      "grades_facilities           0\n",
      "grades_cleanliness          0\n",
      "grades_comfort              0\n",
      "grades_value_for_money      0\n",
      "grades_location             0\n",
      "sustainable_level          57\n",
      "most_popular_facilities     0\n",
      "highlights                  0\n",
      "dtype: int64\n",
      "\u001b[1mTotal rows in df_booking_hotel:\u001b[0m 225 \n",
      "\n"
     ]
    }
   ],
   "source": [
    "en_nlp_utils.check_null(df_agoda_hotel, \"df_agoda_hotel\")\n",
    "en_nlp_utils.check_null(df_booking_hotel, \"df_booking_hotel\")"
   ]
  },
  {
   "cell_type": "markdown",
   "id": "d3137ca3-6801-43d2-8280-aca6f6c25471",
   "metadata": {},
   "source": [
    "## 1) Hotel Data"
   ]
  },
  {
   "cell_type": "markdown",
   "id": "ca8fa1bb-e918-4676-a647-9027c66dee1e",
   "metadata": {},
   "source": [
    "### a) Processing df_agoda_hotel"
   ]
  },
  {
   "cell_type": "code",
   "execution_count": 5,
   "id": "86fe09fb-a84c-4ca8-b843-831bd0ada64a",
   "metadata": {},
   "outputs": [],
   "source": [
    "# Remove unnecessary column\n",
    "df_agoda_hotel.drop(columns=[\"hotel_url\"], inplace=True)"
   ]
  },
  {
   "cell_type": "code",
   "execution_count": 6,
   "id": "f515dbb5-28a8-4395-8b8d-a1cbd2ce5891",
   "metadata": {},
   "outputs": [],
   "source": [
    "# Create \"source\" column\n",
    "df_agoda_hotel[\"source\"] = \"Agoda\""
   ]
  },
  {
   "cell_type": "code",
   "execution_count": 7,
   "id": "10449895-3180-4965-96bf-5a5e786b807f",
   "metadata": {},
   "outputs": [],
   "source": [
    "# Fill in NULL values of \"rating_room_comfort_and_quality\" column using its average rating\n",
    "mean_rating = df_agoda_hotel[\"rating_room_comfort_and_quality\"].mean()\n",
    "mean_rating = round(mean_rating, 1)\n",
    "\n",
    "df_agoda_hotel[\"rating_room_comfort_and_quality\"].fillna(mean_rating, inplace=True)"
   ]
  },
  {
   "cell_type": "code",
   "execution_count": 8,
   "id": "f9756c1c-0008-40cf-941c-71d66d60e975",
   "metadata": {},
   "outputs": [],
   "source": [
    "# Convert \"total_reviews\" to integer format\n",
    "df_agoda_hotel[\"total_reviews\"] = df_agoda_hotel[\"total_reviews\"].astype(int)"
   ]
  },
  {
   "cell_type": "markdown",
   "id": "06070940-6ea1-473a-a189-fc92dc04298d",
   "metadata": {},
   "source": [
    "### b) Processing df_booking_hotel"
   ]
  },
  {
   "cell_type": "code",
   "execution_count": 9,
   "id": "2be6f8b2-3714-4ed4-be60-f80201f6b74f",
   "metadata": {},
   "outputs": [],
   "source": [
    "# Remove unnecessary columns\n",
    "df_booking_hotel.drop(columns=[\"url\", \"stars\", \"sustainable_level\", \"most_popular_facilities\", \"highlights\"], inplace=True)"
   ]
  },
  {
   "cell_type": "code",
   "execution_count": 10,
   "id": "b41c1085-3f61-4daf-837e-294dc0afdecc",
   "metadata": {},
   "outputs": [],
   "source": [
    "# Rename columns for consistency\n",
    "df_booking_hotel = df_booking_hotel.rename(columns={\"address\": \"hotel_address\",\n",
    "                                                   \"reviews_count\": \"total_reviews\",\n",
    "                                                   \"reviews_grade\": \"overall_rating\",\n",
    "                                                   \"grades_location\": \"rating_location\",\n",
    "                                                   \"grades_staff\": \"rating_service\",\n",
    "                                                   \"grades_cleanliness\": \"rating_cleanliness\",\n",
    "                                                   \"grades_comfort\": \"rating_room_comfort_and_quality\",\n",
    "                                                   \"grades_value_for_money\": \"rating_value_for_money\",\n",
    "                                                   \"grades_facilities\": \"rating_facilities\"})"
   ]
  },
  {
   "cell_type": "code",
   "execution_count": 11,
   "id": "0f41f913-4f0e-4612-ace9-077e5e5960a8",
   "metadata": {},
   "outputs": [],
   "source": [
    "# List key columns that are used to identify the duplicate rows\n",
    "key_columns_hotel = [\"hotel_name\", \"hotel_address\"]\n",
    "\n",
    "# Find out duplicated rows and keep last one\n",
    "duplicated_rows_hotel = df_booking_hotel[df_booking_hotel.duplicated(subset=key_columns_hotel, keep=\"last\")]\n",
    "\n",
    "# Remove duplicated rows and keep last one\n",
    "df_booking_hotel = df_booking_hotel.drop_duplicates(subset=key_columns_hotel, keep=\"last\").reset_index(drop=True)"
   ]
  },
  {
   "cell_type": "code",
   "execution_count": 12,
   "id": "0dd7d419-71c5-4019-8062-8904ef73ad17",
   "metadata": {},
   "outputs": [],
   "source": [
    "# Create \"hotel_id\" column\n",
    "df_booking_hotel[\"hotel_id\"] = range(1, len(df_booking_hotel) + 1)\n",
    "\n",
    "# Create \"source\" column\n",
    "df_booking_hotel[\"source\"] = \"Booking\""
   ]
  },
  {
   "cell_type": "code",
   "execution_count": 13,
   "id": "527d3f0c-fea3-42ef-ad77-990acd642edd",
   "metadata": {},
   "outputs": [],
   "source": [
    "# Create \"overall_rating_category\" column\n",
    "\n",
    "# Note:\n",
    "# overall_rating_category = \"Exceptional\": overall_rating >= 9\n",
    "# overall_rating_category = \"Excellent\": overall_rating >= 8 and < 9\n",
    "# overall_rating_category = \"Very Good\": overall_rating >= 7 and < 8\n",
    "# overall_rating_category = \"Good\": overall_rating >= 6 and < 7\n",
    "# overall_rating_category = \"Below Expectation\": overall_rating < 6\n",
    "\n",
    "df_booking_hotel.loc[df_booking_hotel[\"overall_rating\"] >= 9, \"overall_rating_category\"] = \"Exceptional\"\n",
    "df_booking_hotel.loc[(df_booking_hotel[\"overall_rating\"] >= 8) & (df_booking_hotel[\"overall_rating\"] < 9), \"overall_rating_category\"] = \"Excellent\"\n",
    "df_booking_hotel.loc[(df_booking_hotel[\"overall_rating\"] >= 7) & (df_booking_hotel[\"overall_rating\"] < 8), \"overall_rating_category\"] = \"Very Good\"\n",
    "df_booking_hotel.loc[(df_booking_hotel[\"overall_rating\"] >= 6) & (df_booking_hotel[\"overall_rating\"] < 7), \"overall_rating_category\"] = \"Good\"\n",
    "df_booking_hotel.loc[df_booking_hotel[\"overall_rating\"] < 6, \"overall_rating_category\"] = \"Below Expectation\""
   ]
  },
  {
   "cell_type": "markdown",
   "id": "db6bbf31-d3ff-41d6-ab96-09cf63abd508",
   "metadata": {},
   "source": [
    "### c) Merge datasets"
   ]
  },
  {
   "cell_type": "code",
   "execution_count": 14,
   "id": "93e06c80-d0f4-41e5-b3e1-d897d3ccf0ac",
   "metadata": {},
   "outputs": [],
   "source": [
    "# Merge datasets\n",
    "df_merged_hotel = pd.concat([df_agoda_hotel, df_booking_hotel], ignore_index=True)"
   ]
  },
  {
   "cell_type": "markdown",
   "id": "d26aa87a-dd42-4781-b238-39661f072a4c",
   "metadata": {},
   "source": [
    "### d) Processing merged data"
   ]
  },
  {
   "cell_type": "markdown",
   "id": "7d7536bb-2b6f-4828-8301-5be835c385d9",
   "metadata": {},
   "source": [
    "#### Extract/Fill in postal codes¶"
   ]
  },
  {
   "cell_type": "code",
   "execution_count": 15,
   "id": "73257cc4-7249-417b-b135-9cdbd2e17178",
   "metadata": {},
   "outputs": [
    {
     "data": {
      "text/html": [
       "<div>\n",
       "<style scoped>\n",
       "    .dataframe tbody tr th:only-of-type {\n",
       "        vertical-align: middle;\n",
       "    }\n",
       "\n",
       "    .dataframe tbody tr th {\n",
       "        vertical-align: top;\n",
       "    }\n",
       "\n",
       "    .dataframe thead th {\n",
       "        text-align: right;\n",
       "    }\n",
       "</style>\n",
       "<table border=\"1\" class=\"dataframe\">\n",
       "  <thead>\n",
       "    <tr style=\"text-align: right;\">\n",
       "      <th></th>\n",
       "      <th>hotel_id</th>\n",
       "      <th>hotel_name</th>\n",
       "      <th>hotel_address</th>\n",
       "      <th>total_reviews</th>\n",
       "      <th>overall_rating</th>\n",
       "      <th>overall_rating_category</th>\n",
       "      <th>rating_location</th>\n",
       "      <th>rating_service</th>\n",
       "      <th>rating_cleanliness</th>\n",
       "      <th>rating_room_comfort_and_quality</th>\n",
       "      <th>rating_value_for_money</th>\n",
       "      <th>rating_facilities</th>\n",
       "      <th>source</th>\n",
       "      <th>hotel_postal_code</th>\n",
       "    </tr>\n",
       "  </thead>\n",
       "  <tbody>\n",
       "    <tr>\n",
       "      <th>0</th>\n",
       "      <td>408551</td>\n",
       "      <td>Dorsett Singapore</td>\n",
       "      <td>333 New Bridge Road, Chinatown, Singapore, Sin...</td>\n",
       "      <td>10337</td>\n",
       "      <td>8.2</td>\n",
       "      <td>Excellent</td>\n",
       "      <td>9.0</td>\n",
       "      <td>8.4</td>\n",
       "      <td>8.3</td>\n",
       "      <td>8.1</td>\n",
       "      <td>8.1</td>\n",
       "      <td>7.9</td>\n",
       "      <td>Agoda</td>\n",
       "      <td>088765</td>\n",
       "    </tr>\n",
       "    <tr>\n",
       "      <th>1</th>\n",
       "      <td>1635</td>\n",
       "      <td>M Hotel Singapore</td>\n",
       "      <td>81 Anson Road, CBD, Singapore, Singapore, 079908</td>\n",
       "      <td>9034</td>\n",
       "      <td>8.1</td>\n",
       "      <td>Excellent</td>\n",
       "      <td>8.2</td>\n",
       "      <td>8.1</td>\n",
       "      <td>8.5</td>\n",
       "      <td>8.2</td>\n",
       "      <td>8.0</td>\n",
       "      <td>8.0</td>\n",
       "      <td>Agoda</td>\n",
       "      <td>079908</td>\n",
       "    </tr>\n",
       "  </tbody>\n",
       "</table>\n",
       "</div>"
      ],
      "text/plain": [
       "   hotel_id         hotel_name  \\\n",
       "0    408551  Dorsett Singapore   \n",
       "1      1635  M Hotel Singapore   \n",
       "\n",
       "                                       hotel_address  total_reviews  \\\n",
       "0  333 New Bridge Road, Chinatown, Singapore, Sin...          10337   \n",
       "1   81 Anson Road, CBD, Singapore, Singapore, 079908           9034   \n",
       "\n",
       "   overall_rating overall_rating_category  rating_location  rating_service  \\\n",
       "0             8.2               Excellent              9.0             8.4   \n",
       "1             8.1               Excellent              8.2             8.1   \n",
       "\n",
       "   rating_cleanliness  rating_room_comfort_and_quality  \\\n",
       "0                 8.3                              8.1   \n",
       "1                 8.5                              8.2   \n",
       "\n",
       "   rating_value_for_money  rating_facilities source hotel_postal_code  \n",
       "0                     8.1                7.9  Agoda            088765  \n",
       "1                     8.0                8.0  Agoda            079908  "
      ]
     },
     "execution_count": 15,
     "metadata": {},
     "output_type": "execute_result"
    }
   ],
   "source": [
    "# Extract postal code from \"hotel_address\" column and add as new column \"hotel_postal_code\"\n",
    "df_merged_hotel[\"hotel_postal_code\"] = df_merged_hotel[\"hotel_address\"].str.extract(r\"\\b(\\d{6})\\b\")\n",
    "df_merged_hotel.head(2)"
   ]
  },
  {
   "cell_type": "code",
   "execution_count": 16,
   "id": "22ff8979-4713-4c1a-b0f5-7a6128fba0d9",
   "metadata": {},
   "outputs": [
    {
     "data": {
      "text/html": [
       "<div>\n",
       "<style scoped>\n",
       "    .dataframe tbody tr th:only-of-type {\n",
       "        vertical-align: middle;\n",
       "    }\n",
       "\n",
       "    .dataframe tbody tr th {\n",
       "        vertical-align: top;\n",
       "    }\n",
       "\n",
       "    .dataframe thead th {\n",
       "        text-align: right;\n",
       "    }\n",
       "</style>\n",
       "<table border=\"1\" class=\"dataframe\">\n",
       "  <thead>\n",
       "    <tr style=\"text-align: right;\">\n",
       "      <th></th>\n",
       "      <th>hotel_name</th>\n",
       "      <th>hotel_address</th>\n",
       "      <th>hotel_postal_code</th>\n",
       "      <th>source</th>\n",
       "    </tr>\n",
       "  </thead>\n",
       "  <tbody>\n",
       "    <tr>\n",
       "      <th>92</th>\n",
       "      <td>PARKROYAL COLLECTION Marina Bay, Singapore</td>\n",
       "      <td>6 Raffles Boulevard Marina Square, Marina Bay,...</td>\n",
       "      <td>NaN</td>\n",
       "      <td>Agoda</td>\n",
       "    </tr>\n",
       "    <tr>\n",
       "      <th>102</th>\n",
       "      <td>Hotel 81 Premier Star</td>\n",
       "      <td>31 Lorong 18 Geylang, Geylang, Singapore, Sing...</td>\n",
       "      <td>NaN</td>\n",
       "      <td>Agoda</td>\n",
       "    </tr>\n",
       "    <tr>\n",
       "      <th>104</th>\n",
       "      <td>Holiday Inn Express Singapore Clarke Quay</td>\n",
       "      <td>2 Magazine Road, Clarke Quay, Singapore, Singa...</td>\n",
       "      <td>NaN</td>\n",
       "      <td>Agoda</td>\n",
       "    </tr>\n",
       "    <tr>\n",
       "      <th>135</th>\n",
       "      <td>The Sultan</td>\n",
       "      <td>101 Jalan Sultan, Bugis, Singapore, Singapore</td>\n",
       "      <td>NaN</td>\n",
       "      <td>Agoda</td>\n",
       "    </tr>\n",
       "    <tr>\n",
       "      <th>140</th>\n",
       "      <td>30 Bencoolen</td>\n",
       "      <td>30 Bencoolen Street, Bugis, Singapore, Singapo...</td>\n",
       "      <td>NaN</td>\n",
       "      <td>Agoda</td>\n",
       "    </tr>\n",
       "    <tr>\n",
       "      <th>249</th>\n",
       "      <td>Lion Peak Hotel Bugis</td>\n",
       "      <td>103 Beach Road, Bugis, Singapore, Singapore</td>\n",
       "      <td>NaN</td>\n",
       "      <td>Agoda</td>\n",
       "    </tr>\n",
       "    <tr>\n",
       "      <th>280</th>\n",
       "      <td>Citadines Raffles Place Singapore</td>\n",
       "      <td>88 Market Street, CBD, Singapore, Singapore, 4...</td>\n",
       "      <td>NaN</td>\n",
       "      <td>Agoda</td>\n",
       "    </tr>\n",
       "    <tr>\n",
       "      <th>295</th>\n",
       "      <td>The Westin Singapore</td>\n",
       "      <td>12 Marina View, Asia Square Tower 2, CBD, Sing...</td>\n",
       "      <td>NaN</td>\n",
       "      <td>Agoda</td>\n",
       "    </tr>\n",
       "    <tr>\n",
       "      <th>306</th>\n",
       "      <td>JXIN HOTEL 嘉鑫酒店</td>\n",
       "      <td>Lorong 10 Geylang, 9, Geylang, Singapore, Sing...</td>\n",
       "      <td>NaN</td>\n",
       "      <td>Agoda</td>\n",
       "    </tr>\n",
       "    <tr>\n",
       "      <th>326</th>\n",
       "      <td>Fragrance Hotel - Oasis</td>\n",
       "      <td>435 Balestier Road, Novena, Singapore, Singapore</td>\n",
       "      <td>NaN</td>\n",
       "      <td>Agoda</td>\n",
       "    </tr>\n",
       "    <tr>\n",
       "      <th>342</th>\n",
       "      <td>Seaside Glamping @ Heritage Chalet</td>\n",
       "      <td>Changi, Singapore, Singapore</td>\n",
       "      <td>NaN</td>\n",
       "      <td>Agoda</td>\n",
       "    </tr>\n",
       "    <tr>\n",
       "      <th>351</th>\n",
       "      <td>Mandarin Oriental Singapore</td>\n",
       "      <td>5 Raffles Avenue Marina Square, Marina Bay, Si...</td>\n",
       "      <td>NaN</td>\n",
       "      <td>Agoda</td>\n",
       "    </tr>\n",
       "    <tr>\n",
       "      <th>355</th>\n",
       "      <td>SeaGazers @ Marina Waterfront</td>\n",
       "      <td>Punggol, Singapore, Singapore</td>\n",
       "      <td>NaN</td>\n",
       "      <td>Agoda</td>\n",
       "    </tr>\n",
       "    <tr>\n",
       "      <th>357</th>\n",
       "      <td>ST Signature Tanjong Pagar, SHORT OVERNIGHT, 1...</td>\n",
       "      <td>CBD, Singapore, Singapore</td>\n",
       "      <td>NaN</td>\n",
       "      <td>Agoda</td>\n",
       "    </tr>\n",
       "    <tr>\n",
       "      <th>454</th>\n",
       "      <td>Mondrian Singapore Duxton</td>\n",
       "      <td>16A Duxton Hill, Chinatown, 89970 Singapore, S...</td>\n",
       "      <td>NaN</td>\n",
       "      <td>Booking</td>\n",
       "    </tr>\n",
       "    <tr>\n",
       "      <th>502</th>\n",
       "      <td>Hotel Faber Park Singapore - Handwritten Colle...</td>\n",
       "      <td>448 Telok Blangah Road, 99593 Singapore, Singa...</td>\n",
       "      <td>NaN</td>\n",
       "      <td>Booking</td>\n",
       "    </tr>\n",
       "    <tr>\n",
       "      <th>569</th>\n",
       "      <td>ibis budget Singapore Pearl</td>\n",
       "      <td>No. 21, Geylang Lorong 14, 398 961 Singapore, ...</td>\n",
       "      <td>NaN</td>\n",
       "      <td>Booking</td>\n",
       "    </tr>\n",
       "  </tbody>\n",
       "</table>\n",
       "</div>"
      ],
      "text/plain": [
       "                                            hotel_name  \\\n",
       "92          PARKROYAL COLLECTION Marina Bay, Singapore   \n",
       "102                              Hotel 81 Premier Star   \n",
       "104          Holiday Inn Express Singapore Clarke Quay   \n",
       "135                                         The Sultan   \n",
       "140                                       30 Bencoolen   \n",
       "249                              Lion Peak Hotel Bugis   \n",
       "280                  Citadines Raffles Place Singapore   \n",
       "295                               The Westin Singapore   \n",
       "306                                    JXIN HOTEL 嘉鑫酒店   \n",
       "326                            Fragrance Hotel - Oasis   \n",
       "342                 Seaside Glamping @ Heritage Chalet   \n",
       "351                        Mandarin Oriental Singapore   \n",
       "355                      SeaGazers @ Marina Waterfront   \n",
       "357  ST Signature Tanjong Pagar, SHORT OVERNIGHT, 1...   \n",
       "454                          Mondrian Singapore Duxton   \n",
       "502  Hotel Faber Park Singapore - Handwritten Colle...   \n",
       "569                        ibis budget Singapore Pearl   \n",
       "\n",
       "                                         hotel_address hotel_postal_code  \\\n",
       "92   6 Raffles Boulevard Marina Square, Marina Bay,...               NaN   \n",
       "102  31 Lorong 18 Geylang, Geylang, Singapore, Sing...               NaN   \n",
       "104  2 Magazine Road, Clarke Quay, Singapore, Singa...               NaN   \n",
       "135      101 Jalan Sultan, Bugis, Singapore, Singapore               NaN   \n",
       "140  30 Bencoolen Street, Bugis, Singapore, Singapo...               NaN   \n",
       "249        103 Beach Road, Bugis, Singapore, Singapore               NaN   \n",
       "280  88 Market Street, CBD, Singapore, Singapore, 4...               NaN   \n",
       "295  12 Marina View, Asia Square Tower 2, CBD, Sing...               NaN   \n",
       "306  Lorong 10 Geylang, 9, Geylang, Singapore, Sing...               NaN   \n",
       "326   435 Balestier Road, Novena, Singapore, Singapore               NaN   \n",
       "342                       Changi, Singapore, Singapore               NaN   \n",
       "351  5 Raffles Avenue Marina Square, Marina Bay, Si...               NaN   \n",
       "355                      Punggol, Singapore, Singapore               NaN   \n",
       "357                          CBD, Singapore, Singapore               NaN   \n",
       "454  16A Duxton Hill, Chinatown, 89970 Singapore, S...               NaN   \n",
       "502  448 Telok Blangah Road, 99593 Singapore, Singa...               NaN   \n",
       "569  No. 21, Geylang Lorong 14, 398 961 Singapore, ...               NaN   \n",
       "\n",
       "      source  \n",
       "92     Agoda  \n",
       "102    Agoda  \n",
       "104    Agoda  \n",
       "135    Agoda  \n",
       "140    Agoda  \n",
       "249    Agoda  \n",
       "280    Agoda  \n",
       "295    Agoda  \n",
       "306    Agoda  \n",
       "326    Agoda  \n",
       "342    Agoda  \n",
       "351    Agoda  \n",
       "355    Agoda  \n",
       "357    Agoda  \n",
       "454  Booking  \n",
       "502  Booking  \n",
       "569  Booking  "
      ]
     },
     "execution_count": 16,
     "metadata": {},
     "output_type": "execute_result"
    }
   ],
   "source": [
    "# Find the rows of hotel without postal codes \n",
    "rows_missing_postal_codes = df_merged_hotel[df_merged_hotel[\"hotel_postal_code\"].isnull()]\n",
    "rows_missing_postal_codes[[\"hotel_name\", \"hotel_address\", \"hotel_postal_code\", \"source\"]]"
   ]
  },
  {
   "cell_type": "code",
   "execution_count": 17,
   "id": "aa60c9cc-6d0e-42f0-95f4-3a848c4dc029",
   "metadata": {},
   "outputs": [],
   "source": [
    "# Manually find out the postal codes\n",
    "replacement_postal_codes = [\"039594\", \"398828\", \"059573\", \"199002\", \"189621\", \"189704\", \"048948\", \n",
    "                            \"018961\", \"399042\", \"329816\", \"519121\", \"039797\", \"828670\", \"078972\", \n",
    "                            \"089970\", \"099593\", \"398961\"]\n",
    "\n",
    "# Replace the missing postal codes with values in \"replacement_postal_codes\"\n",
    "for i, postal_code in enumerate(replacement_postal_codes):\n",
    "    df_merged_hotel.loc[rows_missing_postal_codes.index[i], \"hotel_postal_code\"] = postal_code"
   ]
  },
  {
   "cell_type": "markdown",
   "id": "eba526d4-c2f7-4529-b470-ee059647947e",
   "metadata": {},
   "source": [
    "#### Map postal codes to longitude and latitude¶"
   ]
  },
  {
   "cell_type": "code",
   "execution_count": 18,
   "id": "7ea09e46-42f1-4bf5-b248-855612de8c57",
   "metadata": {},
   "outputs": [],
   "source": [
    "# Load postal data\n",
    "df_postal = pd.read_csv(SRC_PATH + \"SG_postal.csv\")\n",
    "\n",
    "# Change \"postal_code\" data type as str\n",
    "df_postal[\"postal_code\"] = df_postal[\"postal_code\"].astype(str)\n",
    "\n",
    "# Add a \"0\" in front of postal_code of df_postal with 5 digits\n",
    "df_postal[\"postal_code\"] = df_postal[\"postal_code\"].apply(lambda x: x.zfill(6))\n",
    "\n",
    "# Merge df_merged_hotel and df_postal based on postal codes\n",
    "df_merged_hotel = pd.merge(df_merged_hotel, df_postal, how=\"left\", left_on=\"hotel_postal_code\", right_on=\"postal_code\")"
   ]
  },
  {
   "cell_type": "code",
   "execution_count": 19,
   "id": "a34f02d3-1934-4f38-82fb-a3e11f3d9cb6",
   "metadata": {},
   "outputs": [
    {
     "data": {
      "text/html": [
       "<div>\n",
       "<style scoped>\n",
       "    .dataframe tbody tr th:only-of-type {\n",
       "        vertical-align: middle;\n",
       "    }\n",
       "\n",
       "    .dataframe tbody tr th {\n",
       "        vertical-align: top;\n",
       "    }\n",
       "\n",
       "    .dataframe thead th {\n",
       "        text-align: right;\n",
       "    }\n",
       "</style>\n",
       "<table border=\"1\" class=\"dataframe\">\n",
       "  <thead>\n",
       "    <tr style=\"text-align: right;\">\n",
       "      <th></th>\n",
       "      <th>hotel_name</th>\n",
       "      <th>hotel_postal_code</th>\n",
       "      <th>source</th>\n",
       "    </tr>\n",
       "  </thead>\n",
       "  <tbody>\n",
       "    <tr>\n",
       "      <th>84</th>\n",
       "      <td>Mondrian Singapore Duxton</td>\n",
       "      <td>089970</td>\n",
       "      <td>Agoda</td>\n",
       "    </tr>\n",
       "    <tr>\n",
       "      <th>111</th>\n",
       "      <td>Hotel 81 Kovan</td>\n",
       "      <td>543636</td>\n",
       "      <td>Agoda</td>\n",
       "    </tr>\n",
       "    <tr>\n",
       "      <th>141</th>\n",
       "      <td>lyf one-north Singapore</td>\n",
       "      <td>139409</td>\n",
       "      <td>Agoda</td>\n",
       "    </tr>\n",
       "    <tr>\n",
       "      <th>230</th>\n",
       "      <td>Aqueen Prestige Hotel Lavender</td>\n",
       "      <td>207577</td>\n",
       "      <td>Agoda</td>\n",
       "    </tr>\n",
       "    <tr>\n",
       "      <th>334</th>\n",
       "      <td>Pullman Singapore Hill Street</td>\n",
       "      <td>179949</td>\n",
       "      <td>Agoda</td>\n",
       "    </tr>\n",
       "    <tr>\n",
       "      <th>335</th>\n",
       "      <td>Galaxy Pods @ Chinatown</td>\n",
       "      <td>059505</td>\n",
       "      <td>Agoda</td>\n",
       "    </tr>\n",
       "    <tr>\n",
       "      <th>430</th>\n",
       "      <td>lyf one-north Singapore</td>\n",
       "      <td>139409</td>\n",
       "      <td>Booking</td>\n",
       "    </tr>\n",
       "    <tr>\n",
       "      <th>454</th>\n",
       "      <td>Mondrian Singapore Duxton</td>\n",
       "      <td>089970</td>\n",
       "      <td>Booking</td>\n",
       "    </tr>\n",
       "    <tr>\n",
       "      <th>502</th>\n",
       "      <td>Hotel Faber Park Singapore - Handwritten Colle...</td>\n",
       "      <td>099593</td>\n",
       "      <td>Booking</td>\n",
       "    </tr>\n",
       "    <tr>\n",
       "      <th>550</th>\n",
       "      <td>Pullman Singapore Hill Street</td>\n",
       "      <td>179949</td>\n",
       "      <td>Booking</td>\n",
       "    </tr>\n",
       "    <tr>\n",
       "      <th>554</th>\n",
       "      <td>Fraser Residence River Promenade, Singapore</td>\n",
       "      <td>169425</td>\n",
       "      <td>Booking</td>\n",
       "    </tr>\n",
       "    <tr>\n",
       "      <th>579</th>\n",
       "      <td>Galaxy Pods @ Chinatown</td>\n",
       "      <td>059505</td>\n",
       "      <td>Booking</td>\n",
       "    </tr>\n",
       "  </tbody>\n",
       "</table>\n",
       "</div>"
      ],
      "text/plain": [
       "                                            hotel_name hotel_postal_code  \\\n",
       "84                           Mondrian Singapore Duxton            089970   \n",
       "111                                     Hotel 81 Kovan            543636   \n",
       "141                            lyf one-north Singapore            139409   \n",
       "230                     Aqueen Prestige Hotel Lavender            207577   \n",
       "334                      Pullman Singapore Hill Street            179949   \n",
       "335                            Galaxy Pods @ Chinatown            059505   \n",
       "430                            lyf one-north Singapore            139409   \n",
       "454                          Mondrian Singapore Duxton            089970   \n",
       "502  Hotel Faber Park Singapore - Handwritten Colle...            099593   \n",
       "550                      Pullman Singapore Hill Street            179949   \n",
       "554        Fraser Residence River Promenade, Singapore            169425   \n",
       "579                            Galaxy Pods @ Chinatown            059505   \n",
       "\n",
       "      source  \n",
       "84     Agoda  \n",
       "111    Agoda  \n",
       "141    Agoda  \n",
       "230    Agoda  \n",
       "334    Agoda  \n",
       "335    Agoda  \n",
       "430  Booking  \n",
       "454  Booking  \n",
       "502  Booking  \n",
       "550  Booking  \n",
       "554  Booking  \n",
       "579  Booking  "
      ]
     },
     "execution_count": 19,
     "metadata": {},
     "output_type": "execute_result"
    }
   ],
   "source": [
    "# Find the rows of hotel without latitude/longitude\n",
    "rows_missing_lat_lon = df_merged_hotel[df_merged_hotel[\"lat\"].isnull()]\n",
    "rows_missing_lat_lon[[\"hotel_name\", \"hotel_postal_code\", \"source\"]]"
   ]
  },
  {
   "cell_type": "code",
   "execution_count": 20,
   "id": "fe3078e9-3407-409d-bfe0-83b866ca803f",
   "metadata": {},
   "outputs": [],
   "source": [
    "# Manually find out the latitude/longitude\n",
    "replacement_lat_lon = [\"1.2789417774465628, 103.84267813216216\", \"1.3544863670909781, 103.87891156633059\",\n",
    "                       \"1.3010513983161585, 103.78810722400226\", \"1.3132099146320708, 103.86075809284718\",\n",
    "                       \"1.2939472946122026, 103.85066931050956\", \"1.2837052738743098, 103.84557825283808\",\n",
    "                       \"1.3010513983161585, 103.78810722400226\", \"1.2789417774465628, 103.84267813216216\",\n",
    "                       \"1.2703444013142564, 103.81339682400237\", \"1.2939472946122026, 103.85066931050956\",\n",
    "                       \"1.2915950992469878, 103.83533876633084\", \"1.2837052738743098, 103.84557825283808\"]\n",
    "\n",
    "# Replace the missing latitude/longitude with values in \"replacement_lat_lon\"\n",
    "for i, lat_lon in enumerate(replacement_lat_lon):\n",
    "    # Split the latitude and longitude values\n",
    "    lat, lon = map(float, lat_lon.split(', '))\n",
    "    \n",
    "    # Round the latitude and longitude to four decimal places\n",
    "    lat = round(lat, 4)\n",
    "    lon = round(lon, 4)\n",
    "    \n",
    "    # Update latitude/longitude values into df_merged_hotel\n",
    "    df_merged_hotel.loc[rows_missing_lat_lon.index[i], \"lat\"] = lat\n",
    "    df_merged_hotel.loc[rows_missing_lat_lon.index[i], \"lon\"] = lon"
   ]
  },
  {
   "cell_type": "markdown",
   "id": "1f9d5c89-945a-41cc-85ff-2756b6a72ab4",
   "metadata": {},
   "source": [
    "#### Remove unnecessary columns and reorder columns"
   ]
  },
  {
   "cell_type": "code",
   "execution_count": 21,
   "id": "588aaf8c-0283-4b87-8292-08beed925d75",
   "metadata": {},
   "outputs": [],
   "source": [
    "# Remove unnecessary columns\n",
    "df_merged_hotel.drop(columns=[\"postal_code\", \"street_name\"], inplace=True)"
   ]
  },
  {
   "cell_type": "code",
   "execution_count": 22,
   "id": "cbf13e3d-9659-490f-a84d-1fac5adfd663",
   "metadata": {},
   "outputs": [],
   "source": [
    "# New column order\n",
    "new_column_order = [\"source\", \"hotel_id\", \"hotel_name\", \"hotel_address\", \"hotel_postal_code\", \"lat\", \"lon\",\n",
    "                    \"total_reviews\", \"overall_rating\", \"overall_rating_category\", \"rating_location\",\n",
    "                    \"rating_service\", \"rating_cleanliness\", \"rating_room_comfort_and_quality\",\n",
    "                    \"rating_value_for_money\", \"rating_facilities\"]\n",
    "\n",
    "# Reorder columns\n",
    "df_merged_hotel = df_merged_hotel.reindex(columns=new_column_order)"
   ]
  },
  {
   "cell_type": "code",
   "execution_count": 23,
   "id": "da43fc35-3feb-4eb2-9c82-8c230942f412",
   "metadata": {},
   "outputs": [
    {
     "name": "stdout",
     "output_type": "stream",
     "text": [
      "\u001b[1mdf_merged_hotel:\u001b[0m\n",
      "source                             0\n",
      "hotel_id                           0\n",
      "hotel_name                         0\n",
      "hotel_address                      0\n",
      "hotel_postal_code                  0\n",
      "lat                                0\n",
      "lon                                0\n",
      "total_reviews                      0\n",
      "overall_rating                     0\n",
      "overall_rating_category            0\n",
      "rating_location                    0\n",
      "rating_service                     0\n",
      "rating_cleanliness                 0\n",
      "rating_room_comfort_and_quality    0\n",
      "rating_value_for_money             0\n",
      "rating_facilities                  0\n",
      "dtype: int64\n",
      "\u001b[1mTotal rows in df_merged_hotel:\u001b[0m 584 \n",
      "\n"
     ]
    }
   ],
   "source": [
    "# Check NULL values\n",
    "en_nlp_utils.check_null(df_merged_hotel, \"df_merged_hotel\")"
   ]
  },
  {
   "cell_type": "markdown",
   "id": "91a55bac-c54b-4465-8868-c4bca9567bd1",
   "metadata": {},
   "source": [
    "## 2) Review Data"
   ]
  },
  {
   "cell_type": "markdown",
   "id": "6c4501d9-ddf1-4863-8415-eb917fa8da2a",
   "metadata": {},
   "source": [
    "### a) Processing df_agoda_review"
   ]
  },
  {
   "cell_type": "code",
   "execution_count": 24,
   "id": "2587ba11-cc4b-45ca-894d-52e1f8747853",
   "metadata": {},
   "outputs": [],
   "source": [
    "# Remove unnecessary column\n",
    "df_agoda_review.drop(columns=[\"rating_cat\", \"reviewer\", \"stay_details\"], inplace=True)"
   ]
  },
  {
   "cell_type": "code",
   "execution_count": 25,
   "id": "d9842c39-e9d4-4f6b-b3db-a0475d449d2b",
   "metadata": {},
   "outputs": [],
   "source": [
    "# Rename columns for consistency\n",
    "df_agoda_review = df_agoda_review.rename(columns={\"review_score_cat\": \"review_score_category\"})"
   ]
  },
  {
   "cell_type": "code",
   "execution_count": 26,
   "id": "c579ed87-bf5e-43e5-b26b-0910d913e266",
   "metadata": {},
   "outputs": [],
   "source": [
    "# Create \"source\" column\n",
    "df_agoda_review[\"source\"] = \"Agoda\""
   ]
  },
  {
   "cell_type": "code",
   "execution_count": 27,
   "id": "7f194fc6-307e-4bc3-84af-81a362fc1028",
   "metadata": {},
   "outputs": [],
   "source": [
    "# Create \"sentiment\" column\n",
    "\n",
    "# Note:\n",
    "# positive: review_score >= 6\n",
    "# negative: review_score < 6\n",
    "\n",
    "df_agoda_review.loc[df_agoda_review[\"review_score\"] >= 6, \"sentiment\"] = \"positive\"\n",
    "df_agoda_review.loc[df_agoda_review[\"review_score\"] < 6, \"sentiment\"] = \"negative\""
   ]
  },
  {
   "cell_type": "code",
   "execution_count": 28,
   "id": "b8b6473c-ae80-44d5-b1ba-87977c20e9ee",
   "metadata": {},
   "outputs": [],
   "source": [
    "# Fill in NULL values of \"group_name\" and \"room_type\" columns using \"Other\"\n",
    "df_agoda_review[\"group_name\"].fillna(\"Other\", inplace=True)\n",
    "df_agoda_review[\"room_type\"].fillna(\"Other\", inplace=True)"
   ]
  },
  {
   "cell_type": "code",
   "execution_count": 29,
   "id": "b3f2c41e-7892-461f-a29d-649546013cdd",
   "metadata": {},
   "outputs": [
    {
     "name": "stdout",
     "output_type": "stream",
     "text": [
      "\u001b[1mdf_agoda_review:\u001b[0m\n",
      "hotel_id                  0\n",
      "hotel_name                0\n",
      "country                   0\n",
      "group_name                0\n",
      "room_type                 0\n",
      "stay_length               0\n",
      "stay_date                 0\n",
      "review_score              0\n",
      "review_score_category     0\n",
      "review_date               0\n",
      "review_title              0\n",
      "review                    0\n",
      "review_cleaned_v1        97\n",
      "source                    0\n",
      "sentiment                 0\n",
      "dtype: int64\n",
      "\u001b[1mTotal rows in df_agoda_review:\u001b[0m 31582 \n",
      "\n"
     ]
    }
   ],
   "source": [
    "# Check NULL values\n",
    "en_nlp_utils.check_null(df_agoda_review, \"df_agoda_review\")"
   ]
  },
  {
   "cell_type": "code",
   "execution_count": 30,
   "id": "72055424-830d-4cf4-96a7-8225ce761da3",
   "metadata": {},
   "outputs": [
    {
     "data": {
      "text/html": [
       "<div>\n",
       "<style scoped>\n",
       "    .dataframe tbody tr th:only-of-type {\n",
       "        vertical-align: middle;\n",
       "    }\n",
       "\n",
       "    .dataframe tbody tr th {\n",
       "        vertical-align: top;\n",
       "    }\n",
       "\n",
       "    .dataframe thead th {\n",
       "        text-align: right;\n",
       "    }\n",
       "</style>\n",
       "<table border=\"1\" class=\"dataframe\">\n",
       "  <thead>\n",
       "    <tr style=\"text-align: right;\">\n",
       "      <th></th>\n",
       "      <th>hotel_id</th>\n",
       "      <th>hotel_name</th>\n",
       "      <th>country</th>\n",
       "      <th>group_name</th>\n",
       "      <th>room_type</th>\n",
       "      <th>stay_length</th>\n",
       "      <th>stay_date</th>\n",
       "      <th>review_score</th>\n",
       "      <th>review_score_category</th>\n",
       "      <th>review_date</th>\n",
       "      <th>review_title</th>\n",
       "      <th>review</th>\n",
       "      <th>review_cleaned_v1</th>\n",
       "      <th>source</th>\n",
       "      <th>sentiment</th>\n",
       "    </tr>\n",
       "  </thead>\n",
       "  <tbody>\n",
       "    <tr>\n",
       "      <th>0</th>\n",
       "      <td>1007</td>\n",
       "      <td>PARKROYAL on Kitchener Road, Singapore</td>\n",
       "      <td>India</td>\n",
       "      <td>Couple</td>\n",
       "      <td>Superior Corner Room with 1 King Bed</td>\n",
       "      <td>6.0</td>\n",
       "      <td>01/01/2024</td>\n",
       "      <td>9.6</td>\n",
       "      <td>Exceptional</td>\n",
       "      <td>28/01/2024</td>\n",
       "      <td>Gr8</td>\n",
       "      <td>Awesome in all aspects</td>\n",
       "      <td>awesome aspect</td>\n",
       "      <td>Agoda</td>\n",
       "      <td>positive</td>\n",
       "    </tr>\n",
       "  </tbody>\n",
       "</table>\n",
       "</div>"
      ],
      "text/plain": [
       "   hotel_id                              hotel_name country group_name  \\\n",
       "0      1007  PARKROYAL on Kitchener Road, Singapore   India     Couple   \n",
       "\n",
       "                              room_type  stay_length   stay_date  \\\n",
       "0  Superior Corner Room with 1 King Bed          6.0  01/01/2024   \n",
       "\n",
       "   review_score review_score_category review_date review_title  \\\n",
       "0           9.6           Exceptional  28/01/2024          Gr8   \n",
       "\n",
       "                   review review_cleaned_v1 source sentiment  \n",
       "0  Awesome in all aspects    awesome aspect  Agoda  positive  "
      ]
     },
     "execution_count": 30,
     "metadata": {},
     "output_type": "execute_result"
    }
   ],
   "source": [
    "df_agoda_review.head(1)"
   ]
  },
  {
   "cell_type": "markdown",
   "id": "de9b8802-2eb3-417f-98c8-aee5eb0239dd",
   "metadata": {},
   "source": [
    "### b) Processing df_booking_review"
   ]
  },
  {
   "cell_type": "markdown",
   "id": "985f4c86-afd8-4c9e-bb6b-1f9f538ac760",
   "metadata": {},
   "source": [
    "#### Remove duplicated rows"
   ]
  },
  {
   "cell_type": "code",
   "execution_count": 31,
   "id": "60c478df-9943-487c-9e75-1f3cfc3adbb0",
   "metadata": {},
   "outputs": [],
   "source": [
    "# Convert \"stay_date\" and \"review_date\" columns as datetime data type\n",
    "df_booking_review[\"stay_date\"] = pd.to_datetime(df_booking_review[\"stay_date\"], format=\"%Y-%m-%d\")\n",
    "df_booking_review[\"review_date\"] = pd.to_datetime(df_booking_review[\"review_date\"], format=\"%d/%m/%Y\")\n",
    "\n",
    "# Convert \"stay_date\" and \"review_date\" columns as \"dd/mm/yyyy\" format\n",
    "df_booking_review[\"stay_date\"] = df_booking_review[\"stay_date\"].dt.strftime(\"%d/%m/%Y\")\n",
    "df_booking_review[\"review_date\"] = df_booking_review[\"review_date\"].dt.strftime(\"%d/%m/%Y\")"
   ]
  },
  {
   "cell_type": "code",
   "execution_count": 32,
   "id": "cb031326-ba15-48ff-b85f-644e9e2e10af",
   "metadata": {},
   "outputs": [],
   "source": [
    "# List key columns that are used to identify the duplicate rows\n",
    "key_columns_review = [\"hotel_name\", \"user_name\", \"country\", \"rating\", \"review_date\", \"review_title\", \"happy_review\", \"unhappy_review\"]\n",
    "\n",
    "# Find out duplicated rows and keep first one\n",
    "duplicated_rows_review = df_booking_review[df_booking_review.duplicated(subset=key_columns_review, keep=\"first\")]\n",
    "\n",
    "# Remove duplicated rows and keep first one\n",
    "df_booking_review = df_booking_review.drop_duplicates(subset=key_columns_review, keep=\"first\").reset_index(drop=True)"
   ]
  },
  {
   "cell_type": "markdown",
   "id": "20f76d64-4ee6-4c67-984d-364a46c3efdf",
   "metadata": {},
   "source": [
    "#### Split happy and unhapply reviews into separate rows"
   ]
  },
  {
   "cell_type": "code",
   "execution_count": 33,
   "id": "edb60a16-e435-4564-a321-259443443187",
   "metadata": {},
   "outputs": [],
   "source": [
    "# Create dataframe for happy reviews\n",
    "df_happy_review = df_booking_review[[\"hotel_name\", \"country\", \"room_info\",\n",
    "                                     \"no_of_nights_stayed\", \"stay_date\", \"traveller_type\",\n",
    "                                     \"review_title\", \"rating\", \"happy_review\",\n",
    "                                     \"review_date\", \"happy_review_cleaned_v1\"]].reset_index(drop=True)\n",
    "\n",
    "df_happy_review[\"sentiment\"] = \"positive\"\n",
    "\n",
    "# Create dataframe for unhappy reviews\n",
    "df_unhappy_review = df_booking_review[[\"hotel_name\", \"country\", \"room_info\",\n",
    "                                       \"no_of_nights_stayed\", \"stay_date\", \"traveller_type\",\n",
    "                                       \"review_title\", \"rating\", \"unhappy_review\",\n",
    "                                       \"review_date\", \"unhappy_review_cleaned_v1\"]].reset_index(drop=True)\n",
    "\n",
    "df_unhappy_review[\"sentiment\"] = \"negative\"\n",
    "\n",
    "\n",
    "# Rename columns for consistency\n",
    "df_happy_review = df_happy_review.rename(columns={\"happy_review\": \"review\",\n",
    "                                                  \"happy_review_cleaned_v1\": \"review_cleaned_v1\"})\n",
    "\n",
    "df_unhappy_review = df_unhappy_review.rename(columns={\"unhappy_review\": \"review\",\n",
    "                                                      \"unhappy_review_cleaned_v1\": \"review_cleaned_v1\"})\n",
    "\n",
    "\n",
    "# Merge happy and unhappy reviews dataframe\n",
    "df_booking_review_merged = pd.concat([df_happy_review, df_unhappy_review], ignore_index=True)"
   ]
  },
  {
   "cell_type": "code",
   "execution_count": 34,
   "id": "45e94eec-7a7e-4c1f-85a6-0fee2f1e396d",
   "metadata": {},
   "outputs": [],
   "source": [
    "# Remove rows when \"review\" column is NULL\n",
    "df_booking_review_merged = df_booking_review_merged.dropna(subset=[\"review\"]).reset_index(drop=True)"
   ]
  },
  {
   "cell_type": "markdown",
   "id": "91ba14af-e5cd-4d72-8d0b-afc1f118119d",
   "metadata": {},
   "source": [
    "#### Get \"hotel_id\" column from df_booking_hotel and insert into df_booking_review_merged"
   ]
  },
  {
   "cell_type": "code",
   "execution_count": 35,
   "id": "cc622482-99a7-4697-ad7b-9612c773e07b",
   "metadata": {},
   "outputs": [],
   "source": [
    "# Get \"hotel_id\" and \"hotel_name\" columns from df_booking_hotel\n",
    "hotel_id_mapping = df_booking_hotel[[\"hotel_id\", \"hotel_name\"]]\n",
    "\n",
    "# Merge \"hotel_id\" column into df_booking_review_merged based on \"hotel_name\" column\n",
    "df_booking_review_merged = pd.merge(df_booking_review_merged, hotel_id_mapping, on=\"hotel_name\", how=\"left\")"
   ]
  },
  {
   "cell_type": "markdown",
   "id": "99774c7b-2f3b-4389-896a-e797196a99a1",
   "metadata": {},
   "source": [
    "#### Align to df_agoda_review"
   ]
  },
  {
   "cell_type": "code",
   "execution_count": 36,
   "id": "0702161e-0f1a-4d8c-8ab3-94a26c270127",
   "metadata": {},
   "outputs": [],
   "source": [
    "# Rename columns for consistency\n",
    "df_booking_review_merged = df_booking_review_merged.rename(columns={\"traveller_type\": \"group_name\", \n",
    "                                                                    \"room_info\": \"room_type\", \n",
    "                                                                    \"no_of_nights_stayed\": \"stay_length\", \n",
    "                                                                    \"rating\": \"review_score\"})"
   ]
  },
  {
   "cell_type": "code",
   "execution_count": 37,
   "id": "ea9c0798-d946-4dc6-a00a-fee7f7d615bb",
   "metadata": {},
   "outputs": [],
   "source": [
    "# Fill in NULL values of \"country\" and \"room_type\" columns using \"Other\"\n",
    "df_booking_review_merged[\"country\"].fillna(\"Other\", inplace=True)\n",
    "df_booking_review_merged[\"room_type\"].fillna(\"Other\", inplace=True)\n",
    "\n",
    "# Fill in NULL values of \"stay_length\" and \"hotel_id\" columns using \"0\"\n",
    "df_booking_review_merged[\"stay_length\"].fillna(0, inplace=True)\n",
    "df_booking_review_merged[\"hotel_id\"].fillna(0, inplace=True)"
   ]
  },
  {
   "cell_type": "code",
   "execution_count": 38,
   "id": "abbcd3cb-2a56-4e41-a9df-9e1820e863d3",
   "metadata": {},
   "outputs": [],
   "source": [
    "# Convert \"hotel_id\" column to integer format\n",
    "df_booking_review_merged[\"hotel_id\"] = df_booking_review_merged[\"hotel_id\"].astype(int)"
   ]
  },
  {
   "cell_type": "code",
   "execution_count": 39,
   "id": "0a91c465-c608-431a-9261-00af614a9c25",
   "metadata": {},
   "outputs": [],
   "source": [
    "# Create \"source\" column\n",
    "df_booking_review_merged[\"source\"] = \"Booking\""
   ]
  },
  {
   "cell_type": "code",
   "execution_count": 40,
   "id": "73647db2-d120-4af5-b152-e7bab1abb133",
   "metadata": {},
   "outputs": [],
   "source": [
    "# Create \"review_score_category\" column\n",
    "\n",
    "# Note:\n",
    "# review_score_category = \"Exceptional\": review_score >= 9\n",
    "# review_score_category = \"Excellent\": review_score >= 8 and < 9\n",
    "# review_score_category = \"Very Good\": review_score >= 7 and < 8\n",
    "# review_score_category = \"Good\": review_score >= 6 and < 7\n",
    "# review_score_category = \"Below Expectation\": review_score < 6\n",
    "\n",
    "df_booking_review_merged.loc[df_booking_review_merged[\"review_score\"] >= 9, \"review_score_category\"] = \"Exceptional\"\n",
    "df_booking_review_merged.loc[(df_booking_review_merged[\"review_score\"] >= 8) & (df_booking_review_merged[\"review_score\"] < 9), \"review_score_category\"] = \"Excellent\"\n",
    "df_booking_review_merged.loc[(df_booking_review_merged[\"review_score\"] >= 7) & (df_booking_review_merged[\"review_score\"] < 8), \"review_score_category\"] = \"Very Good\"\n",
    "df_booking_review_merged.loc[(df_booking_review_merged[\"review_score\"] >= 6) & (df_booking_review_merged[\"review_score\"] < 7), \"review_score_category\"] = \"Good\"\n",
    "df_booking_review_merged.loc[df_booking_review_merged[\"review_score\"] < 6, \"review_score_category\"] = \"Below Expectation\""
   ]
  },
  {
   "cell_type": "code",
   "execution_count": 41,
   "id": "d911a41a-8b92-4226-98d0-c39e6fadffee",
   "metadata": {},
   "outputs": [
    {
     "name": "stdout",
     "output_type": "stream",
     "text": [
      "\u001b[1mdf_booking_review_merged:\u001b[0m\n",
      "hotel_name                0\n",
      "country                   0\n",
      "room_type                 0\n",
      "stay_length               0\n",
      "stay_date                 0\n",
      "group_name                0\n",
      "review_title              1\n",
      "review_score              0\n",
      "review                    0\n",
      "review_date               0\n",
      "review_cleaned_v1        46\n",
      "sentiment                 0\n",
      "hotel_id                  0\n",
      "source                    0\n",
      "review_score_category     0\n",
      "dtype: int64\n",
      "\u001b[1mTotal rows in df_booking_review_merged:\u001b[0m 8392 \n",
      "\n"
     ]
    }
   ],
   "source": [
    "# Check NULL values\n",
    "en_nlp_utils.check_null(df_booking_review_merged, \"df_booking_review_merged\")"
   ]
  },
  {
   "cell_type": "code",
   "execution_count": 42,
   "id": "c4589e23-0cb3-45b8-a020-956068500d92",
   "metadata": {},
   "outputs": [
    {
     "data": {
      "text/html": [
       "<div>\n",
       "<style scoped>\n",
       "    .dataframe tbody tr th:only-of-type {\n",
       "        vertical-align: middle;\n",
       "    }\n",
       "\n",
       "    .dataframe tbody tr th {\n",
       "        vertical-align: top;\n",
       "    }\n",
       "\n",
       "    .dataframe thead th {\n",
       "        text-align: right;\n",
       "    }\n",
       "</style>\n",
       "<table border=\"1\" class=\"dataframe\">\n",
       "  <thead>\n",
       "    <tr style=\"text-align: right;\">\n",
       "      <th></th>\n",
       "      <th>hotel_name</th>\n",
       "      <th>country</th>\n",
       "      <th>room_type</th>\n",
       "      <th>stay_length</th>\n",
       "      <th>stay_date</th>\n",
       "      <th>group_name</th>\n",
       "      <th>review_title</th>\n",
       "      <th>review_score</th>\n",
       "      <th>review</th>\n",
       "      <th>review_date</th>\n",
       "      <th>review_cleaned_v1</th>\n",
       "      <th>sentiment</th>\n",
       "      <th>hotel_id</th>\n",
       "      <th>source</th>\n",
       "      <th>review_score_category</th>\n",
       "    </tr>\n",
       "  </thead>\n",
       "  <tbody>\n",
       "    <tr>\n",
       "      <th>0</th>\n",
       "      <td>Ascott Raffles Place Singapore</td>\n",
       "      <td>Portugal</td>\n",
       "      <td>Cutler Suite</td>\n",
       "      <td>1.0</td>\n",
       "      <td>01/12/2022</td>\n",
       "      <td>Couple</td>\n",
       "      <td>Exceptional</td>\n",
       "      <td>10.0</td>\n",
       "      <td>room very spacious and clean, great location</td>\n",
       "      <td>12/12/2022</td>\n",
       "      <td>room spacious clean great location</td>\n",
       "      <td>positive</td>\n",
       "      <td>91</td>\n",
       "      <td>Booking</td>\n",
       "      <td>Exceptional</td>\n",
       "    </tr>\n",
       "  </tbody>\n",
       "</table>\n",
       "</div>"
      ],
      "text/plain": [
       "                       hotel_name   country     room_type  stay_length  \\\n",
       "0  Ascott Raffles Place Singapore  Portugal  Cutler Suite          1.0   \n",
       "\n",
       "    stay_date group_name review_title  review_score  \\\n",
       "0  01/12/2022     Couple  Exceptional          10.0   \n",
       "\n",
       "                                         review review_date  \\\n",
       "0  room very spacious and clean, great location  12/12/2022   \n",
       "\n",
       "                    review_cleaned_v1 sentiment  hotel_id   source  \\\n",
       "0  room spacious clean great location  positive        91  Booking   \n",
       "\n",
       "  review_score_category  \n",
       "0           Exceptional  "
      ]
     },
     "execution_count": 42,
     "metadata": {},
     "output_type": "execute_result"
    }
   ],
   "source": [
    "df_booking_review_merged.head(1)"
   ]
  },
  {
   "cell_type": "markdown",
   "id": "078eee61-01cc-4158-90e9-ce6e38d2dda1",
   "metadata": {},
   "source": [
    "### c) Merge datasets"
   ]
  },
  {
   "cell_type": "code",
   "execution_count": 43,
   "id": "6ffd4e83-fe08-4e85-87e9-a1f8de19b708",
   "metadata": {},
   "outputs": [],
   "source": [
    "# Merge datasets\n",
    "df_merged_review = pd.concat([df_agoda_review, df_booking_review_merged], ignore_index=True)"
   ]
  },
  {
   "cell_type": "code",
   "execution_count": 44,
   "id": "38fd586c-c0c5-4048-a58d-ae56ff7c9498",
   "metadata": {},
   "outputs": [],
   "source": [
    "# New column order\n",
    "new_column_order_review = [\"source\", \"hotel_id\", \"hotel_name\", \"country\", \"group_name\", \n",
    "                           \"room_type\", \"stay_length\", \"stay_date\", \"review_score\", \"review_score_category\", \n",
    "                           \"sentiment\", \"review_date\", \"review_title\", \"review\", \"review_cleaned_v1\" ]\n",
    "\n",
    "# Reorder columns\n",
    "df_merged_review = df_merged_review.reindex(columns=new_column_order_review)"
   ]
  },
  {
   "cell_type": "code",
   "execution_count": 45,
   "id": "5b211e5b-f34b-4383-bcba-7436968d4521",
   "metadata": {},
   "outputs": [
    {
     "name": "stdout",
     "output_type": "stream",
     "text": [
      "\u001b[1mdf_merged_review:\u001b[0m\n",
      "source                     0\n",
      "hotel_id                   0\n",
      "hotel_name                 0\n",
      "country                    0\n",
      "group_name                 0\n",
      "room_type                  0\n",
      "stay_length                0\n",
      "stay_date                  0\n",
      "review_score               0\n",
      "review_score_category      0\n",
      "sentiment                  0\n",
      "review_date                0\n",
      "review_title               1\n",
      "review                     0\n",
      "review_cleaned_v1        143\n",
      "dtype: int64\n",
      "\u001b[1mTotal rows in df_merged_review:\u001b[0m 39974 \n",
      "\n"
     ]
    }
   ],
   "source": [
    "# Check NULL values\n",
    "en_nlp_utils.check_null(df_merged_review, \"df_merged_review\")"
   ]
  },
  {
   "cell_type": "markdown",
   "id": "f0e665cc-22ce-4482-b86f-408e39ef2c5e",
   "metadata": {},
   "source": [
    "#### Standardize the types of \"group_name\" column"
   ]
  },
  {
   "cell_type": "code",
   "execution_count": 46,
   "id": "b2ecab87-1182-4131-b4f3-096e677d7efd",
   "metadata": {},
   "outputs": [
    {
     "data": {
      "text/plain": [
       "array(['Couple', 'Family with young children', 'Solo traveler',\n",
       "       'Business traveler', 'Group', 'Family with teens', 'Other',\n",
       "       'Family', 'Solo traveller', ' Group', ' Family', ' Couple',\n",
       "       ' Solo traveller'], dtype=object)"
      ]
     },
     "execution_count": 46,
     "metadata": {},
     "output_type": "execute_result"
    }
   ],
   "source": [
    "df_merged_review[\"group_name\"].unique()"
   ]
  },
  {
   "cell_type": "code",
   "execution_count": 47,
   "id": "bf5dd857-c696-44f2-beda-84d45eaa3a1e",
   "metadata": {},
   "outputs": [],
   "source": [
    "# Remove Spaces before and after the string\n",
    "df_merged_review[\"group_name\"] = df_merged_review[\"group_name\"].str.strip()"
   ]
  },
  {
   "cell_type": "code",
   "execution_count": 48,
   "id": "0303b86b-d36e-4282-9ac2-e47fe7940cd4",
   "metadata": {},
   "outputs": [],
   "source": [
    "# Change similar values in \"group_name\" columns\n",
    "# Change \"Family with teens\" as \"Family with young children\"\n",
    "df_merged_review[\"group_name\"] = df_merged_review[\"group_name\"].replace(\"Family with teens\", \"Family with young children\")\n",
    "\n",
    "# Change \"Solo traveller\" as \"Solo traveler\"\n",
    "df_merged_review[\"group_name\"] = df_merged_review[\"group_name\"].replace(\"Solo traveller\", \"Solo traveler\")"
   ]
  },
  {
   "cell_type": "markdown",
   "id": "f59d1d90-a63c-42aa-bec3-dbe9088ea997",
   "metadata": {},
   "source": [
    "#### Standardize the types of \"stay_length\" column"
   ]
  },
  {
   "cell_type": "code",
   "execution_count": 49,
   "id": "52cf589b-e7e6-4d00-a68a-68ce6ba8aea9",
   "metadata": {},
   "outputs": [],
   "source": [
    "# Convert \"stay_length\" column to integer format\n",
    "df_merged_review[\"stay_length\"] = df_merged_review[\"stay_length\"].astype(int)"
   ]
  },
  {
   "cell_type": "markdown",
   "id": "c6eb57ba-41d3-4ce3-8425-b7a1c2d55abb",
   "metadata": {},
   "source": [
    "#### Standardize the types of \"country\" column"
   ]
  },
  {
   "cell_type": "code",
   "execution_count": 50,
   "id": "3b9042c0-bb6c-4e64-8b0b-eb50af16de25",
   "metadata": {},
   "outputs": [],
   "source": [
    "# Remove Spaces before and after the string\n",
    "df_merged_review[\"country\"] = df_merged_review[\"country\"].str.strip()"
   ]
  },
  {
   "cell_type": "markdown",
   "id": "dce2e052-a1df-4cdb-b352-29426d666c75",
   "metadata": {},
   "source": [
    "#### Standardize the types of \"room_type\" column"
   ]
  },
  {
   "cell_type": "code",
   "execution_count": 51,
   "id": "01ebf2b0-cdb7-4cc1-a683-4e6b3362c5a9",
   "metadata": {},
   "outputs": [],
   "source": [
    "# Define room category keywords list\n",
    "room_categories = {\n",
    "    \"Other\": [\"cabin\", \"budget\", \"day use\", \"hour stay\"],\n",
    "    \"Hostel Room\": [\"dormitory\", \"bunk\", \"capsule\", \"pod\"],\n",
    "    \"Special Room\": [\"club\", \"marina\", \"garden\", \"city\", \"fairmont\"],\n",
    "    \"Family Suite\": [\"family\"],\n",
    "    \"Deluxe Suite\": [\"suite\", \"deluxe\", \"executive\", \"junior\", \"prestige\", \"signature\"],\n",
    "    \"Double Room\": [\"double\", \"queen\", \"twin\", \"superior\"],\n",
    "    \"Single Room\": [\"single\", \"private\"]\n",
    "}\n",
    "\n",
    "# Create a function to match room category keywords to each value in the \"room_type\" column\n",
    "def match_room_type(room_type):\n",
    "    for category, keywords in room_categories.items():\n",
    "        for keyword in keywords:\n",
    "            if keyword in room_type.lower():\n",
    "                return category\n",
    "    return \"Other\"\n",
    "\n",
    "# Add a new column \"room_type_new\"\n",
    "df_merged_review[\"room_type_new\"] = df_merged_review[\"room_type\"].apply(match_room_type)\n",
    "\n",
    "# Replaces the value of the \"room_type\" column with the value of the \"room_type_new\" column\n",
    "df_merged_review[\"room_type\"] = df_merged_review[\"room_type_new\"]\n",
    "\n",
    "# Remove \"room_type_new\" column\n",
    "df_merged_review.drop(\"room_type_new\", axis=1, inplace=True)"
   ]
  },
  {
   "cell_type": "code",
   "execution_count": 52,
   "id": "27c4cb6d-83ff-4e90-967f-21f8524c86e9",
   "metadata": {},
   "outputs": [
    {
     "name": "stdout",
     "output_type": "stream",
     "text": [
      "\u001b[1mdf_merged_review:\u001b[0m\n",
      "source                     0\n",
      "hotel_id                   0\n",
      "hotel_name                 0\n",
      "country                    0\n",
      "group_name                 0\n",
      "room_type                  0\n",
      "stay_length                0\n",
      "stay_date                  0\n",
      "review_score               0\n",
      "review_score_category      0\n",
      "sentiment                  0\n",
      "review_date                0\n",
      "review_title               1\n",
      "review                     0\n",
      "review_cleaned_v1        143\n",
      "dtype: int64\n",
      "\u001b[1mTotal rows in df_merged_review:\u001b[0m 39974 \n",
      "\n"
     ]
    }
   ],
   "source": [
    "# Check NULL values\n",
    "en_nlp_utils.check_null(df_merged_review, \"df_merged_review\")"
   ]
  },
  {
   "cell_type": "code",
   "execution_count": 53,
   "id": "4f2bbbbf-a739-4c7d-86c9-c3b8e3540476",
   "metadata": {},
   "outputs": [
    {
     "data": {
      "text/html": [
       "<div>\n",
       "<style scoped>\n",
       "    .dataframe tbody tr th:only-of-type {\n",
       "        vertical-align: middle;\n",
       "    }\n",
       "\n",
       "    .dataframe tbody tr th {\n",
       "        vertical-align: top;\n",
       "    }\n",
       "\n",
       "    .dataframe thead th {\n",
       "        text-align: right;\n",
       "    }\n",
       "</style>\n",
       "<table border=\"1\" class=\"dataframe\">\n",
       "  <thead>\n",
       "    <tr style=\"text-align: right;\">\n",
       "      <th></th>\n",
       "      <th>source</th>\n",
       "      <th>hotel_id</th>\n",
       "      <th>hotel_name</th>\n",
       "      <th>country</th>\n",
       "      <th>group_name</th>\n",
       "      <th>room_type</th>\n",
       "      <th>stay_length</th>\n",
       "      <th>stay_date</th>\n",
       "      <th>review_score</th>\n",
       "      <th>review_score_category</th>\n",
       "      <th>sentiment</th>\n",
       "      <th>review_date</th>\n",
       "      <th>review_title</th>\n",
       "      <th>review</th>\n",
       "      <th>review_cleaned_v1</th>\n",
       "    </tr>\n",
       "  </thead>\n",
       "  <tbody>\n",
       "    <tr>\n",
       "      <th>0</th>\n",
       "      <td>Agoda</td>\n",
       "      <td>1007</td>\n",
       "      <td>PARKROYAL on Kitchener Road, Singapore</td>\n",
       "      <td>India</td>\n",
       "      <td>Couple</td>\n",
       "      <td>Double Room</td>\n",
       "      <td>6</td>\n",
       "      <td>01/01/2024</td>\n",
       "      <td>9.6</td>\n",
       "      <td>Exceptional</td>\n",
       "      <td>positive</td>\n",
       "      <td>28/01/2024</td>\n",
       "      <td>Gr8</td>\n",
       "      <td>Awesome in all aspects</td>\n",
       "      <td>awesome aspect</td>\n",
       "    </tr>\n",
       "  </tbody>\n",
       "</table>\n",
       "</div>"
      ],
      "text/plain": [
       "  source  hotel_id                              hotel_name country group_name  \\\n",
       "0  Agoda      1007  PARKROYAL on Kitchener Road, Singapore   India     Couple   \n",
       "\n",
       "     room_type  stay_length   stay_date  review_score review_score_category  \\\n",
       "0  Double Room            6  01/01/2024           9.6           Exceptional   \n",
       "\n",
       "  sentiment review_date review_title                  review review_cleaned_v1  \n",
       "0  positive  28/01/2024          Gr8  Awesome in all aspects    awesome aspect  "
      ]
     },
     "execution_count": 53,
     "metadata": {},
     "output_type": "execute_result"
    }
   ],
   "source": [
    "df_merged_review.head(1)"
   ]
  },
  {
   "cell_type": "markdown",
   "id": "4d54ef07-0feb-47c6-bbc1-ed12f43dc2ed",
   "metadata": {},
   "source": [
    "## 3) Save latest dataset as csv file"
   ]
  },
  {
   "cell_type": "code",
   "execution_count": 54,
   "id": "32230dae-684b-479c-916a-c8b821e036d7",
   "metadata": {},
   "outputs": [],
   "source": [
    "# Save latest dataset as csv\n",
    "df_merged_hotel.to_csv(SRC_PATH + \"en_hotel.csv\", index=False, encoding=\"utf-8\")\n",
    "df_merged_review.to_csv(SRC_PATH + \"en_hotel_review.csv\", index=False, encoding=\"utf-8\")"
   ]
  },
  {
   "cell_type": "code",
   "execution_count": null,
   "id": "bdcbb6ef-9858-4499-b31a-c41cfbe92fef",
   "metadata": {},
   "outputs": [],
   "source": []
  }
 ],
 "metadata": {
  "kernelspec": {
   "display_name": "Python 3 (ipykernel)",
   "language": "python",
   "name": "python3"
  },
  "language_info": {
   "codemirror_mode": {
    "name": "ipython",
    "version": 3
   },
   "file_extension": ".py",
   "mimetype": "text/x-python",
   "name": "python",
   "nbconvert_exporter": "python",
   "pygments_lexer": "ipython3",
   "version": "3.11.1"
  }
 },
 "nbformat": 4,
 "nbformat_minor": 5
}

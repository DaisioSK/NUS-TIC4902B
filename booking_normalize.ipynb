{
 "cells": [
  {
   "cell_type": "code",
   "execution_count": 11,
   "id": "81892e64-b001-4745-a275-72ab7609f0e6",
   "metadata": {},
   "outputs": [],
   "source": [
    "import numpy as np\n",
    "import pandas as pd\n",
    "\n",
    "import time\n",
    "from datetime import datetime\n",
    "\n",
    "from IPython.core.display import HTML\n",
    "import en_nlp_utils"
   ]
  },
  {
   "cell_type": "code",
   "execution_count": 6,
   "id": "63827ad9-8358-43f2-9a55-777e8ee754c3",
   "metadata": {},
   "outputs": [
    {
     "data": {
      "text/html": [
       "<style>pre { white-space: pre !important; }</style>"
      ],
      "text/plain": [
       "<IPython.core.display.HTML object>"
      ]
     },
     "metadata": {},
     "output_type": "display_data"
    },
    {
     "name": "stdout",
     "output_type": "stream",
     "text": [
      "Text processing started at 2024-02-25 17:16:20.310633\n"
     ]
    }
   ],
   "source": [
    "# Adjust the HTML style of the output and set default display options for Pandas\n",
    "display(HTML(\"<style>pre { white-space: pre !important; }</style>\"))\n",
    "en_nlp_utils.set_default_pandas_options()\n",
    "\n",
    "# Define default source path\n",
    "SRC_PATH = \"src/\"\n",
    "\n",
    "start_time = datetime.now()\n",
    "print(\"Text processing started at {}\".format(start_time))"
   ]
  },
  {
   "cell_type": "code",
   "execution_count": 7,
   "id": "fe26eb98-bbd8-4e0c-88e0-3aff92866e7c",
   "metadata": {},
   "outputs": [],
   "source": [
    "# Load dataset\n",
    "df_review = pd.read_csv(SRC_PATH + \"booking_reviews_details_valid.csv\")"
   ]
  },
  {
   "cell_type": "code",
   "execution_count": 8,
   "id": "2590649c-bbb7-44ca-93b9-936ee74c1719",
   "metadata": {},
   "outputs": [
    {
     "data": {
      "text/html": [
       "<div>\n",
       "<style scoped>\n",
       "    .dataframe tbody tr th:only-of-type {\n",
       "        vertical-align: middle;\n",
       "    }\n",
       "\n",
       "    .dataframe tbody tr th {\n",
       "        vertical-align: top;\n",
       "    }\n",
       "\n",
       "    .dataframe thead th {\n",
       "        text-align: right;\n",
       "    }\n",
       "</style>\n",
       "<table border=\"1\" class=\"dataframe\">\n",
       "  <thead>\n",
       "    <tr style=\"text-align: right;\">\n",
       "      <th></th>\n",
       "      <th>hotel_name</th>\n",
       "      <th>user_name</th>\n",
       "      <th>country</th>\n",
       "      <th>room_info</th>\n",
       "      <th>no_of_nights_stayed</th>\n",
       "      <th>...</th>\n",
       "      <th>unhappy_review</th>\n",
       "      <th>review_date</th>\n",
       "      <th>scraped_at</th>\n",
       "      <th>happy_review_cleaned_v1</th>\n",
       "      <th>unhappy_review_cleaned_v1</th>\n",
       "    </tr>\n",
       "  </thead>\n",
       "  <tbody>\n",
       "    <tr>\n",
       "      <th>0</th>\n",
       "      <td>Ascott Raffles Place Singapore</td>\n",
       "      <td>Luis</td>\n",
       "      <td>Portugal</td>\n",
       "      <td>Cutler Suite</td>\n",
       "      <td>1.0</td>\n",
       "      <td>...</td>\n",
       "      <td>the night receptionist was unpleasant and not ...</td>\n",
       "      <td>12/12/2022</td>\n",
       "      <td>10/02/2024</td>\n",
       "      <td>room spacious clean great location</td>\n",
       "      <td>night reception unpleasant welcome</td>\n",
       "    </tr>\n",
       "    <tr>\n",
       "      <th>1</th>\n",
       "      <td>Ascott Raffles Place Singapore</td>\n",
       "      <td>Thi</td>\n",
       "      <td>Australia</td>\n",
       "      <td>Cutler Suite</td>\n",
       "      <td>4.0</td>\n",
       "      <td>...</td>\n",
       "      <td>nan</td>\n",
       "      <td>29/01/2024</td>\n",
       "      <td>10/02/2024</td>\n",
       "      <td>good location staff friendly helpful</td>\n",
       "      <td>nan</td>\n",
       "    </tr>\n",
       "    <tr>\n",
       "      <th>2</th>\n",
       "      <td>Ascott Raffles Place Singapore</td>\n",
       "      <td>Kath</td>\n",
       "      <td>Australia</td>\n",
       "      <td>Cutler Suite</td>\n",
       "      <td>1.0</td>\n",
       "      <td>...</td>\n",
       "      <td>There was not shower chair in the bathroom for...</td>\n",
       "      <td>16/01/2024</td>\n",
       "      <td>10/02/2024</td>\n",
       "      <td>room spacious quiet clean bathroom wheelchair ...</td>\n",
       "      <td>shower chair bathroom daughter could ask stay ...</td>\n",
       "    </tr>\n",
       "    <tr>\n",
       "      <th>3</th>\n",
       "      <td>Ascott Raffles Place Singapore</td>\n",
       "      <td>Mahendra</td>\n",
       "      <td>India</td>\n",
       "      <td>Cutler Suite</td>\n",
       "      <td>6.0</td>\n",
       "      <td>...</td>\n",
       "      <td>Lack of room service</td>\n",
       "      <td>04/01/2024</td>\n",
       "      <td>10/02/2024</td>\n",
       "      <td>location</td>\n",
       "      <td>lack room service</td>\n",
       "    </tr>\n",
       "    <tr>\n",
       "      <th>4</th>\n",
       "      <td>Ascott Raffles Place Singapore</td>\n",
       "      <td>Sarah</td>\n",
       "      <td>United Kingdom</td>\n",
       "      <td>Cutler Suite</td>\n",
       "      <td>2.0</td>\n",
       "      <td>...</td>\n",
       "      <td>Only one mirror which was in the bathroom</td>\n",
       "      <td>02/01/2024</td>\n",
       "      <td>10/02/2024</td>\n",
       "      <td>come locate welreception staff lovely really w...</td>\n",
       "      <td>one mirror bathroom</td>\n",
       "    </tr>\n",
       "  </tbody>\n",
       "</table>\n",
       "<p>5 rows × 15 columns</p>\n",
       "</div>"
      ],
      "text/plain": [
       "                       hotel_name user_name         country     room_info  no_of_nights_stayed  ...                                     unhappy_review review_date  scraped_at                            happy_review_cleaned_v1                          unhappy_review_cleaned_v1\n",
       "0  Ascott Raffles Place Singapore      Luis        Portugal  Cutler Suite                  1.0  ...  the night receptionist was unpleasant and not ...  12/12/2022  10/02/2024                 room spacious clean great location                 night reception unpleasant welcome\n",
       "1  Ascott Raffles Place Singapore       Thi       Australia  Cutler Suite                  4.0  ...                                                nan  29/01/2024  10/02/2024               good location staff friendly helpful                                                nan\n",
       "2  Ascott Raffles Place Singapore      Kath       Australia  Cutler Suite                  1.0  ...  There was not shower chair in the bathroom for...  16/01/2024  10/02/2024  room spacious quiet clean bathroom wheelchair ...  shower chair bathroom daughter could ask stay ...\n",
       "3  Ascott Raffles Place Singapore  Mahendra           India  Cutler Suite                  6.0  ...                               Lack of room service  04/01/2024  10/02/2024                                           location                                  lack room service\n",
       "4  Ascott Raffles Place Singapore     Sarah  United Kingdom  Cutler Suite                  2.0  ...          Only one mirror which was in the bathroom  02/01/2024  10/02/2024  come locate welreception staff lovely really w...                                one mirror bathroom\n",
       "\n",
       "[5 rows x 15 columns]"
      ]
     },
     "execution_count": 8,
     "metadata": {},
     "output_type": "execute_result"
    }
   ],
   "source": [
    "# Exclude stopwords\n",
    "#stopword_exclusion_list = [\"no\", \"not\"]\n",
    "#en_nlp_utils.exclude_stopwords(stopword_exclusion_list)\n",
    "df_review['happy_review'] = df_review['happy_review'].astype(str)\n",
    "df_review['unhappy_review'] = df_review['unhappy_review'].astype(str)\n",
    "\n",
    "df_review_cleaned = en_nlp_utils.normalize_corpus(df_review, \"happy_review\", \"happy_review_cleaned_v1\")\n",
    "df_review_cleaned = en_nlp_utils.normalize_corpus(df_review, \"unhappy_review\", \"unhappy_review_cleaned_v1\")\n",
    "df_review_cleaned.head()"
   ]
  },
  {
   "cell_type": "code",
   "execution_count": 9,
   "id": "d9172319-7d36-48ba-8252-cac9e09e2729",
   "metadata": {},
   "outputs": [
    {
     "name": "stdout",
     "output_type": "stream",
     "text": [
      "Text processing ended at 2024-02-25 17:59:32.149295\n",
      "Text processing spent 0:43:11.838662\n"
     ]
    }
   ],
   "source": [
    "end_time = datetime.now()\n",
    "print(\"Text processing ended at {}\".format(end_time))\n",
    "print(\"Text processing spent {}\".format(end_time - start_time))"
   ]
  },
  {
   "cell_type": "code",
   "execution_count": 10,
   "id": "6c1230fd-356f-4878-aead-7c7da87c6a95",
   "metadata": {},
   "outputs": [],
   "source": [
    "df_review_cleaned.to_csv(SRC_PATH + \"booking_reviews_details_cleaned.csv\", index=False, encoding=\"utf-8\")"
   ]
  },
  {
   "cell_type": "code",
   "execution_count": null,
   "id": "07ee2240-f54b-484b-9fab-a899067e7e28",
   "metadata": {},
   "outputs": [],
   "source": []
  }
 ],
 "metadata": {
  "kernelspec": {
   "display_name": "Python 3 (ipykernel)",
   "language": "python",
   "name": "python3"
  },
  "language_info": {
   "codemirror_mode": {
    "name": "ipython",
    "version": 3
   },
   "file_extension": ".py",
   "mimetype": "text/x-python",
   "name": "python",
   "nbconvert_exporter": "python",
   "pygments_lexer": "ipython3",
   "version": "3.11.1"
  }
 },
 "nbformat": 4,
 "nbformat_minor": 5
}

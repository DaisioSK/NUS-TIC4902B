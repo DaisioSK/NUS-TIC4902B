{
 "cells": [
  {
   "cell_type": "code",
   "execution_count": 137,
   "id": "ca581356-699b-4ed2-a3ad-3c6aab1aa95e",
   "metadata": {},
   "outputs": [
    {
     "name": "stdout",
     "output_type": "stream",
     "text": [
      "Requirement already satisfied: openpyxl in /Library/Frameworks/Python.framework/Versions/3.11/lib/python3.11/site-packages (3.1.2)\n",
      "Requirement already satisfied: et-xmlfile in /Library/Frameworks/Python.framework/Versions/3.11/lib/python3.11/site-packages (from openpyxl) (1.1.0)\n",
      "\n",
      "\u001b[1m[\u001b[0m\u001b[34;49mnotice\u001b[0m\u001b[1;39;49m]\u001b[0m\u001b[39;49m A new release of pip is available: \u001b[0m\u001b[31;49m23.2.1\u001b[0m\u001b[39;49m -> \u001b[0m\u001b[32;49m24.0\u001b[0m\n",
      "\u001b[1m[\u001b[0m\u001b[34;49mnotice\u001b[0m\u001b[1;39;49m]\u001b[0m\u001b[39;49m To update, run: \u001b[0m\u001b[32;49mpip install --upgrade pip\u001b[0m\n"
     ]
    }
   ],
   "source": [
    "!pip install openpyxl\n",
    "import numpy as np\n",
    "import pandas as pd"
   ]
  },
  {
   "cell_type": "code",
   "execution_count": 138,
   "id": "37025fad-c8c3-4108-8b28-e23970d84a93",
   "metadata": {},
   "outputs": [],
   "source": [
    "import pandas as pd\n",
    "\n",
    "# converting the xlsx to csv\n",
    "xlsx_file = 'booking_hotels_data_high rating.xlsx'\n",
    "csv_file = 'booking_hotels_data_high rating.csv'\n",
    "df = pd.read_excel(xlsx_file)\n",
    "df.to_csv(csv_file, index=False)\n",
    "\n",
    "# converting the xlsx to csv\n",
    "xlsx_file = 'booking_hotels_data_low rating.xlsx'\n",
    "csv_file = 'booking_hotels_data_low rating.csv'\n",
    "df = pd.read_excel(xlsx_file)\n",
    "df.to_csv(csv_file, index=False)\n",
    "\n"
   ]
  },
  {
   "cell_type": "code",
   "execution_count": 139,
   "id": "5b435359-546c-4317-9fec-8ae0ae873fd6",
   "metadata": {},
   "outputs": [],
   "source": [
    "#merge review data"
   ]
  },
  {
   "cell_type": "code",
   "execution_count": 140,
   "id": "610bca68-b18c-4baa-8856-f9fb8f37a56c",
   "metadata": {},
   "outputs": [],
   "source": [
    "# Load dataset\n",
    "df1 = pd.read_csv(\"booking_hotels_review_high rating.csv\")\n",
    "df2 = pd.read_csv(\"booking_hotels_review_low rating.csv\")"
   ]
  },
  {
   "cell_type": "code",
   "execution_count": 141,
   "id": "b0b44d9e-ec3b-4e19-af65-2287adac0472",
   "metadata": {},
   "outputs": [
    {
     "name": "stdout",
     "output_type": "stream",
     "text": [
      "Number of rows in df1: 4889\n",
      "Number of rows in df2: 1202\n"
     ]
    }
   ],
   "source": [
    "print(f\"Number of rows in df1: {len(df1)}\")\n",
    "print(f\"Number of rows in df2: {len(df2)}\")"
   ]
  },
  {
   "cell_type": "code",
   "execution_count": 142,
   "id": "a5341a33-ec53-4811-a47c-0c2d2f90de00",
   "metadata": {},
   "outputs": [],
   "source": [
    "# Merge data of df2 and df3\n",
    "merged_df = pd.concat([df1, df2], ignore_index=True)"
   ]
  },
  {
   "cell_type": "code",
   "execution_count": 143,
   "id": "aec6d40c-0198-4b22-865a-cc1ce95973db",
   "metadata": {},
   "outputs": [
    {
     "name": "stdout",
     "output_type": "stream",
     "text": [
      "Number of rows in merged_df: 6091\n"
     ]
    }
   ],
   "source": [
    "print(f\"Number of rows in merged_df: {len(merged_df)}\")"
   ]
  },
  {
   "cell_type": "code",
   "execution_count": 144,
   "id": "cbd6e22b-efc6-423e-8b38-52d62322aff0",
   "metadata": {},
   "outputs": [],
   "source": [
    "# Save merged_df dataset as csv\n",
    "merged_df.to_csv(\"booking_reviews_details.csv\", index=False, encoding=\"utf-8\")"
   ]
  },
  {
   "cell_type": "code",
   "execution_count": 145,
   "id": "a0d85065-6600-4cd9-9012-34eb78605f3c",
   "metadata": {},
   "outputs": [],
   "source": [
    "#merge hotel data"
   ]
  },
  {
   "cell_type": "code",
   "execution_count": 146,
   "id": "459617b7-d5f1-4cca-b974-4a99810dbe67",
   "metadata": {},
   "outputs": [],
   "source": [
    "# Load dataset\n",
    "df1 = pd.read_csv(\"booking_hotels_data_high rating.csv\")\n",
    "df2 = pd.read_csv(\"booking_hotels_data_low rating.csv\")"
   ]
  },
  {
   "cell_type": "code",
   "execution_count": 147,
   "id": "06db53bb-ca95-4bdf-8756-761fcc5fdfcf",
   "metadata": {},
   "outputs": [
    {
     "name": "stdout",
     "output_type": "stream",
     "text": [
      "Number of rows in df1: 200\n",
      "Number of rows in df2: 25\n"
     ]
    }
   ],
   "source": [
    "print(f\"Number of rows in df1: {len(df1)}\")\n",
    "print(f\"Number of rows in df2: {len(df2)}\")"
   ]
  },
  {
   "cell_type": "code",
   "execution_count": 148,
   "id": "38a021da-a257-4c1e-a3a4-4856b2622dd4",
   "metadata": {},
   "outputs": [],
   "source": [
    "# Merge data of df2 and df3\n",
    "merged_df = pd.concat([df1, df2], ignore_index=True)"
   ]
  },
  {
   "cell_type": "code",
   "execution_count": 149,
   "id": "10f74140-54fc-461b-bbf3-2c3ca70bf607",
   "metadata": {},
   "outputs": [
    {
     "name": "stdout",
     "output_type": "stream",
     "text": [
      "Number of rows in merged_df: 225\n"
     ]
    }
   ],
   "source": [
    "print(f\"Number of rows in merged_df: {len(merged_df)}\")"
   ]
  },
  {
   "cell_type": "code",
   "execution_count": 150,
   "id": "c2ef1383-a0d1-4f35-be38-bbe7a560a5cc",
   "metadata": {},
   "outputs": [],
   "source": [
    "# Save merged_df dataset as csv\n",
    "merged_df.to_csv(\"booking_hotel_details.csv\", index=False, encoding=\"utf-8\")"
   ]
  },
  {
   "cell_type": "code",
   "execution_count": null,
   "id": "71275938-ca18-4857-9fff-4e5474bff127",
   "metadata": {},
   "outputs": [],
   "source": []
  },
  {
   "cell_type": "code",
   "execution_count": null,
   "id": "3e0e6459-30a3-4040-bd81-fb90b61acea4",
   "metadata": {},
   "outputs": [],
   "source": []
  }
 ],
 "metadata": {
  "kernelspec": {
   "display_name": "Python 3 (ipykernel)",
   "language": "python",
   "name": "python3"
  },
  "language_info": {
   "codemirror_mode": {
    "name": "ipython",
    "version": 3
   },
   "file_extension": ".py",
   "mimetype": "text/x-python",
   "name": "python",
   "nbconvert_exporter": "python",
   "pygments_lexer": "ipython3",
   "version": "3.11.1"
  }
 },
 "nbformat": 4,
 "nbformat_minor": 5
}

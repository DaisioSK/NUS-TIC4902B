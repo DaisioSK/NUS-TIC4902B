{
 "cells": [
  {
   "cell_type": "code",
   "execution_count": 1,
   "id": "ec8f6d3a-2c54-4add-8b91-ddf668a03355",
   "metadata": {},
   "outputs": [],
   "source": [
    "import numpy as np\n",
    "import pandas as pd\n",
    "\n",
    "import time\n",
    "from datetime import datetime\n",
    "\n",
    "import gensim\n",
    "import matplotlib.pyplot as plt\n",
    "\n",
    "import en_nlp_utils\n",
    "import model_evaluation_utils"
   ]
  },
  {
   "cell_type": "code",
   "execution_count": 2,
   "id": "12788efb-1ee0-456f-b6a5-98b6c4b6b141",
   "metadata": {},
   "outputs": [
    {
     "name": "stdout",
     "output_type": "stream",
     "text": [
      "Text processing started at 2024-06-27 00:02:54.567249\n"
     ]
    }
   ],
   "source": [
    "# Define default source path\n",
    "SRC_PATH = \"src/\"\n",
    "\n",
    "start_time = datetime.now()\n",
    "print(\"Text processing started at {}\".format(start_time))"
   ]
  },
  {
   "cell_type": "code",
   "execution_count": 3,
   "id": "96ae3a2c-4707-4b96-86e3-241b00ae5360",
   "metadata": {},
   "outputs": [],
   "source": [
    "# Load dataset\n",
    "df_review = pd.read_csv(SRC_PATH + \"en_hotel_review.csv\")"
   ]
  },
  {
   "cell_type": "code",
   "execution_count": 4,
   "id": "3b5a1cf3-43d9-405b-bf30-387f5bab732b",
   "metadata": {},
   "outputs": [
    {
     "name": "stdout",
     "output_type": "stream",
     "text": [
      "\u001b[1mdf_review:\u001b[0m\n",
      "source                      0\n",
      "hotel_id                    0\n",
      "hotel_name                  0\n",
      "country                     0\n",
      "group_name                  0\n",
      "room_type                   0\n",
      "stay_length                 0\n",
      "stay_date                   0\n",
      "review_score                0\n",
      "review_score_category       0\n",
      "sentiment                   0\n",
      "review_date                 0\n",
      "review_title                1\n",
      "review                      0\n",
      "review_cleaned_v1           0\n",
      "review_cleaned_v2           0\n",
      "review_cleaned_v3        1635\n",
      "dtype: int64\n",
      "\u001b[1mTotal rows in df_review:\u001b[0m 39602 \n",
      "\n"
     ]
    }
   ],
   "source": [
    "# Check NULL values\n",
    "en_nlp_utils.check_null(df_review, \"df_review\")\n",
    "\n",
    "# Remove rows when \"review_cleaned_v3\" is NULL\n",
    "df_review = df_review.dropna(subset=[\"review_cleaned_v3\"]).reset_index(drop=True)"
   ]
  },
  {
   "cell_type": "markdown",
   "id": "aac93b39-3d57-4cdb-b48b-b87a21a3ea43",
   "metadata": {},
   "source": [
    "## 1) Applying Stratified Sampling"
   ]
  },
  {
   "cell_type": "code",
   "execution_count": 5,
   "id": "323e0cfe-9afa-42c7-871f-fa3eea6573a1",
   "metadata": {},
   "outputs": [],
   "source": [
    "# Function for stratified sampling\n",
    "def stratified_sample(df, stratify_col, frac):\n",
    "    return df.groupby(stratify_col, group_keys=False).apply(lambda x: x.sample(frac=frac))\n",
    "\n",
    "# Convert \"stay_date\" and \"review_date\" columns as datetime data type\n",
    "df_review[\"stay_date\"] = pd.to_datetime(df_review[\"stay_date\"], format=\"%d/%m/%Y\")\n",
    "\n",
    "# Stratified sampling based on year and sentiment\n",
    "frac = 0.10  # Sampling ratio\n",
    "sampled_2022 = stratified_sample(df_review[df_review[\"stay_date\"].dt.year == 2022], \"sentiment\", frac)\n",
    "sampled_2023 = stratified_sample(df_review[df_review[\"stay_date\"].dt.year == 2023], \"sentiment\", frac)\n",
    "sampled_2024 = stratified_sample(df_review[df_review[\"stay_date\"].dt.year == 2024], \"sentiment\", frac)\n",
    "\n",
    "# Merge the sampled data\n",
    "sampled_data = pd.concat([sampled_2022, sampled_2023, sampled_2024])"
   ]
  },
  {
   "cell_type": "code",
   "execution_count": 6,
   "id": "48b4ed5f-86d2-496b-af17-bb7669eceec5",
   "metadata": {},
   "outputs": [
    {
     "data": {
      "text/html": [
       "<div>\n",
       "<style scoped>\n",
       "    .dataframe tbody tr th:only-of-type {\n",
       "        vertical-align: middle;\n",
       "    }\n",
       "\n",
       "    .dataframe tbody tr th {\n",
       "        vertical-align: top;\n",
       "    }\n",
       "\n",
       "    .dataframe thead th {\n",
       "        text-align: right;\n",
       "    }\n",
       "</style>\n",
       "<table border=\"1\" class=\"dataframe\">\n",
       "  <thead>\n",
       "    <tr style=\"text-align: right;\">\n",
       "      <th></th>\n",
       "      <th>negative</th>\n",
       "      <th>positive</th>\n",
       "      <th>Total</th>\n",
       "    </tr>\n",
       "    <tr>\n",
       "      <th>stay_date</th>\n",
       "      <th></th>\n",
       "      <th></th>\n",
       "      <th></th>\n",
       "    </tr>\n",
       "  </thead>\n",
       "  <tbody>\n",
       "    <tr>\n",
       "      <th>2022</th>\n",
       "      <td>165</td>\n",
       "      <td>524</td>\n",
       "      <td>689</td>\n",
       "    </tr>\n",
       "    <tr>\n",
       "      <th>2023</th>\n",
       "      <td>522</td>\n",
       "      <td>2023</td>\n",
       "      <td>2545</td>\n",
       "    </tr>\n",
       "    <tr>\n",
       "      <th>2024</th>\n",
       "      <td>108</td>\n",
       "      <td>455</td>\n",
       "      <td>563</td>\n",
       "    </tr>\n",
       "    <tr>\n",
       "      <th>Total</th>\n",
       "      <td>795</td>\n",
       "      <td>3002</td>\n",
       "      <td>3797</td>\n",
       "    </tr>\n",
       "  </tbody>\n",
       "</table>\n",
       "</div>"
      ],
      "text/plain": [
       "           negative  positive  Total\n",
       "stay_date                           \n",
       "2022            165       524    689\n",
       "2023            522      2023   2545\n",
       "2024            108       455    563\n",
       "Total           795      3002   3797"
      ]
     },
     "execution_count": 6,
     "metadata": {},
     "output_type": "execute_result"
    }
   ],
   "source": [
    "# Count number of reviews based on year and sentiment\n",
    "sampled_sentiment_count = sampled_data.groupby([sampled_data[\"sentiment\"], sampled_data[\"stay_date\"].dt.year]).size().reset_index(name=\"count\")\n",
    "sampled_sentiment_count2 = sampled_sentiment_count.pivot_table(index=\"stay_date\", columns=\"sentiment\", values=\"count\", \n",
    "                                               aggfunc=\"sum\", margins=True, margins_name=\"Total\")\n",
    "sampled_sentiment_count2.columns.name = None\n",
    "sampled_sentiment_count2"
   ]
  },
  {
   "cell_type": "markdown",
   "id": "99b4bfd7-c77e-4a3f-9e86-161ded937440",
   "metadata": {},
   "source": [
    "## 2) Topic Modeling"
   ]
  },
  {
   "cell_type": "markdown",
   "id": "91f0270c-5f6b-4a64-b81e-53a37ded97b9",
   "metadata": {},
   "source": [
    "### a) Helper functions"
   ]
  },
  {
   "cell_type": "code",
   "execution_count": 7,
   "id": "137026e3-96a9-4be8-b608-50c56108d63d",
   "metadata": {},
   "outputs": [],
   "source": [
    "# Function to generate bow corpus\n",
    "def generate_bow_corpus(df, target_text):\n",
    "    \n",
    "    documents = [en_nlp_utils.tokenize_sentence_to_words(cleaned_review) for cleaned_review in df[target_text]]\n",
    "    \n",
    "    bigram = gensim.models.Phrases(documents, min_count=20, threshold=20, delimiter=\"_\") # higher threshold fewer phrases.\n",
    "    bigram_model = gensim.models.phrases.Phraser(bigram)\n",
    "    \n",
    "    corpus_bigrams = [bigram_model[doc] for doc in documents]\n",
    "    dictionary = gensim.corpora.Dictionary(corpus_bigrams)\n",
    "    dictionary.filter_extremes(no_below=20, no_above=0.6)\n",
    "    bow_corpus = [dictionary.doc2bow(text) for text in corpus_bigrams]\n",
    "    \n",
    "    return bow_corpus, corpus_bigrams, dictionary\n",
    "\n",
    "\n",
    "# Function to calculate all models' coherence scores\n",
    "def topic_model_coherence_plot(df, df_name, target_text, MODEL_NAMES, START_TOPIC_COUNT, END_TOPIC_COUNT):\n",
    "    \n",
    "    overall_coherence_df = pd.DataFrame() # Store each model's coherence scores\n",
    "    model_topic_info = [] # Store each model's topic information\n",
    "    \n",
    "    bow_corpus, corpus_bigrams, dictionary = generate_bow_corpus(df, target_text)\n",
    "    model_count = 0\n",
    "    \n",
    "    for MODEL_NAME in MODEL_NAMES:\n",
    "        models, coherence_scores = en_nlp_utils.topic_model_coherence_generator(model_name=MODEL_NAME,\n",
    "                                                                                corpus=bow_corpus,\n",
    "                                                                                texts=corpus_bigrams,\n",
    "                                                                                dictionary=dictionary,\n",
    "                                                                                start_topic_count=START_TOPIC_COUNT,\n",
    "                                                                                end_topic_count=END_TOPIC_COUNT,\n",
    "                                                                                step=1,\n",
    "                                                                                cpus=-1,\n",
    "                                                                                print_topics=True)\n",
    "\n",
    "        coherence_df = pd.DataFrame({\"Model Name\": MODEL_NAME, \n",
    "                                     \"Number of Topics\": range(START_TOPIC_COUNT, END_TOPIC_COUNT + 1, 1), \n",
    "                                     \"Coherence Score\": np.round(coherence_scores, 6),\n",
    "                                     \"df_name\": df_name})\n",
    "        coherence_df.sort_values(by=[\"Coherence Score\"], ascending=False)\n",
    "        print(coherence_df)\n",
    "        \n",
    "        overall_coherence_df = pd.concat([overall_coherence_df, coherence_df], axis=0)\n",
    "        \n",
    "        model_topics = []\n",
    "        for model in models:\n",
    "            num_topics = model.num_topics\n",
    "            topics = [[(term, round(wt, 3)) for term, wt in model.show_topic(n, topn=10)] for n in range(num_topics)]\n",
    "            \n",
    "            # Determine the number of columns dynamically\n",
    "            num_terms_per_topic = max(len(topic) for topic in topics)\n",
    "            \n",
    "            # Create a DataFrame for topics with dynamic columns and names\n",
    "            topics_df = pd.DataFrame([[term if len(topic) > i else \"\" for i, (term, wt) in enumerate(topic)]\n",
    "                                      for topic in topics],\n",
    "                                     columns=[f\"Term{i+1}\" for i in range(num_terms_per_topic)],\n",
    "                                     index=[f\"Topic {t+1}\" for t in range(num_topics)]).T\n",
    "            \n",
    "            model_topic_info.append({\n",
    "                \"Model Name\": MODEL_NAME,\n",
    "                \"Number of Topics\": num_topics,\n",
    "                \"Topics\": topics_df.to_dict(orient=\"list\"),  # Convert DataFrame to dictionary\n",
    "                \"df_name\": df_name\n",
    "            })\n",
    "        \n",
    "        x_ax = range(START_TOPIC_COUNT, END_TOPIC_COUNT + 1, 1)\n",
    "        y_ax = coherence_scores\n",
    "        plt.figure(num=model_count, figsize=(15, 12))\n",
    "        plt.plot(x_ax, y_ax, c=\"r\")\n",
    "        plt.axhline(y=0.3, c=\"k\", linestyle=\"--\", linewidth=2)\n",
    "        plt.axhline(y=0.4, c=\"k\", linestyle=\"--\", linewidth=2)\n",
    "        plt.axhline(y=0.5, c=\"k\", linestyle=\"--\", linewidth=2)\n",
    "        plt.rcParams[\"figure.facecolor\"] = \"white\"\n",
    "        xl = plt.xlabel(\"Number of Topics\")\n",
    "        yl = plt.ylabel(\"Coherence Score\")\n",
    "\n",
    "        model_count += 1\n",
    "\n",
    "    plt.show()\n",
    "    return overall_coherence_df, model_topic_info\n",
    "\n",
    "\n",
    "# Function to print best model's topics\n",
    "def print_best_model_topics(overall_coherence_best_df, model_topic_info_list):\n",
    "    \n",
    "    for index, row in overall_coherence_best_df.iterrows():\n",
    "        model_name = row[\"Model Name\"]\n",
    "        num_topics = row[\"Number of Topics\"]\n",
    "        df_name = row[\"df_name\"]\n",
    "        \n",
    "        print(f\"\\nDF NAME: {df_name}\\nMODEL: {model_name} - NUMBER OF TOPICS: {num_topics}\")\n",
    "       \n",
    "        # Find the corresponding model_topic_info\n",
    "        for model_topic_info in model_topic_info_list:\n",
    "            for model_info in model_topic_info:\n",
    "                if (model_info[\"Model Name\"] == model_name and\n",
    "                    model_info[\"Number of Topics\"] == num_topics and\n",
    "                    model_info[\"df_name\"] == df_name):\n",
    "                    \n",
    "                    topics = model_info[\"Topics\"]\n",
    "                    for topic_num, terms in topics.items():\n",
    "                        print(f\"\\n{topic_num}: {', '.join(terms)}\")\n",
    "                        \n",
    "                    print(\"\\n----------\\n\")\n",
    "                    break"
   ]
  },
  {
   "cell_type": "markdown",
   "id": "3979c138-a027-47b0-ade8-f66aa1d25c36",
   "metadata": {},
   "source": [
    "### b) Topic Modeling"
   ]
  },
  {
   "cell_type": "code",
   "execution_count": 8,
   "id": "81e734f2-c677-4cdd-a76e-e4d1fe04ba68",
   "metadata": {},
   "outputs": [],
   "source": [
    "# Filter positive and negative reviews and save into different dataframe\n",
    "df_pos = sampled_data[sampled_data[\"sentiment\"] == \"positive\"].reset_index(drop=True)\n",
    "df_neg = sampled_data[sampled_data[\"sentiment\"] == \"negative\"].reset_index(drop=True)"
   ]
  },
  {
   "cell_type": "code",
   "execution_count": 9,
   "id": "e7020621-7883-4462-b379-35481d9ab99f",
   "metadata": {},
   "outputs": [],
   "source": [
    "MODEL_NAMES = [\"LSI\", \"LDA\"]\n",
    "START_TOPIC_COUNT = 2\n",
    "END_TOPIC_COUNT = 10\n",
    "\n",
    "df_sets = [df_pos, df_neg]\n",
    "df_names = [\"df_pos\", \"df_neg\"]"
   ]
  },
  {
   "cell_type": "code",
   "execution_count": 10,
   "id": "4b664310-3f5b-43b3-b2d8-02da711c87e5",
   "metadata": {},
   "outputs": [
    {
     "name": "stdout",
     "output_type": "stream",
     "text": [
      "\n",
      "DF NAME: df_pos\n",
      "\n"
     ]
    },
    {
     "name": "stderr",
     "output_type": "stream",
     "text": [
      "  0%|                                                                                            | 0/9 [00:00<?, ?it/s]"
     ]
    },
    {
     "name": "stdout",
     "output_type": "stream",
     "text": [
      "\n",
      "MODEL: LSI - NUMBER OF TOPICS: 2\n"
     ]
    },
    {
     "name": "stderr",
     "output_type": "stream",
     "text": [
      " 11%|█████████▎                                                                          | 1/9 [00:40<05:27, 40.91s/it]"
     ]
    },
    {
     "name": "stdout",
     "output_type": "stream",
     "text": [
      "Topic #1:\n",
      "==========\n",
      "0.360*\"great\" + 0.221*\"station\" + 0.193*\"breakfast\" + 0.188*\"food\" + 0.184*\"friendly\" + 0.155*\"singapore\" + 0.148*\"water\" + 0.141*\"provide\" + 0.137*\"service\" + 0.136*\"helpful\" + 0.127*\"really\" + 0.122*\"walk\" + 0.121*\"overall\" + 0.119*\"close\" + 0.117*\"comfortable\" + 0.115*\"bathroom\" + 0.108*\"price\" + 0.102*\"shower\" + 0.102*\"restaurant\" + 0.101*\"facility\"\n",
      "\n",
      "Topic #2:\n",
      "==========\n",
      "-0.830*\"great\" + 0.204*\"water\" + 0.110*\"call\" + 0.104*\"provide\" + 0.102*\"want\" + -0.098*\"friendly\" + 0.097*\"tell\" + 0.091*\"reception\" + 0.088*\"station\" + 0.078*\"quite\" + 0.076*\"shower\" + 0.069*\"first\" + 0.068*\"still\" + 0.067*\"bathroom\" + 0.065*\"toilet\" + 0.065*\"wait\" + 0.064*\"find\" + 0.062*\"really\" + 0.061*\"change\" + 0.058*\"request\"\n",
      "\n",
      "--------------------------------------------------\n",
      "\n",
      "MODEL: LSI - NUMBER OF TOPICS: 3\n"
     ]
    },
    {
     "name": "stderr",
     "output_type": "stream",
     "text": [
      " 22%|██████████████████▋                                                                 | 2/9 [01:30<05:22, 46.04s/it]"
     ]
    },
    {
     "name": "stdout",
     "output_type": "stream",
     "text": [
      "Topic #1:\n",
      "==========\n",
      "0.359*\"great\" + 0.224*\"station\" + 0.193*\"breakfast\" + 0.189*\"food\" + 0.183*\"friendly\" + 0.155*\"singapore\" + 0.147*\"water\" + 0.141*\"provide\" + 0.136*\"service\" + 0.136*\"helpful\" + 0.127*\"really\" + 0.122*\"walk\" + 0.121*\"overall\" + 0.120*\"close\" + 0.117*\"comfortable\" + 0.114*\"bathroom\" + 0.108*\"price\" + 0.102*\"restaurant\" + 0.102*\"shower\" + 0.101*\"facility\"\n",
      "\n",
      "Topic #2:\n",
      "==========\n",
      "-0.846*\"great\" + 0.224*\"station\" + 0.165*\"water\" + 0.117*\"food\" + -0.097*\"friendly\" + 0.088*\"bus\" + 0.079*\"quite\" + 0.075*\"provide\" + 0.068*\"want\" + 0.066*\"close\" + 0.064*\"bathroom\" + 0.061*\"singapore\" + 0.060*\"shower\" + 0.059*\"call\" + 0.058*\"find\" + 0.055*\"lot\" + 0.055*\"space\" + 0.052*\"reception\" + 0.052*\"still\" + 0.051*\"toilet\"\n",
      "\n",
      "Topic #3:\n",
      "==========\n",
      "0.600*\"station\" + 0.255*\"food\" + -0.216*\"water\" + -0.180*\"call\" + 0.164*\"bus\" + -0.161*\"tell\" + -0.145*\"reception\" + -0.140*\"provide\" + 0.139*\"walk\" + -0.139*\"service\" + 0.128*\"mind\" + -0.124*\"want\" + -0.104*\"request\" + -0.103*\"work\" + -0.100*\"wait\" + -0.096*\"really\" + 0.093*\"close\" + -0.091*\"shower\" + -0.091*\"first\" + -0.086*\"another\"\n",
      "\n",
      "--------------------------------------------------\n",
      "\n",
      "MODEL: LSI - NUMBER OF TOPICS: 4\n"
     ]
    },
    {
     "name": "stderr",
     "output_type": "stream",
     "text": [
      " 33%|████████████████████████████                                                        | 3/9 [02:20<04:48, 48.01s/it]"
     ]
    },
    {
     "name": "stdout",
     "output_type": "stream",
     "text": [
      "Topic #1:\n",
      "==========\n",
      "0.360*\"great\" + 0.224*\"station\" + 0.190*\"breakfast\" + 0.188*\"food\" + 0.183*\"friendly\" + 0.154*\"singapore\" + 0.150*\"water\" + 0.141*\"provide\" + 0.135*\"helpful\" + 0.135*\"service\" + 0.127*\"really\" + 0.122*\"walk\" + 0.121*\"overall\" + 0.119*\"close\" + 0.117*\"comfortable\" + 0.115*\"bathroom\" + 0.108*\"price\" + 0.103*\"shower\" + 0.102*\"restaurant\" + 0.101*\"facility\"\n",
      "\n",
      "Topic #2:\n",
      "==========\n",
      "-0.842*\"great\" + 0.222*\"station\" + 0.180*\"water\" + 0.109*\"food\" + -0.097*\"friendly\" + 0.086*\"bus\" + 0.081*\"quite\" + 0.079*\"provide\" + 0.068*\"bathroom\" + 0.068*\"want\" + 0.066*\"shower\" + 0.064*\"close\" + 0.059*\"singapore\" + 0.057*\"find\" + 0.057*\"call\" + 0.056*\"space\" + 0.056*\"lot\" + 0.055*\"toilet\" + 0.053*\"reception\" + 0.052*\"still\"\n",
      "\n",
      "Topic #3:\n",
      "==========\n",
      "0.594*\"station\" + 0.269*\"food\" + -0.245*\"water\" + -0.174*\"call\" + 0.165*\"bus\" + -0.154*\"tell\" + -0.144*\"reception\" + -0.144*\"provide\" + 0.136*\"walk\" + 0.128*\"mind\" + -0.126*\"service\" + -0.121*\"want\" + -0.106*\"work\" + -0.103*\"shower\" + -0.100*\"request\" + -0.099*\"really\" + -0.095*\"wait\" + 0.095*\"close\" + -0.089*\"first\" + -0.083*\"another\"\n",
      "\n",
      "Topic #4:\n",
      "==========\n",
      "-0.468*\"breakfast\" + 0.456*\"water\" + -0.244*\"singapore\" + 0.235*\"great\" + -0.220*\"service\" + 0.191*\"shower\" + 0.157*\"station\" + 0.157*\"bathroom\" + -0.140*\"food\" + -0.134*\"friendly\" + 0.132*\"toilet\" + -0.115*\"pool\" + 0.098*\"lot\" + -0.096*\"tell\" + -0.089*\"thank\" + 0.088*\"hot\" + 0.079*\"bottle\" + -0.076*\"helpful\" + -0.073*\"call\" + -0.071*\"excellent\"\n",
      "\n",
      "--------------------------------------------------\n",
      "\n",
      "MODEL: LSI - NUMBER OF TOPICS: 5\n"
     ]
    },
    {
     "name": "stderr",
     "output_type": "stream",
     "text": [
      " 44%|█████████████████████████████████████▎                                              | 4/9 [03:09<04:01, 48.24s/it]"
     ]
    },
    {
     "name": "stdout",
     "output_type": "stream",
     "text": [
      "Topic #1:\n",
      "==========\n",
      "0.359*\"great\" + 0.224*\"station\" + 0.191*\"breakfast\" + 0.185*\"food\" + 0.185*\"friendly\" + 0.155*\"singapore\" + 0.150*\"water\" + 0.142*\"provide\" + 0.136*\"helpful\" + 0.135*\"service\" + 0.127*\"really\" + 0.122*\"overall\" + 0.122*\"walk\" + 0.119*\"close\" + 0.117*\"comfortable\" + 0.116*\"bathroom\" + 0.109*\"price\" + 0.103*\"shower\" + 0.102*\"restaurant\" + 0.101*\"facility\"\n",
      "\n",
      "Topic #2:\n",
      "==========\n",
      "-0.846*\"great\" + 0.197*\"station\" + 0.172*\"water\" + -0.117*\"friendly\" + 0.087*\"food\" + 0.085*\"quite\" + 0.084*\"bus\" + 0.084*\"provide\" + 0.075*\"want\" + 0.071*\"singapore\" + 0.067*\"shower\" + 0.065*\"bathroom\" + 0.063*\"call\" + 0.060*\"find\" + 0.056*\"close\" + 0.055*\"space\" + 0.055*\"reception\" + 0.053*\"toilet\" + 0.052*\"still\" + 0.052*\"tell\"\n",
      "\n",
      "Topic #3:\n",
      "==========\n",
      "0.613*\"station\" + 0.314*\"food\" + -0.179*\"water\" + 0.162*\"bus\" + -0.157*\"call\" + -0.151*\"provide\" + -0.144*\"service\" + -0.140*\"tell\" + 0.133*\"walk\" + 0.127*\"mind\" + -0.124*\"reception\" + 0.114*\"close\" + -0.111*\"want\" + -0.110*\"breakfast\" + -0.100*\"work\" + -0.093*\"really\" + -0.091*\"request\" + -0.086*\"shower\" + -0.086*\"wait\" + -0.082*\"first\"\n",
      "\n",
      "Topic #4:\n",
      "==========\n",
      "0.499*\"breakfast\" + -0.482*\"water\" + 0.292*\"singapore\" + -0.215*\"great\" + -0.184*\"shower\" + 0.181*\"service\" + 0.147*\"friendly\" + -0.146*\"bathroom\" + -0.134*\"toilet\" + -0.121*\"lot\" + 0.112*\"pool\" + 0.094*\"thank\" + 0.089*\"city\" + -0.086*\"hot\" + -0.078*\"bottle\" + -0.076*\"station\" + 0.075*\"helpful\" + 0.072*\"spacious\" + 0.072*\"experience\" + -0.070*\"really\"\n",
      "\n",
      "Topic #5:\n",
      "==========\n",
      "0.508*\"friendly\" + -0.296*\"food\" + 0.214*\"helpful\" + -0.207*\"call\" + -0.180*\"tell\" + 0.177*\"overall\" + 0.156*\"singapore\" + -0.156*\"great\" + -0.152*\"want\" + 0.149*\"experience\" + 0.146*\"provide\" + -0.134*\"reception\" + -0.133*\"service\" + 0.128*\"bathroom\" + 0.123*\"convenient\" + -0.117*\"wait\" + 0.116*\"comfortable\" + -0.103*\"mind\" + -0.098*\"change\" + -0.091*\"walk\"\n",
      "\n",
      "--------------------------------------------------\n",
      "\n",
      "MODEL: LSI - NUMBER OF TOPICS: 6\n"
     ]
    },
    {
     "name": "stderr",
     "output_type": "stream",
     "text": [
      " 56%|██████████████████████████████████████████████▋                                     | 5/9 [03:58<03:14, 48.66s/it]"
     ]
    },
    {
     "name": "stdout",
     "output_type": "stream",
     "text": [
      "Topic #1:\n",
      "==========\n",
      "0.358*\"great\" + 0.224*\"station\" + 0.191*\"breakfast\" + 0.185*\"food\" + 0.185*\"friendly\" + 0.155*\"singapore\" + 0.150*\"water\" + 0.142*\"provide\" + 0.136*\"helpful\" + 0.135*\"service\" + 0.128*\"really\" + 0.122*\"overall\" + 0.122*\"walk\" + 0.119*\"close\" + 0.117*\"comfortable\" + 0.116*\"bathroom\" + 0.109*\"price\" + 0.103*\"shower\" + 0.101*\"restaurant\" + 0.101*\"facility\"\n",
      "\n",
      "Topic #2:\n",
      "==========\n",
      "-0.849*\"great\" + 0.187*\"station\" + 0.181*\"water\" + -0.113*\"friendly\" + 0.089*\"food\" + 0.088*\"provide\" + 0.085*\"quite\" + 0.081*\"bus\" + 0.074*\"want\" + 0.069*\"shower\" + 0.067*\"singapore\" + 0.066*\"bathroom\" + 0.062*\"call\" + 0.058*\"find\" + 0.055*\"toilet\" + 0.055*\"space\" + 0.053*\"reception\" + 0.053*\"close\" + 0.053*\"really\" + 0.052*\"still\"\n",
      "\n",
      "Topic #3:\n",
      "==========\n",
      "0.615*\"station\" + 0.301*\"food\" + -0.200*\"water\" + -0.171*\"provide\" + 0.160*\"bus\" + -0.144*\"call\" + -0.137*\"service\" + -0.131*\"really\" + 0.129*\"walk\" + -0.125*\"tell\" + 0.124*\"close\" + 0.118*\"mind\" + -0.115*\"reception\" + -0.105*\"breakfast\" + -0.098*\"work\" + -0.096*\"want\" + 0.092*\"restaurant\" + 0.091*\"many\" + -0.090*\"request\" + -0.084*\"shower\"\n",
      "\n",
      "Topic #4:\n",
      "==========\n",
      "-0.508*\"breakfast\" + 0.468*\"water\" + -0.305*\"singapore\" + 0.213*\"great\" + -0.182*\"service\" + 0.175*\"shower\" + 0.146*\"bathroom\" + 0.136*\"toilet\" + -0.135*\"friendly\" + -0.113*\"pool\" + 0.108*\"lot\" + 0.103*\"station\" + -0.097*\"thank\" + -0.088*\"city\" + 0.085*\"really\" + 0.082*\"hot\" + 0.077*\"bottle\" + -0.074*\"experience\" + -0.074*\"helpful\" + -0.071*\"view\"\n",
      "\n",
      "Topic #5:\n",
      "==========\n",
      "0.505*\"friendly\" + 0.238*\"helpful\" + -0.238*\"call\" + -0.211*\"tell\" + -0.182*\"want\" + -0.179*\"reception\" + -0.173*\"service\" + 0.170*\"water\" + -0.165*\"great\" + -0.162*\"wait\" + 0.140*\"overall\" + 0.136*\"provide\" + -0.135*\"food\" + 0.130*\"singapore\" + 0.123*\"bathroom\" + -0.121*\"change\" + 0.120*\"comfortable\" + 0.110*\"convenient\" + -0.107*\"request\" + -0.106*\"walk\"\n",
      "\n",
      "Topic #6:\n",
      "==========\n",
      "-0.486*\"food\" + -0.383*\"breakfast\" + -0.299*\"water\" + 0.224*\"station\" + 0.202*\"experience\" + 0.144*\"overall\" + 0.139*\"quite\" + 0.125*\"friendly\" + 0.122*\"however\" + 0.117*\"spacious\" + 0.116*\"person\" + -0.113*\"pool\" + 0.108*\"service\" + -0.101*\"free\" + -0.099*\"lot\" + 0.097*\"reception\" + -0.091*\"drink\" + 0.089*\"wait\" + 0.082*\"size\" + 0.082*\"bus\"\n",
      "\n",
      "--------------------------------------------------\n",
      "\n",
      "MODEL: LSI - NUMBER OF TOPICS: 7\n"
     ]
    },
    {
     "name": "stderr",
     "output_type": "stream",
     "text": [
      " 67%|████████████████████████████████████████████████████████                            | 6/9 [04:48<02:27, 49.13s/it]"
     ]
    },
    {
     "name": "stdout",
     "output_type": "stream",
     "text": [
      "Topic #1:\n",
      "==========\n",
      "0.357*\"great\" + 0.224*\"station\" + 0.192*\"breakfast\" + 0.187*\"friendly\" + 0.186*\"food\" + 0.153*\"singapore\" + 0.150*\"water\" + 0.141*\"provide\" + 0.138*\"helpful\" + 0.135*\"service\" + 0.129*\"really\" + 0.122*\"overall\" + 0.122*\"walk\" + 0.119*\"close\" + 0.118*\"comfortable\" + 0.115*\"bathroom\" + 0.109*\"price\" + 0.102*\"shower\" + 0.102*\"restaurant\" + 0.101*\"facility\"\n",
      "\n",
      "Topic #2:\n",
      "==========\n",
      "-0.853*\"great\" + 0.188*\"station\" + 0.173*\"water\" + -0.091*\"friendly\" + 0.088*\"food\" + 0.086*\"provide\" + 0.083*\"quite\" + 0.081*\"bus\" + 0.073*\"want\" + 0.070*\"bathroom\" + 0.069*\"shower\" + 0.066*\"singapore\" + 0.062*\"call\" + 0.059*\"find\" + 0.059*\"reception\" + 0.055*\"toilet\" + 0.054*\"space\" + 0.054*\"close\" + 0.052*\"still\" + 0.051*\"really\"\n",
      "\n",
      "Topic #3:\n",
      "==========\n",
      "0.614*\"station\" + 0.298*\"food\" + -0.208*\"water\" + -0.173*\"provide\" + 0.158*\"bus\" + -0.145*\"call\" + -0.138*\"service\" + -0.131*\"really\" + 0.129*\"walk\" + -0.125*\"tell\" + 0.124*\"close\" + 0.118*\"mind\" + -0.116*\"breakfast\" + -0.109*\"reception\" + -0.099*\"work\" + -0.096*\"want\" + 0.091*\"many\" + 0.091*\"restaurant\" + -0.090*\"request\" + -0.086*\"shower\"\n",
      "\n",
      "Topic #4:\n",
      "==========\n",
      "-0.535*\"breakfast\" + 0.437*\"water\" + -0.235*\"singapore\" + 0.230*\"great\" + 0.199*\"shower\" + -0.199*\"friendly\" + -0.183*\"service\" + 0.161*\"bathroom\" + 0.139*\"toilet\" + -0.126*\"pool\" + -0.123*\"helpful\" + -0.093*\"thank\" + 0.090*\"station\" + 0.090*\"lot\" + 0.083*\"hot\" + -0.079*\"food\" + -0.076*\"city\" + 0.074*\"bottle\" + -0.073*\"excellent\" + -0.069*\"buffet\"\n",
      "\n",
      "Topic #5:\n",
      "==========\n",
      "0.720*\"friendly\" + 0.353*\"helpful\" + -0.253*\"breakfast\" + -0.167*\"great\" + -0.158*\"food\" + 0.153*\"comfortable\" + 0.151*\"convenient\" + 0.119*\"bathroom\" + 0.106*\"overall\" + -0.105*\"call\" + -0.093*\"service\" + -0.091*\"tell\" + -0.091*\"want\" + -0.063*\"wait\" + -0.059*\"however\" + 0.055*\"provide\" + 0.055*\"sleep\" + 0.054*\"perfect\" + -0.054*\"mind\" + -0.054*\"pool\"\n",
      "\n",
      "Topic #6:\n",
      "==========\n",
      "-0.416*\"water\" + -0.412*\"breakfast\" + -0.267*\"food\" + 0.221*\"reception\" + 0.186*\"call\" + 0.178*\"service\" + 0.167*\"tell\" + 0.167*\"wait\" + 0.142*\"station\" + 0.133*\"want\" + 0.125*\"walk\" + -0.108*\"lot\" + 0.108*\"change\" + 0.107*\"first\" + 0.103*\"however\" + -0.099*\"pool\" + -0.093*\"drink\" + 0.092*\"ready\" + 0.092*\"request\" + -0.092*\"use\"\n",
      "\n",
      "Topic #7:\n",
      "==========\n",
      "0.405*\"singapore\" + -0.404*\"food\" + -0.195*\"reception\" + 0.190*\"experience\" + 0.189*\"provide\" + 0.160*\"boris\" + -0.156*\"helpful\" + -0.152*\"call\" + -0.149*\"tell\" + -0.148*\"friendly\" + -0.143*\"really\" + 0.143*\"quite\" + 0.138*\"person\" + 0.128*\"consider\" + 0.126*\"overall\" + 0.126*\"shower\" + 0.124*\"size\" + 0.124*\"price\" + 0.119*\"spacious\" + -0.104*\"close\"\n",
      "\n",
      "--------------------------------------------------\n",
      "\n",
      "MODEL: LSI - NUMBER OF TOPICS: 8\n"
     ]
    },
    {
     "name": "stderr",
     "output_type": "stream",
     "text": [
      " 78%|█████████████████████████████████████████████████████████████████▎                  | 7/9 [05:41<01:40, 50.19s/it]"
     ]
    },
    {
     "name": "stdout",
     "output_type": "stream",
     "text": [
      "Topic #1:\n",
      "==========\n",
      "0.357*\"great\" + 0.224*\"station\" + 0.192*\"breakfast\" + 0.187*\"friendly\" + 0.186*\"food\" + 0.153*\"singapore\" + 0.150*\"water\" + 0.142*\"provide\" + 0.138*\"helpful\" + 0.135*\"service\" + 0.129*\"really\" + 0.122*\"overall\" + 0.121*\"walk\" + 0.119*\"close\" + 0.118*\"comfortable\" + 0.115*\"bathroom\" + 0.109*\"price\" + 0.102*\"shower\" + 0.102*\"restaurant\" + 0.101*\"facility\"\n",
      "\n",
      "Topic #2:\n",
      "==========\n",
      "-0.853*\"great\" + 0.186*\"station\" + 0.173*\"water\" + -0.096*\"friendly\" + 0.088*\"provide\" + 0.088*\"food\" + 0.084*\"quite\" + 0.079*\"bus\" + 0.072*\"want\" + 0.071*\"shower\" + 0.071*\"bathroom\" + 0.069*\"singapore\" + 0.061*\"call\" + 0.059*\"reception\" + 0.058*\"find\" + 0.057*\"toilet\" + 0.056*\"space\" + 0.054*\"close\" + 0.052*\"still\" + 0.050*\"tell\"\n",
      "\n",
      "Topic #3:\n",
      "==========\n",
      "0.623*\"station\" + 0.287*\"food\" + -0.199*\"water\" + -0.169*\"provide\" + 0.163*\"bus\" + -0.138*\"call\" + -0.136*\"service\" + 0.134*\"walk\" + -0.124*\"really\" + 0.124*\"close\" + 0.122*\"mind\" + -0.118*\"tell\" + -0.109*\"reception\" + -0.102*\"breakfast\" + -0.101*\"shower\" + -0.101*\"work\" + 0.095*\"restaurant\" + -0.089*\"toilet\" + 0.089*\"many\" + -0.089*\"want\"\n",
      "\n",
      "Topic #4:\n",
      "==========\n",
      "-0.530*\"breakfast\" + 0.420*\"water\" + -0.277*\"friendly\" + 0.246*\"great\" + -0.206*\"singapore\" + 0.196*\"shower\" + -0.174*\"helpful\" + -0.159*\"service\" + 0.149*\"bathroom\" + 0.137*\"toilet\" + -0.121*\"pool\" + 0.109*\"station\" + 0.093*\"lot\" + -0.085*\"thank\" + 0.083*\"hot\" + -0.079*\"food\" + -0.073*\"excellent\" + 0.071*\"bottle\" + 0.068*\"provide\" + -0.068*\"buffet\"\n",
      "\n",
      "Topic #5:\n",
      "==========\n",
      "0.712*\"friendly\" + 0.368*\"helpful\" + -0.260*\"breakfast\" + -0.159*\"service\" + 0.151*\"bathroom\" + -0.150*\"great\" + 0.117*\"convenient\" + 0.115*\"comfortable\" + -0.105*\"call\" + -0.095*\"tell\" + -0.084*\"singapore\" + 0.084*\"overall\" + -0.083*\"station\" + 0.082*\"toilet\" + -0.079*\"want\" + 0.074*\"shower\" + -0.064*\"however\" + 0.063*\"facility\" + -0.062*\"wait\" + -0.059*\"request\"\n",
      "\n",
      "Topic #6:\n",
      "==========\n",
      "-0.432*\"food\" + -0.390*\"breakfast\" + -0.375*\"water\" + 0.208*\"singapore\" + 0.185*\"experience\" + 0.170*\"station\" + 0.158*\"service\" + 0.128*\"provide\" + 0.126*\"quite\" + 0.114*\"overall\" + 0.109*\"however\" + 0.107*\"reception\" + -0.103*\"pool\" + 0.100*\"spacious\" + -0.099*\"helpful\" + 0.098*\"person\" + -0.096*\"drink\" + -0.095*\"lot\" + 0.089*\"wait\" + -0.087*\"use\"\n",
      "\n",
      "Topic #7:\n",
      "==========\n",
      "0.367*\"singapore\" + -0.253*\"reception\" + -0.242*\"call\" + -0.225*\"tell\" + -0.220*\"really\" + -0.201*\"want\" + 0.167*\"shower\" + 0.164*\"price\" + 0.163*\"provide\" + 0.162*\"breakfast\" + 0.160*\"experience\" + -0.158*\"wait\" + 0.157*\"overall\" + -0.125*\"walk\" + -0.117*\"request\" + -0.112*\"helpful\" + -0.111*\"service\" + -0.107*\"change\" + -0.106*\"food\" + 0.104*\"water\"\n",
      "\n",
      "Topic #8:\n",
      "==========\n",
      "0.417*\"food\" + -0.339*\"water\" + -0.326*\"station\" + 0.284*\"shower\" + -0.258*\"provide\" + -0.187*\"breakfast\" + -0.158*\"really\" + 0.157*\"singapore\" + -0.135*\"quite\" + 0.130*\"toilet\" + 0.105*\"towel\" + 0.104*\"bathroom\" + -0.101*\"friendly\" + 0.100*\"everything\" + -0.100*\"drink\" + -0.100*\"helpful\" + 0.096*\"change\" + -0.095*\"fridge\" + 0.094*\"reception\" + 0.093*\"mind\"\n",
      "\n",
      "--------------------------------------------------\n",
      "\n",
      "MODEL: LSI - NUMBER OF TOPICS: 9\n"
     ]
    },
    {
     "name": "stderr",
     "output_type": "stream",
     "text": [
      " 89%|██████████████████████████████████████████████████████████████████████████▋         | 8/9 [06:34<00:51, 51.20s/it]"
     ]
    },
    {
     "name": "stdout",
     "output_type": "stream",
     "text": [
      "Topic #1:\n",
      "==========\n",
      "0.357*\"great\" + 0.225*\"station\" + 0.193*\"breakfast\" + 0.187*\"friendly\" + 0.185*\"food\" + 0.152*\"singapore\" + 0.149*\"water\" + 0.141*\"provide\" + 0.137*\"helpful\" + 0.135*\"service\" + 0.128*\"really\" + 0.122*\"walk\" + 0.122*\"overall\" + 0.119*\"close\" + 0.118*\"comfortable\" + 0.115*\"bathroom\" + 0.109*\"price\" + 0.102*\"shower\" + 0.102*\"restaurant\" + 0.101*\"facility\"\n",
      "\n",
      "Topic #2:\n",
      "==========\n",
      "-0.853*\"great\" + 0.186*\"station\" + 0.170*\"water\" + -0.096*\"friendly\" + 0.089*\"food\" + 0.088*\"provide\" + 0.085*\"quite\" + 0.078*\"bus\" + 0.071*\"want\" + 0.071*\"bathroom\" + 0.071*\"shower\" + 0.067*\"singapore\" + 0.061*\"call\" + 0.059*\"reception\" + 0.058*\"find\" + 0.057*\"toilet\" + 0.056*\"space\" + 0.055*\"close\" + 0.052*\"still\" + 0.050*\"tell\"\n",
      "\n",
      "Topic #3:\n",
      "==========\n",
      "0.622*\"station\" + 0.286*\"food\" + -0.209*\"water\" + -0.170*\"provide\" + 0.161*\"bus\" + 0.140*\"walk\" + -0.137*\"call\" + -0.136*\"service\" + -0.131*\"really\" + 0.126*\"mind\" + 0.124*\"close\" + -0.116*\"tell\" + -0.112*\"reception\" + -0.100*\"shower\" + -0.100*\"work\" + 0.096*\"restaurant\" + -0.090*\"breakfast\" + -0.088*\"want\" + 0.088*\"many\" + -0.088*\"toilet\"\n",
      "\n",
      "Topic #4:\n",
      "==========\n",
      "-0.529*\"breakfast\" + 0.401*\"water\" + -0.284*\"friendly\" + 0.246*\"great\" + 0.203*\"shower\" + -0.194*\"service\" + -0.186*\"singapore\" + -0.162*\"helpful\" + 0.157*\"bathroom\" + 0.145*\"toilet\" + 0.132*\"station\" + -0.110*\"pool\" + -0.110*\"food\" + 0.083*\"lot\" + -0.081*\"thank\" + -0.079*\"excellent\" + 0.078*\"hot\" + 0.075*\"really\" + 0.069*\"bottle\" + -0.068*\"buffet\"\n",
      "\n",
      "Topic #5:\n",
      "==========\n",
      "0.708*\"friendly\" + 0.380*\"helpful\" + -0.298*\"breakfast\" + -0.147*\"great\" + -0.129*\"service\" + 0.126*\"bathroom\" + 0.114*\"convenient\" + -0.112*\"call\" + -0.106*\"tell\" + 0.099*\"comfortable\" + 0.093*\"overall\" + -0.080*\"want\" + -0.076*\"station\" + -0.066*\"fridge\" + 0.064*\"water\" + -0.062*\"free\" + -0.061*\"wait\" + 0.059*\"toilet\" + -0.057*\"pool\" + 0.056*\"facility\"\n",
      "\n",
      "Topic #6:\n",
      "==========\n",
      "-0.422*\"food\" + -0.383*\"breakfast\" + -0.329*\"water\" + 0.268*\"singapore\" + 0.206*\"experience\" + 0.173*\"station\" + 0.171*\"service\" + 0.147*\"provide\" + 0.126*\"quite\" + 0.122*\"overall\" + 0.114*\"however\" + 0.112*\"spacious\" + 0.108*\"person\" + -0.099*\"lot\" + -0.098*\"helpful\" + 0.095*\"reception\" + -0.095*\"pool\" + 0.091*\"city\" + -0.091*\"use\" + 0.087*\"offer\"\n",
      "\n",
      "Topic #7:\n",
      "==========\n",
      "-0.361*\"singapore\" + 0.240*\"call\" + 0.228*\"tell\" + -0.223*\"water\" + 0.222*\"reception\" + 0.213*\"really\" + 0.191*\"want\" + 0.178*\"walk\" + -0.172*\"provide\" + -0.168*\"experience\" + -0.167*\"price\" + -0.156*\"overall\" + 0.153*\"wait\" + -0.149*\"breakfast\" + 0.130*\"mind\" + -0.127*\"shower\" + 0.110*\"friendly\" + 0.101*\"helpful\" + 0.098*\"first\" + 0.098*\"request\"\n",
      "\n",
      "Topic #8:\n",
      "==========\n",
      "-0.451*\"water\" + 0.325*\"shower\" + -0.253*\"service\" + 0.246*\"bathroom\" + 0.232*\"walk\" + 0.222*\"toilet\" + -0.198*\"station\" + 0.196*\"mind\" + -0.168*\"provide\" + -0.137*\"really\" + -0.134*\"drink\" + -0.127*\"helpful\" + 0.108*\"everything\" + -0.104*\"request\" + -0.104*\"reception\" + 0.100*\"facility\" + -0.098*\"bottle\" + 0.094*\"sleep\" + 0.087*\"smell\" + 0.083*\"space\"\n",
      "\n",
      "Topic #9:\n",
      "==========\n",
      "0.565*\"food\" + -0.319*\"breakfast\" + -0.255*\"station\" + 0.213*\"reception\" + 0.205*\"service\" + -0.187*\"really\" + -0.155*\"fridge\" + -0.152*\"provide\" + 0.127*\"close\" + 0.127*\"change\" + -0.122*\"walk\" + 0.117*\"singapore\" + -0.105*\"quite\" + 0.101*\"experience\" + -0.096*\"free\" + 0.093*\"however\" + 0.090*\"wait\" + -0.089*\"look\" + 0.087*\"option\" + 0.086*\"shower\"\n",
      "\n",
      "--------------------------------------------------\n",
      "\n",
      "MODEL: LSI - NUMBER OF TOPICS: 10\n"
     ]
    },
    {
     "name": "stderr",
     "output_type": "stream",
     "text": [
      "100%|████████████████████████████████████████████████████████████████████████████████████| 9/9 [07:30<00:00, 50.03s/it]\n"
     ]
    },
    {
     "name": "stdout",
     "output_type": "stream",
     "text": [
      "Topic #1:\n",
      "==========\n",
      "0.357*\"great\" + 0.225*\"station\" + 0.194*\"breakfast\" + 0.187*\"friendly\" + 0.185*\"food\" + 0.152*\"singapore\" + 0.149*\"water\" + 0.142*\"provide\" + 0.137*\"helpful\" + 0.135*\"service\" + 0.127*\"really\" + 0.122*\"walk\" + 0.122*\"overall\" + 0.119*\"close\" + 0.118*\"comfortable\" + 0.116*\"bathroom\" + 0.108*\"price\" + 0.103*\"shower\" + 0.102*\"restaurant\" + 0.101*\"facility\"\n",
      "\n",
      "Topic #2:\n",
      "==========\n",
      "-0.854*\"great\" + 0.187*\"station\" + 0.171*\"water\" + -0.091*\"friendly\" + 0.090*\"provide\" + 0.087*\"food\" + 0.085*\"quite\" + 0.078*\"bus\" + 0.073*\"bathroom\" + 0.072*\"want\" + 0.071*\"shower\" + 0.066*\"singapore\" + 0.062*\"call\" + 0.058*\"find\" + 0.058*\"toilet\" + 0.057*\"reception\" + 0.055*\"close\" + 0.055*\"space\" + 0.052*\"still\" + 0.051*\"tell\"\n",
      "\n",
      "Topic #3:\n",
      "==========\n",
      "0.617*\"station\" + 0.291*\"food\" + -0.209*\"water\" + -0.173*\"provide\" + 0.160*\"bus\" + 0.143*\"walk\" + -0.137*\"call\" + -0.136*\"service\" + -0.128*\"really\" + 0.127*\"mind\" + 0.125*\"close\" + -0.115*\"tell\" + -0.113*\"reception\" + -0.102*\"shower\" + -0.102*\"work\" + -0.095*\"breakfast\" + 0.093*\"restaurant\" + -0.089*\"toilet\" + 0.088*\"many\" + -0.088*\"want\"\n",
      "\n",
      "Topic #4:\n",
      "==========\n",
      "-0.533*\"breakfast\" + 0.399*\"water\" + -0.295*\"friendly\" + 0.246*\"great\" + 0.200*\"shower\" + -0.192*\"service\" + -0.181*\"singapore\" + -0.162*\"helpful\" + 0.151*\"bathroom\" + 0.143*\"toilet\" + 0.122*\"station\" + -0.110*\"pool\" + -0.100*\"food\" + 0.087*\"lot\" + -0.083*\"thank\" + -0.079*\"excellent\" + 0.079*\"really\" + 0.077*\"hot\" + -0.069*\"buffet\" + 0.068*\"bottle\"\n",
      "\n",
      "Topic #5:\n",
      "==========\n",
      "0.722*\"friendly\" + 0.366*\"helpful\" + -0.299*\"breakfast\" + -0.145*\"service\" + -0.141*\"great\" + 0.132*\"bathroom\" + 0.114*\"convenient\" + -0.103*\"call\" + 0.093*\"overall\" + 0.092*\"comfortable\" + -0.089*\"tell\" + 0.078*\"water\" + -0.075*\"station\" + -0.074*\"want\" + 0.062*\"toilet\" + -0.061*\"fridge\" + -0.058*\"walk\" + -0.057*\"free\" + -0.056*\"pool\" + -0.055*\"wait\"\n",
      "\n",
      "Topic #6:\n",
      "==========\n",
      "-0.461*\"food\" + -0.368*\"breakfast\" + -0.341*\"water\" + 0.210*\"station\" + 0.207*\"singapore\" + 0.177*\"experience\" + 0.173*\"service\" + 0.150*\"reception\" + 0.144*\"provide\" + -0.122*\"lot\" + 0.114*\"quite\" + 0.103*\"spacious\" + 0.101*\"however\" + 0.099*\"person\" + -0.093*\"pool\" + 0.093*\"overall\" + -0.091*\"use\" + -0.086*\"drink\" + 0.082*\"size\" + 0.081*\"city\"\n",
      "\n",
      "Topic #7:\n",
      "==========\n",
      "0.410*\"singapore\" + -0.249*\"reception\" + -0.218*\"really\" + -0.211*\"call\" + 0.200*\"experience\" + -0.192*\"walk\" + -0.191*\"tell\" + 0.187*\"price\" + 0.180*\"overall\" + 0.174*\"water\" + -0.173*\"want\" + 0.169*\"provide\" + -0.138*\"mind\" + -0.125*\"helpful\" + -0.124*\"wait\" + -0.123*\"friendly\" + -0.104*\"station\" + -0.102*\"first\" + 0.099*\"shower\" + 0.097*\"consider\"\n",
      "\n",
      "Topic #8:\n",
      "==========\n",
      "0.508*\"food\" + -0.374*\"breakfast\" + -0.330*\"station\" + -0.224*\"provide\" + -0.206*\"water\" + 0.147*\"singapore\" + 0.131*\"close\" + 0.120*\"overall\" + 0.117*\"price\" + 0.115*\"service\" + -0.115*\"friendly\" + -0.114*\"fridge\" + 0.113*\"experience\" + 0.111*\"change\" + 0.111*\"wait\" + 0.108*\"lot\" + -0.100*\"free\" + 0.095*\"tell\" + -0.094*\"bathroom\" + -0.088*\"restaurant\"\n",
      "\n",
      "Topic #9:\n",
      "==========\n",
      "-0.419*\"water\" + 0.331*\"shower\" + -0.261*\"service\" + 0.255*\"bathroom\" + 0.253*\"walk\" + 0.222*\"toilet\" + 0.202*\"mind\" + -0.158*\"station\" + -0.136*\"provide\" + 0.134*\"breakfast\" + -0.126*\"drink\" + -0.122*\"request\" + -0.114*\"really\" + -0.107*\"food\" + 0.107*\"everything\" + 0.104*\"facility\" + -0.103*\"helpful\" + 0.093*\"sleep\" + -0.088*\"bottle\" + -0.087*\"close\"\n",
      "\n",
      "Topic #10:\n",
      "==========\n",
      "0.539*\"reception\" + -0.277*\"tell\" + 0.240*\"service\" + -0.186*\"lot\" + -0.175*\"call\" + 0.137*\"shower\" + 0.134*\"food\" + -0.133*\"ready\" + 0.131*\"first\" + -0.129*\"close\" + -0.129*\"fridge\" + -0.123*\"look\" + -0.121*\"friendly\" + -0.121*\"know\" + -0.117*\"thing\" + -0.117*\"quite\" + -0.116*\"want\" + -0.110*\"wait\" + 0.110*\"ok\" + -0.094*\"way\"\n",
      "\n",
      "--------------------------------------------------\n",
      "  Model Name  Number of Topics  Coherence Score df_name\n",
      "0        LSI                 2         0.667260  df_pos\n",
      "1        LSI                 3         0.660077  df_pos\n",
      "2        LSI                 4         0.658079  df_pos\n",
      "3        LSI                 5         0.623225  df_pos\n",
      "4        LSI                 6         0.658220  df_pos\n",
      "5        LSI                 7         0.663805  df_pos\n",
      "6        LSI                 8         0.653828  df_pos\n",
      "7        LSI                 9         0.645417  df_pos\n",
      "8        LSI                10         0.659091  df_pos\n"
     ]
    },
    {
     "name": "stderr",
     "output_type": "stream",
     "text": [
      "  0%|                                                                                            | 0/9 [00:00<?, ?it/s]"
     ]
    },
    {
     "name": "stdout",
     "output_type": "stream",
     "text": [
      "\n",
      "MODEL: LDA - NUMBER OF TOPICS: 2\n"
     ]
    },
    {
     "name": "stderr",
     "output_type": "stream",
     "text": [
      " 11%|█████████▎                                                                          | 1/9 [00:05<00:41,  5.15s/it]"
     ]
    },
    {
     "name": "stdout",
     "output_type": "stream",
     "text": [
      "Topic #1:\n",
      "==========\n",
      "0.017*\"food\" + 0.016*\"singapore\" + 0.015*\"station\" + 0.015*\"friendly\" + 0.014*\"breakfast\" + 0.014*\"helpful\" + 0.013*\"great\" + 0.011*\"water\" + 0.010*\"pool\" + 0.009*\"close\" + 0.009*\"provide\" + 0.008*\"bus\" + 0.008*\"spacious\" + 0.008*\"bathroom\" + 0.008*\"service\" + 0.008*\"city\" + 0.008*\"convenient\" + 0.007*\"walk\" + 0.007*\"shower\" + 0.007*\"perfect\"\n",
      "\n",
      "Topic #2:\n",
      "==========\n",
      "0.032*\"great\" + 0.016*\"friendly\" + 0.015*\"station\" + 0.013*\"comfortable\" + 0.012*\"facility\" + 0.012*\"really\" + 0.011*\"overall\" + 0.011*\"service\" + 0.010*\"price\" + 0.010*\"breakfast\" + 0.009*\"helpful\" + 0.008*\"walk\" + 0.008*\"lot\" + 0.007*\"bathroom\" + 0.007*\"everything\" + 0.007*\"look\" + 0.007*\"restaurant\" + 0.007*\"work\" + 0.007*\"close\" + 0.007*\"definitely\"\n",
      "\n",
      "--------------------------------------------------\n",
      "\n",
      "MODEL: LDA - NUMBER OF TOPICS: 3\n"
     ]
    },
    {
     "name": "stderr",
     "output_type": "stream",
     "text": [
      " 22%|██████████████████▋                                                                 | 2/9 [00:10<00:36,  5.18s/it]"
     ]
    },
    {
     "name": "stdout",
     "output_type": "stream",
     "text": [
      "Topic #1:\n",
      "==========\n",
      "0.025*\"great\" + 0.018*\"really\" + 0.017*\"service\" + 0.012*\"water\" + 0.011*\"everything\" + 0.011*\"provide\" + 0.011*\"friendly\" + 0.010*\"breakfast\" + 0.009*\"helpful\" + 0.008*\"comfortable\" + 0.008*\"request\" + 0.008*\"shower\" + 0.008*\"first\" + 0.008*\"thank\" + 0.008*\"big\" + 0.008*\"enough\" + 0.008*\"quite\" + 0.008*\"thing\" + 0.007*\"toilet\" + 0.007*\"bathroom\"\n",
      "\n",
      "Topic #2:\n",
      "==========\n",
      "0.031*\"great\" + 0.021*\"station\" + 0.017*\"breakfast\" + 0.015*\"food\" + 0.014*\"singapore\" + 0.014*\"walk\" + 0.013*\"close\" + 0.011*\"price\" + 0.011*\"recommend\" + 0.010*\"friendly\" + 0.010*\"lot\" + 0.010*\"pool\" + 0.009*\"helpful\" + 0.009*\"view\" + 0.009*\"comfortable\" + 0.009*\"facility\" + 0.008*\"city\" + 0.008*\"use\" + 0.008*\"convenient\" + 0.007*\"mind\"\n",
      "\n",
      "Topic #3:\n",
      "==========\n",
      "0.028*\"friendly\" + 0.019*\"station\" + 0.017*\"helpful\" + 0.016*\"many\" + 0.015*\"food\" + 0.011*\"restaurant\" + 0.011*\"comfortable\" + 0.011*\"bathroom\" + 0.010*\"overall\" + 0.010*\"facility\" + 0.010*\"bus\" + 0.009*\"great\" + 0.009*\"convenient\" + 0.008*\"price\" + 0.008*\"perfect\" + 0.008*\"much\" + 0.008*\"water\" + 0.008*\"singapore\" + 0.008*\"spacious\" + 0.008*\"love\"\n",
      "\n",
      "--------------------------------------------------\n",
      "\n",
      "MODEL: LDA - NUMBER OF TOPICS: 4\n"
     ]
    },
    {
     "name": "stderr",
     "output_type": "stream",
     "text": [
      " 33%|████████████████████████████                                                        | 3/9 [00:15<00:29,  4.95s/it]"
     ]
    },
    {
     "name": "stdout",
     "output_type": "stream",
     "text": [
      "Topic #1:\n",
      "==========\n",
      "0.043*\"great\" + 0.021*\"friendly\" + 0.016*\"helpful\" + 0.014*\"city\" + 0.014*\"comfortable\" + 0.013*\"facility\" + 0.013*\"station\" + 0.012*\"provide\" + 0.011*\"pool\" + 0.011*\"bathroom\" + 0.011*\"breakfast\" + 0.010*\"use\" + 0.009*\"definitely\" + 0.009*\"locate\" + 0.008*\"singapore\" + 0.008*\"price\" + 0.008*\"budget\" + 0.007*\"excellent\" + 0.007*\"food\" + 0.007*\"amazing\"\n",
      "\n",
      "Topic #2:\n",
      "==========\n",
      "0.025*\"great\" + 0.024*\"friendly\" + 0.022*\"close\" + 0.020*\"station\" + 0.019*\"service\" + 0.018*\"food\" + 0.017*\"breakfast\" + 0.015*\"price\" + 0.014*\"walk\" + 0.014*\"mind\" + 0.010*\"convenient\" + 0.010*\"helpful\" + 0.008*\"find\" + 0.008*\"comfortable\" + 0.008*\"singapore\" + 0.007*\"view\" + 0.007*\"spacious\" + 0.007*\"restaurant\" + 0.006*\"recommend\" + 0.006*\"free\"\n",
      "\n",
      "Topic #3:\n",
      "==========\n",
      "0.023*\"station\" + 0.022*\"great\" + 0.016*\"everything\" + 0.015*\"thank\" + 0.012*\"service\" + 0.012*\"water\" + 0.012*\"reception\" + 0.011*\"restaurant\" + 0.010*\"walk_distance\" + 0.010*\"experience\" + 0.010*\"love\" + 0.009*\"breakfast\" + 0.009*\"solo\" + 0.009*\"perfect\" + 0.009*\"comfortable\" + 0.009*\"another\" + 0.009*\"food\" + 0.008*\"convenient\" + 0.008*\"first\" + 0.008*\"helpful\"\n",
      "\n",
      "Topic #4:\n",
      "==========\n",
      "0.018*\"singapore\" + 0.017*\"really\" + 0.013*\"water\" + 0.013*\"quite\" + 0.012*\"overall\" + 0.011*\"friendly\" + 0.011*\"helpful\" + 0.011*\"breakfast\" + 0.011*\"food\" + 0.010*\"sleep\" + 0.009*\"lot\" + 0.009*\"shower\" + 0.009*\"station\" + 0.009*\"many\" + 0.009*\"bathroom\" + 0.008*\"big\" + 0.008*\"enough\" + 0.008*\"toilet\" + 0.008*\"recommend\" + 0.007*\"comfortable\"\n",
      "\n",
      "--------------------------------------------------\n",
      "\n",
      "MODEL: LDA - NUMBER OF TOPICS: 5\n"
     ]
    },
    {
     "name": "stderr",
     "output_type": "stream",
     "text": [
      " 44%|█████████████████████████████████████▎                                              | 4/9 [00:19<00:23,  4.77s/it]"
     ]
    },
    {
     "name": "stdout",
     "output_type": "stream",
     "text": [
      "Topic #1:\n",
      "==========\n",
      "0.025*\"great\" + 0.019*\"breakfast\" + 0.015*\"service\" + 0.013*\"lot\" + 0.013*\"provide\" + 0.013*\"friendly\" + 0.011*\"food\" + 0.011*\"work\" + 0.011*\"quite\" + 0.011*\"station\" + 0.010*\"comfortable\" + 0.008*\"excellent\" + 0.008*\"luggage\" + 0.007*\"use\" + 0.007*\"city\" + 0.007*\"much\" + 0.007*\"help\" + 0.007*\"smell\" + 0.007*\"water\" + 0.007*\"walk\"\n",
      "\n",
      "Topic #2:\n",
      "==========\n",
      "0.018*\"breakfast\" + 0.017*\"comfortable\" + 0.017*\"great\" + 0.015*\"price\" + 0.015*\"station\" + 0.015*\"mind\" + 0.014*\"walk\" + 0.014*\"bathroom\" + 0.013*\"love\" + 0.012*\"spacious\" + 0.012*\"toilet\" + 0.010*\"perfect\" + 0.010*\"water\" + 0.009*\"shower\" + 0.009*\"helpful\" + 0.009*\"close\" + 0.009*\"value_money\" + 0.009*\"use\" + 0.008*\"singapore\" + 0.008*\"everything\"\n",
      "\n",
      "Topic #3:\n",
      "==========\n",
      "0.034*\"great\" + 0.020*\"helpful\" + 0.019*\"singapore\" + 0.018*\"really\" + 0.015*\"overall\" + 0.015*\"service\" + 0.015*\"food\" + 0.014*\"friendly\" + 0.013*\"restaurant\" + 0.012*\"city\" + 0.011*\"many\" + 0.010*\"experience\" + 0.010*\"convenient\" + 0.010*\"comfortable\" + 0.010*\"love\" + 0.010*\"definitely\" + 0.010*\"view\" + 0.009*\"recommend\" + 0.009*\"station\" + 0.008*\"breakfast\"\n",
      "\n",
      "Topic #4:\n",
      "==========\n",
      "0.041*\"friendly\" + 0.037*\"station\" + 0.022*\"facility\" + 0.019*\"helpful\" + 0.018*\"food\" + 0.017*\"great\" + 0.017*\"close\" + 0.015*\"water\" + 0.014*\"singapore\" + 0.012*\"shower\" + 0.011*\"many\" + 0.011*\"bathroom\" + 0.011*\"bus\" + 0.010*\"walk\" + 0.009*\"price\" + 0.009*\"excellent\" + 0.009*\"distance\" + 0.009*\"really\" + 0.008*\"view\" + 0.008*\"walk_distance\"\n",
      "\n",
      "Topic #5:\n",
      "==========\n",
      "0.021*\"everything\" + 0.016*\"great\" + 0.013*\"sleep\" + 0.011*\"recommend\" + 0.011*\"convenient\" + 0.011*\"however\" + 0.011*\"look\" + 0.010*\"still\" + 0.010*\"boris\" + 0.009*\"service\" + 0.009*\"toilet\" + 0.009*\"find\" + 0.008*\"locate\" + 0.008*\"facility\" + 0.008*\"next\" + 0.008*\"water\" + 0.008*\"price\" + 0.008*\"shower\" + 0.008*\"free\" + 0.008*\"food\"\n",
      "\n",
      "--------------------------------------------------\n",
      "\n",
      "MODEL: LDA - NUMBER OF TOPICS: 6\n"
     ]
    },
    {
     "name": "stderr",
     "output_type": "stream",
     "text": [
      " 56%|██████████████████████████████████████████████▋                                     | 5/9 [00:23<00:18,  4.65s/it]"
     ]
    },
    {
     "name": "stdout",
     "output_type": "stream",
     "text": [
      "Topic #1:\n",
      "==========\n",
      "0.030*\"water\" + 0.018*\"station\" + 0.015*\"singapore\" + 0.014*\"close\" + 0.013*\"food\" + 0.013*\"great\" + 0.012*\"lot\" + 0.011*\"shower\" + 0.011*\"bus_stop\" + 0.011*\"away\" + 0.010*\"restaurant\" + 0.009*\"okay\" + 0.009*\"enough\" + 0.009*\"locate\" + 0.008*\"big\" + 0.008*\"city\" + 0.008*\"many\" + 0.008*\"find\" + 0.008*\"quiet\" + 0.008*\"comfortable\"\n",
      "\n",
      "Topic #2:\n",
      "==========\n",
      "0.025*\"great\" + 0.018*\"love\" + 0.018*\"facility\" + 0.016*\"pool\" + 0.016*\"price\" + 0.014*\"perfect\" + 0.014*\"restaurant\" + 0.014*\"bathroom\" + 0.014*\"everything\" + 0.013*\"service\" + 0.012*\"excellent\" + 0.011*\"view\" + 0.010*\"work\" + 0.010*\"sleep\" + 0.010*\"really\" + 0.010*\"family\" + 0.009*\"experience\" + 0.009*\"singapore\" + 0.009*\"overall\" + 0.009*\"comfortable\"\n",
      "\n",
      "Topic #3:\n",
      "==========\n",
      "0.032*\"great\" + 0.025*\"comfortable\" + 0.018*\"helpful\" + 0.018*\"spacious\" + 0.016*\"really\" + 0.016*\"value_money\" + 0.015*\"recommend\" + 0.012*\"food\" + 0.010*\"size\" + 0.010*\"big\" + 0.010*\"short\" + 0.010*\"convenient\" + 0.010*\"bathroom\" + 0.009*\"super\" + 0.009*\"singapore\" + 0.009*\"enough\" + 0.009*\"provide\" + 0.009*\"window\" + 0.009*\"toilet\" + 0.009*\"friendly\"\n",
      "\n",
      "Topic #4:\n",
      "==========\n",
      "0.036*\"great\" + 0.028*\"breakfast\" + 0.020*\"friendly\" + 0.014*\"singapore\" + 0.014*\"helpful\" + 0.011*\"facility\" + 0.011*\"pool\" + 0.010*\"use\" + 0.009*\"much\" + 0.009*\"toilet\" + 0.009*\"price\" + 0.009*\"still\" + 0.009*\"thank\" + 0.008*\"expect\" + 0.008*\"free\" + 0.008*\"experience\" + 0.008*\"provide\" + 0.008*\"definitely\" + 0.007*\"lot\" + 0.007*\"many\"\n",
      "\n",
      "Topic #5:\n",
      "==========\n",
      "0.038*\"station\" + 0.028*\"friendly\" + 0.023*\"food\" + 0.021*\"helpful\" + 0.016*\"great\" + 0.016*\"ok\" + 0.014*\"close\" + 0.013*\"breakfast\" + 0.013*\"convenient\" + 0.012*\"bus\" + 0.012*\"walk_distance\" + 0.011*\"service\" + 0.011*\"everything\" + 0.010*\"price\" + 0.010*\"walk\" + 0.009*\"really\" + 0.009*\"quite\" + 0.008*\"love\" + 0.008*\"comfortable\" + 0.008*\"shower\"\n",
      "\n",
      "Topic #6:\n",
      "==========\n",
      "0.021*\"service\" + 0.020*\"friendly\" + 0.019*\"station\" + 0.016*\"walk\" + 0.015*\"mind\" + 0.013*\"provide\" + 0.013*\"food\" + 0.012*\"really\" + 0.011*\"great\" + 0.010*\"breakfast\" + 0.009*\"visit\" + 0.009*\"bus\" + 0.008*\"water\" + 0.008*\"helpful\" + 0.008*\"definitely\" + 0.008*\"lot\" + 0.008*\"spacious\" + 0.008*\"new\" + 0.007*\"towel\" + 0.007*\"comfortable\"\n",
      "\n",
      "--------------------------------------------------\n",
      "\n",
      "MODEL: LDA - NUMBER OF TOPICS: 7\n"
     ]
    },
    {
     "name": "stderr",
     "output_type": "stream",
     "text": [
      " 67%|████████████████████████████████████████████████████████                            | 6/9 [00:28<00:13,  4.59s/it]"
     ]
    },
    {
     "name": "stdout",
     "output_type": "stream",
     "text": [
      "Topic #1:\n",
      "==========\n",
      "0.018*\"shower\" + 0.016*\"station\" + 0.016*\"price\" + 0.015*\"great\" + 0.014*\"singapore\" + 0.012*\"window\" + 0.012*\"water\" + 0.011*\"amazing\" + 0.011*\"bathroom\" + 0.011*\"definitely\" + 0.010*\"perfect\" + 0.010*\"experience\" + 0.010*\"everything\" + 0.010*\"view\" + 0.010*\"bay\" + 0.010*\"accommodation\" + 0.009*\"overall\" + 0.009*\"close\" + 0.009*\"old\" + 0.009*\"friendly\"\n",
      "\n",
      "Topic #2:\n",
      "==========\n",
      "0.036*\"breakfast\" + 0.031*\"great\" + 0.024*\"helpful\" + 0.017*\"friendly\" + 0.015*\"overall\" + 0.014*\"many\" + 0.012*\"restaurant\" + 0.011*\"excellent\" + 0.011*\"comfortable\" + 0.011*\"station\" + 0.011*\"love\" + 0.011*\"pool\" + 0.010*\"food\" + 0.009*\"away\" + 0.009*\"singapore\" + 0.009*\"perfect\" + 0.009*\"experience\" + 0.009*\"thank\" + 0.009*\"facility\" + 0.009*\"quite\"\n",
      "\n",
      "Topic #3:\n",
      "==========\n",
      "0.047*\"great\" + 0.023*\"friendly\" + 0.018*\"convenient\" + 0.017*\"service\" + 0.016*\"provide\" + 0.015*\"helpful\" + 0.013*\"comfortable\" + 0.013*\"breakfast\" + 0.013*\"food\" + 0.012*\"recommend\" + 0.012*\"singapore\" + 0.011*\"toilet\" + 0.010*\"love\" + 0.009*\"water\" + 0.009*\"facility\" + 0.009*\"everything\" + 0.009*\"close\" + 0.008*\"station\" + 0.008*\"bathroom\" + 0.007*\"use\"\n",
      "\n",
      "Topic #4:\n",
      "==========\n",
      "0.024*\"really\" + 0.014*\"bathroom\" + 0.013*\"call\" + 0.012*\"work\" + 0.012*\"great\" + 0.012*\"friendly\" + 0.012*\"reception\" + 0.011*\"service\" + 0.011*\"first\" + 0.010*\"another\" + 0.010*\"front_desk\" + 0.009*\"provide\" + 0.009*\"walk\" + 0.009*\"overall\" + 0.009*\"change\" + 0.008*\"comfortable\" + 0.008*\"want\" + 0.008*\"find\" + 0.008*\"request\" + 0.008*\"wait\"\n",
      "\n",
      "Topic #5:\n",
      "==========\n",
      "0.023*\"station\" + 0.020*\"close\" + 0.020*\"food\" + 0.018*\"everything\" + 0.014*\"walk_distance\" + 0.014*\"locate\" + 0.013*\"friendly\" + 0.012*\"however\" + 0.012*\"many\" + 0.012*\"value_money\" + 0.011*\"really\" + 0.011*\"singapore\" + 0.010*\"quite\" + 0.010*\"pleasant\" + 0.010*\"lovely\" + 0.009*\"little\" + 0.009*\"open\" + 0.009*\"overall\" + 0.009*\"luggage\" + 0.009*\"across\"\n",
      "\n",
      "Topic #6:\n",
      "==========\n",
      "0.041*\"station\" + 0.025*\"mind\" + 0.022*\"walk\" + 0.018*\"water\" + 0.018*\"food\" + 0.017*\"lot\" + 0.016*\"price\" + 0.015*\"bus\" + 0.014*\"restaurant\" + 0.013*\"friendly\" + 0.012*\"ok\" + 0.012*\"big\" + 0.011*\"space\" + 0.009*\"basic\" + 0.009*\"convenient\" + 0.008*\"really\" + 0.008*\"boris\" + 0.008*\"enough\" + 0.007*\"free\" + 0.007*\"service\"\n",
      "\n",
      "Topic #7:\n",
      "==========\n",
      "0.024*\"sleep\" + 0.019*\"comfortable\" + 0.018*\"spacious\" + 0.018*\"singapore\" + 0.015*\"facility\" + 0.014*\"city\" + 0.014*\"helpful\" + 0.013*\"okay\" + 0.011*\"short\" + 0.010*\"friendly\" + 0.009*\"n\" + 0.009*\"strategic\" + 0.009*\"noise\" + 0.009*\"reception\" + 0.009*\"station\" + 0.009*\"travel\" + 0.008*\"orchard\" + 0.008*\"wall\" + 0.008*\"family\" + 0.008*\"feel\"\n",
      "\n",
      "--------------------------------------------------\n",
      "\n",
      "MODEL: LDA - NUMBER OF TOPICS: 8\n"
     ]
    },
    {
     "name": "stderr",
     "output_type": "stream",
     "text": [
      " 78%|█████████████████████████████████████████████████████████████████▎                  | 7/9 [00:32<00:09,  4.51s/it]"
     ]
    },
    {
     "name": "stdout",
     "output_type": "stream",
     "text": [
      "Topic #1:\n",
      "==========\n",
      "0.037*\"great\" + 0.028*\"service\" + 0.017*\"helpful\" + 0.017*\"experience\" + 0.013*\"food\" + 0.013*\"smell\" + 0.013*\"friendly\" + 0.013*\"pool\" + 0.012*\"station\" + 0.012*\"breakfast\" + 0.011*\"thank\" + 0.010*\"change\" + 0.009*\"price\" + 0.009*\"side\" + 0.009*\"many\" + 0.009*\"restaurant\" + 0.009*\"view\" + 0.008*\"however\" + 0.008*\"much\" + 0.008*\"excellent\"\n",
      "\n",
      "Topic #2:\n",
      "==========\n",
      "0.035*\"great\" + 0.028*\"everything\" + 0.015*\"food\" + 0.014*\"pool\" + 0.012*\"love\" + 0.012*\"big\" + 0.011*\"singapore\" + 0.011*\"price\" + 0.010*\"use\" + 0.010*\"toilet\" + 0.010*\"thing\" + 0.010*\"perfect\" + 0.009*\"spacious\" + 0.009*\"bathroom\" + 0.009*\"grm\" + 0.008*\"really\" + 0.008*\"cheap\" + 0.008*\"street\" + 0.008*\"helpful\" + 0.007*\"capsule\"\n",
      "\n",
      "Topic #3:\n",
      "==========\n",
      "0.042*\"great\" + 0.036*\"breakfast\" + 0.031*\"friendly\" + 0.025*\"water\" + 0.018*\"love\" + 0.017*\"lot\" + 0.016*\"value_money\" + 0.015*\"provide\" + 0.014*\"really\" + 0.013*\"comfortable\" + 0.012*\"accommodation\" + 0.012*\"food\" + 0.010*\"look\" + 0.010*\"feel\" + 0.010*\"shower\" + 0.010*\"use\" + 0.010*\"pool\" + 0.009*\"amazing\" + 0.009*\"singapore\" + 0.008*\"overall\"\n",
      "\n",
      "Topic #4:\n",
      "==========\n",
      "0.032*\"friendly\" + 0.022*\"helpful\" + 0.021*\"city\" + 0.020*\"excellent\" + 0.017*\"singapore\" + 0.016*\"price\" + 0.015*\"service\" + 0.014*\"sleep\" + 0.014*\"comfortable\" + 0.013*\"walk_distance\" + 0.013*\"visit\" + 0.012*\"much\" + 0.012*\"overall\" + 0.011*\"food\" + 0.011*\"airport\" + 0.010*\"really\" + 0.010*\"great\" + 0.010*\"breakfast\" + 0.009*\"walk\" + 0.009*\"station\"\n",
      "\n",
      "Topic #5:\n",
      "==========\n",
      "0.036*\"station\" + 0.022*\"great\" + 0.021*\"close\" + 0.015*\"comfortable\" + 0.015*\"really\" + 0.015*\"water\" + 0.014*\"food\" + 0.014*\"facility\" + 0.013*\"many\" + 0.012*\"mind\" + 0.012*\"walk\" + 0.010*\"restaurant\" + 0.009*\"price\" + 0.008*\"breakfast\" + 0.008*\"provide\" + 0.008*\"old\" + 0.008*\"work\" + 0.008*\"two\" + 0.007*\"helpful\" + 0.007*\"bus\"\n",
      "\n",
      "Topic #6:\n",
      "==========\n",
      "0.021*\"bathroom\" + 0.019*\"provide\" + 0.018*\"walk\" + 0.016*\"convenient\" + 0.016*\"helpful\" + 0.016*\"friendly\" + 0.015*\"singapore\" + 0.015*\"work\" + 0.013*\"spacious\" + 0.013*\"perfect\" + 0.012*\"every\" + 0.011*\"free\" + 0.011*\"mind\" + 0.011*\"toilet\" + 0.011*\"shop\" + 0.011*\"call\" + 0.010*\"find\" + 0.010*\"quite\" + 0.009*\"upgrade\" + 0.009*\"station\"\n",
      "\n",
      "Topic #7:\n",
      "==========\n",
      "0.017*\"station\" + 0.017*\"breakfast\" + 0.017*\"great\" + 0.014*\"big\" + 0.013*\"friendly\" + 0.013*\"view\" + 0.011*\"center\" + 0.010*\"chinatown\" + 0.010*\"city\" + 0.010*\"convenient\" + 0.010*\"helpful\" + 0.009*\"singapore\" + 0.009*\"short\" + 0.009*\"next\" + 0.008*\"food\" + 0.008*\"use\" + 0.008*\"little\" + 0.008*\"away\" + 0.008*\"wait\" + 0.007*\"lot\"\n",
      "\n",
      "Topic #8:\n",
      "==========\n",
      "0.021*\"station\" + 0.020*\"singapore\" + 0.016*\"locate\" + 0.015*\"friendly\" + 0.015*\"convenient\" + 0.015*\"comfortable\" + 0.014*\"recommend\" + 0.013*\"price\" + 0.012*\"shower\" + 0.012*\"bus\" + 0.012*\"reception\" + 0.012*\"enough\" + 0.011*\"toilet\" + 0.010*\"accessible\" + 0.010*\"close\" + 0.010*\"ok\" + 0.010*\"quite\" + 0.009*\"breakfast\" + 0.009*\"facility\" + 0.009*\"walk_distance\"\n",
      "\n",
      "--------------------------------------------------\n",
      "\n",
      "MODEL: LDA - NUMBER OF TOPICS: 9\n"
     ]
    },
    {
     "name": "stderr",
     "output_type": "stream",
     "text": [
      " 89%|██████████████████████████████████████████████████████████████████████████▋         | 8/9 [00:37<00:04,  4.49s/it]"
     ]
    },
    {
     "name": "stdout",
     "output_type": "stream",
     "text": [
      "Topic #1:\n",
      "==========\n",
      "0.050*\"great\" + 0.022*\"breakfast\" + 0.015*\"bathroom\" + 0.014*\"friendly\" + 0.013*\"use\" + 0.012*\"walk\" + 0.012*\"toilet\" + 0.011*\"comfortable\" + 0.010*\"food\" + 0.010*\"station\" + 0.010*\"size\" + 0.010*\"next\" + 0.009*\"really\" + 0.009*\"bus\" + 0.009*\"sleep\" + 0.009*\"price\" + 0.009*\"definitely\" + 0.009*\"lovely\" + 0.009*\"see\" + 0.008*\"helpful\"\n",
      "\n",
      "Topic #2:\n",
      "==========\n",
      "0.035*\"service\" + 0.026*\"great\" + 0.020*\"friendly\" + 0.020*\"breakfast\" + 0.015*\"helpful\" + 0.014*\"free\" + 0.013*\"really\" + 0.013*\"restaurant\" + 0.013*\"upgrade\" + 0.012*\"love\" + 0.011*\"big\" + 0.010*\"food\" + 0.010*\"much\" + 0.009*\"work\" + 0.009*\"view\" + 0.009*\"easy_access\" + 0.008*\"call\" + 0.008*\"bar\" + 0.008*\"surround\" + 0.008*\"people\"\n",
      "\n",
      "Topic #3:\n",
      "==========\n",
      "0.019*\"comfortable\" + 0.015*\"great\" + 0.015*\"reception\" + 0.014*\"thank\" + 0.012*\"recommend\" + 0.011*\"service\" + 0.011*\"breakfast\" + 0.011*\"old\" + 0.011*\"close\" + 0.011*\"provide\" + 0.011*\"helpful\" + 0.010*\"restaurant\" + 0.009*\"towel\" + 0.009*\"family\" + 0.009*\"toilet\" + 0.009*\"convenient\" + 0.009*\"bathroom\" + 0.009*\"change\" + 0.009*\"spacious\" + 0.008*\"away\"\n",
      "\n",
      "Topic #4:\n",
      "==========\n",
      "0.026*\"everything\" + 0.021*\"station\" + 0.020*\"city\" + 0.019*\"food\" + 0.016*\"really\" + 0.014*\"lot\" + 0.014*\"close\" + 0.013*\"facility\" + 0.013*\"look\" + 0.012*\"price\" + 0.012*\"singapore\" + 0.011*\"big\" + 0.011*\"quite\" + 0.010*\"breakfast\" + 0.010*\"mind\" + 0.009*\"walk_distance\" + 0.009*\"another\" + 0.009*\"convenient\" + 0.008*\"wall\" + 0.008*\"center\"\n",
      "\n",
      "Topic #5:\n",
      "==========\n",
      "0.058*\"friendly\" + 0.032*\"helpful\" + 0.024*\"singapore\" + 0.017*\"close\" + 0.016*\"bathroom\" + 0.014*\"water\" + 0.013*\"convenient\" + 0.012*\"shower\" + 0.012*\"station\" + 0.012*\"restaurant\" + 0.011*\"definitely\" + 0.010*\"always\" + 0.010*\"excellent\" + 0.010*\"food\" + 0.010*\"comfortable\" + 0.009*\"every\" + 0.009*\"many\" + 0.009*\"hot\" + 0.009*\"breakfast\" + 0.009*\"enjoy\"\n",
      "\n",
      "Topic #6:\n",
      "==========\n",
      "0.023*\"great\" + 0.018*\"sleep\" + 0.017*\"lot\" + 0.016*\"facility\" + 0.015*\"everything\" + 0.013*\"shower\" + 0.012*\"easy\" + 0.012*\"overall\" + 0.011*\"quite\" + 0.011*\"money\" + 0.010*\"window\" + 0.010*\"want\" + 0.010*\"n\" + 0.010*\"worth\" + 0.010*\"water\" + 0.010*\"helpful\" + 0.009*\"perfect\" + 0.009*\"recommend\" + 0.009*\"strategic\" + 0.009*\"open\"\n",
      "\n",
      "Topic #7:\n",
      "==========\n",
      "0.040*\"great\" + 0.020*\"water\" + 0.018*\"really\" + 0.018*\"provide\" + 0.016*\"food\" + 0.015*\"budget\" + 0.011*\"friendly\" + 0.011*\"breakfast\" + 0.010*\"helpful\" + 0.010*\"love\" + 0.010*\"feel\" + 0.009*\"help\" + 0.009*\"drink\" + 0.008*\"singapore\" + 0.008*\"couple\" + 0.008*\"super\" + 0.007*\"amenity\" + 0.007*\"everything\" + 0.007*\"walk_distance\" + 0.007*\"city\"\n",
      "\n",
      "Topic #8:\n",
      "==========\n",
      "0.054*\"station\" + 0.021*\"bus\" + 0.020*\"walk\" + 0.017*\"mind\" + 0.017*\"food\" + 0.015*\"price\" + 0.014*\"convenient\" + 0.013*\"restaurant\" + 0.013*\"smell\" + 0.012*\"boris\" + 0.012*\"perfect\" + 0.011*\"close\" + 0.011*\"water\" + 0.010*\"short\" + 0.010*\"find\" + 0.010*\"toilet\" + 0.009*\"service\" + 0.009*\"far\" + 0.009*\"many\" + 0.009*\"store\"\n",
      "\n",
      "Topic #9:\n",
      "==========\n",
      "0.023*\"great\" + 0.019*\"experience\" + 0.018*\"singapore\" + 0.018*\"pool\" + 0.018*\"spacious\" + 0.017*\"love\" + 0.015*\"view\" + 0.014*\"station\" + 0.014*\"breakfast\" + 0.013*\"ok\" + 0.012*\"friendly\" + 0.011*\"wonderful\" + 0.011*\"service\" + 0.011*\"comfortable\" + 0.011*\"enjoy\" + 0.010*\"convenient\" + 0.010*\"overall\" + 0.010*\"facility\" + 0.010*\"grm\" + 0.009*\"find\"\n",
      "\n",
      "--------------------------------------------------\n",
      "\n",
      "MODEL: LDA - NUMBER OF TOPICS: 10\n"
     ]
    },
    {
     "name": "stderr",
     "output_type": "stream",
     "text": [
      "100%|████████████████████████████████████████████████████████████████████████████████████| 9/9 [00:41<00:00,  4.60s/it]"
     ]
    },
    {
     "name": "stdout",
     "output_type": "stream",
     "text": [
      "Topic #1:\n",
      "==========\n",
      "0.021*\"provide\" + 0.021*\"mind\" + 0.018*\"breakfast\" + 0.018*\"great\" + 0.017*\"quite\" + 0.014*\"cleanliness\" + 0.014*\"convenient\" + 0.014*\"lot\" + 0.013*\"walk\" + 0.013*\"sleep\" + 0.013*\"close\" + 0.013*\"improve\" + 0.013*\"however\" + 0.012*\"water\" + 0.012*\"use\" + 0.012*\"work\" + 0.011*\"station\" + 0.010*\"line\" + 0.010*\"price\" + 0.009*\"recommend\"\n",
      "\n",
      "Topic #2:\n",
      "==========\n",
      "0.039*\"shower\" + 0.037*\"bathroom\" + 0.026*\"toilet\" + 0.021*\"water\" + 0.017*\"lot\" + 0.012*\"city\" + 0.012*\"easy\" + 0.012*\"great\" + 0.011*\"space\" + 0.011*\"noise\" + 0.011*\"right\" + 0.010*\"basic\" + 0.010*\"super\" + 0.010*\"smell\" + 0.009*\"share\" + 0.009*\"really\" + 0.009*\"feel\" + 0.009*\"boris\" + 0.009*\"outside\" + 0.009*\"build\"\n",
      "\n",
      "Topic #3:\n",
      "==========\n",
      "0.048*\"great\" + 0.021*\"friendly\" + 0.020*\"facility\" + 0.016*\"station\" + 0.015*\"helpful\" + 0.013*\"breakfast\" + 0.013*\"food\" + 0.013*\"walk\" + 0.012*\"easy\" + 0.012*\"comfortable\" + 0.011*\"value_money\" + 0.011*\"overall\" + 0.011*\"look\" + 0.011*\"experience\" + 0.010*\"accommodation\" + 0.010*\"find\" + 0.009*\"little\" + 0.009*\"singapore\" + 0.009*\"traveler\" + 0.008*\"however\"\n",
      "\n",
      "Topic #4:\n",
      "==========\n",
      "0.035*\"everything\" + 0.033*\"friendly\" + 0.032*\"great\" + 0.022*\"spacious\" + 0.021*\"value_money\" + 0.020*\"pool\" + 0.017*\"excellent\" + 0.016*\"helpful\" + 0.015*\"food\" + 0.014*\"amazing\" + 0.013*\"definitely\" + 0.012*\"perfect\" + 0.012*\"big\" + 0.011*\"station\" + 0.011*\"lovely\" + 0.010*\"family\" + 0.010*\"restaurant\" + 0.010*\"far\" + 0.009*\"short\" + 0.009*\"pleasant\"\n",
      "\n",
      "Topic #5:\n",
      "==========\n",
      "0.033*\"great\" + 0.023*\"service\" + 0.016*\"really\" + 0.014*\"reception\" + 0.011*\"helpful\" + 0.011*\"water\" + 0.011*\"food\" + 0.011*\"friendly\" + 0.010*\"close\" + 0.010*\"facility\" + 0.010*\"bathroom\" + 0.010*\"experience\" + 0.009*\"station\" + 0.009*\"many\" + 0.009*\"still\" + 0.009*\"leave\" + 0.008*\"thing\" + 0.008*\"thank\" + 0.007*\"price\" + 0.007*\"issue\"\n",
      "\n",
      "Topic #6:\n",
      "==========\n",
      "0.036*\"friendly\" + 0.031*\"helpful\" + 0.022*\"breakfast\" + 0.021*\"view\" + 0.019*\"station\" + 0.019*\"great\" + 0.014*\"city\" + 0.014*\"overall\" + 0.013*\"perfect\" + 0.013*\"service\" + 0.013*\"water\" + 0.012*\"price\" + 0.012*\"close\" + 0.012*\"definitely\" + 0.012*\"free\" + 0.010*\"locate\" + 0.010*\"really\" + 0.010*\"excellent\" + 0.009*\"food\" + 0.009*\"bathroom\"\n",
      "\n",
      "Topic #7:\n",
      "==========\n",
      "0.022*\"really\" + 0.021*\"great\" + 0.018*\"window\" + 0.013*\"overall\" + 0.012*\"shower\" + 0.012*\"love\" + 0.011*\"quite\" + 0.010*\"without\" + 0.009*\"see\" + 0.009*\"away\" + 0.009*\"call\" + 0.009*\"close\" + 0.008*\"couple\" + 0.008*\"sleep\" + 0.008*\"everything\" + 0.008*\"help\" + 0.008*\"station\" + 0.007*\"another\" + 0.007*\"customer\" + 0.007*\"birthday\"\n",
      "\n",
      "Topic #8:\n",
      "==========\n",
      "0.034*\"comfortable\" + 0.020*\"food\" + 0.018*\"station\" + 0.017*\"singapore\" + 0.015*\"friendly\" + 0.015*\"helpful\" + 0.012*\"breakfast\" + 0.012*\"much\" + 0.011*\"pool\" + 0.011*\"lot\" + 0.009*\"provide\" + 0.009*\"though\" + 0.009*\"mind\" + 0.009*\"walk_distance\" + 0.009*\"water\" + 0.008*\"convenient\" + 0.008*\"restaurant\" + 0.008*\"quite\" + 0.008*\"walk\" + 0.008*\"look\"\n",
      "\n",
      "Topic #9:\n",
      "==========\n",
      "0.026*\"price\" + 0.026*\"singapore\" + 0.021*\"service\" + 0.020*\"station\" + 0.019*\"walk\" + 0.017*\"ok\" + 0.014*\"convenient\" + 0.013*\"breakfast\" + 0.013*\"recommend\" + 0.012*\"food\" + 0.012*\"friendly\" + 0.012*\"really\" + 0.012*\"luggage\" + 0.012*\"old\" + 0.011*\"great\" + 0.011*\"cheap\" + 0.010*\"high\" + 0.010*\"space\" + 0.009*\"use\" + 0.008*\"city\"\n",
      "\n",
      "Topic #10:\n",
      "==========\n",
      "0.030*\"great\" + 0.027*\"station\" + 0.021*\"bus\" + 0.017*\"breakfast\" + 0.017*\"amenity\" + 0.013*\"friendly\" + 0.013*\"many\" + 0.013*\"singapore\" + 0.013*\"food\" + 0.012*\"visit\" + 0.011*\"comfortable\" + 0.011*\"want\" + 0.011*\"restaurant\" + 0.011*\"budget\" + 0.010*\"overall\" + 0.010*\"provide\" + 0.010*\"love\" + 0.010*\"family\" + 0.010*\"recommend\" + 0.010*\"experience\"\n",
      "\n",
      "--------------------------------------------------\n",
      "  Model Name  Number of Topics  Coherence Score df_name\n",
      "0        LDA                 2         0.552269  df_pos\n",
      "1        LDA                 3         0.535224  df_pos\n",
      "2        LDA                 4         0.518203  df_pos\n",
      "3        LDA                 5         0.512665  df_pos\n",
      "4        LDA                 6         0.521893  df_pos\n",
      "5        LDA                 7         0.502221  df_pos\n",
      "6        LDA                 8         0.495540  df_pos\n",
      "7        LDA                 9         0.491394  df_pos\n",
      "8        LDA                10         0.506830  df_pos\n"
     ]
    },
    {
     "name": "stderr",
     "output_type": "stream",
     "text": [
      "\n"
     ]
    },
    {
     "data": {
      "image/png": "[encoded data removed]",
      "text/plain": [
       "<Figure size 1500x1200 with 1 Axes>"
      ]
     },
     "metadata": {},
     "output_type": "display_data"
    },
    {
     "data": {
      "image/png": "[encoded data removed]",
      "text/plain": [
       "<Figure size 1500x1200 with 1 Axes>"
      ]
     },
     "metadata": {},
     "output_type": "display_data"
    },
    {
     "name": "stdout",
     "output_type": "stream",
     "text": [
      "\n",
      "DF NAME: df_neg\n",
      "\n"
     ]
    },
    {
     "name": "stderr",
     "output_type": "stream",
     "text": [
      "  0%|                                                                                            | 0/9 [00:00<?, ?it/s]"
     ]
    },
    {
     "name": "stdout",
     "output_type": "stream",
     "text": [
      "\n",
      "MODEL: LSI - NUMBER OF TOPICS: 2\n"
     ]
    },
    {
     "name": "stderr",
     "output_type": "stream",
     "text": [
      " 11%|█████████▎                                                                          | 1/9 [00:04<00:38,  4.78s/it]"
     ]
    },
    {
     "name": "stdout",
     "output_type": "stream",
     "text": [
      "Topic #1:\n",
      "==========\n",
      "0.290*\"service\" + 0.233*\"water\" + 0.207*\"change\" + 0.205*\"reception\" + 0.199*\"dirty\" + 0.186*\"smell\" + 0.177*\"look\" + 0.171*\"breakfast\" + 0.170*\"toilet\" + 0.157*\"towel\" + 0.149*\"bathroom\" + 0.146*\"pay\" + 0.140*\"shower\" + 0.133*\"call\" + 0.132*\"old\" + 0.132*\"singapore\" + 0.129*\"find\" + 0.127*\"request\" + 0.125*\"front\" + 0.120*\"price\"\n",
      "\n",
      "Topic #2:\n",
      "==========\n",
      "-0.430*\"smell\" + 0.349*\"service\" + -0.295*\"water\" + -0.294*\"toilet\" + -0.285*\"old\" + 0.230*\"change\" + -0.210*\"shower\" + 0.209*\"pay\" + -0.187*\"bathroom\" + 0.145*\"call\" + 0.136*\"star\" + 0.134*\"dirty\" + 0.129*\"request\" + -0.125*\"thing\" + 0.115*\"breakfast\" + 0.104*\"customer\" + -0.096*\"hot\" + 0.095*\"wait\" + 0.092*\"reception\" + -0.087*\"work\"\n",
      "\n",
      "--------------------------------------------------\n",
      "\n",
      "MODEL: LSI - NUMBER OF TOPICS: 3\n"
     ]
    },
    {
     "name": "stderr",
     "output_type": "stream",
     "text": [
      " 22%|██████████████████▋                                                                 | 2/9 [00:09<00:33,  4.74s/it]"
     ]
    },
    {
     "name": "stdout",
     "output_type": "stream",
     "text": [
      "Topic #1:\n",
      "==========\n",
      "0.290*\"service\" + 0.233*\"water\" + 0.207*\"change\" + 0.205*\"reception\" + 0.199*\"dirty\" + 0.186*\"smell\" + 0.177*\"look\" + 0.171*\"breakfast\" + 0.170*\"toilet\" + 0.157*\"towel\" + 0.149*\"bathroom\" + 0.146*\"pay\" + 0.140*\"shower\" + 0.133*\"call\" + 0.132*\"old\" + 0.132*\"singapore\" + 0.129*\"find\" + 0.127*\"request\" + 0.125*\"front\" + 0.120*\"price\"\n",
      "\n",
      "Topic #2:\n",
      "==========\n",
      "0.430*\"smell\" + -0.349*\"service\" + 0.295*\"water\" + 0.294*\"toilet\" + 0.285*\"old\" + -0.230*\"change\" + 0.210*\"shower\" + -0.209*\"pay\" + 0.187*\"bathroom\" + -0.145*\"call\" + -0.136*\"star\" + -0.134*\"dirty\" + -0.129*\"request\" + 0.125*\"thing\" + -0.115*\"breakfast\" + -0.104*\"customer\" + 0.096*\"hot\" + -0.095*\"wait\" + -0.092*\"reception\" + 0.087*\"work\"\n",
      "\n",
      "Topic #3:\n",
      "==========\n",
      "-0.465*\"breakfast\" + 0.393*\"dirty\" + 0.332*\"towel\" + 0.294*\"change\" + -0.275*\"pay\" + -0.192*\"front\" + -0.171*\"call\" + -0.158*\"smell\" + -0.135*\"already\" + -0.134*\"tell\" + 0.134*\"charge\" + -0.117*\"price\" + 0.108*\"water\" + -0.107*\"old\" + -0.107*\"wait\" + 0.105*\"shower\" + -0.102*\"food\" + -0.102*\"try\" + 0.098*\"request\" + 0.085*\"stain\"\n",
      "\n",
      "--------------------------------------------------\n",
      "\n",
      "MODEL: LSI - NUMBER OF TOPICS: 4\n"
     ]
    },
    {
     "name": "stderr",
     "output_type": "stream",
     "text": [
      " 33%|████████████████████████████                                                        | 3/9 [00:14<00:28,  4.79s/it]"
     ]
    },
    {
     "name": "stdout",
     "output_type": "stream",
     "text": [
      "Topic #1:\n",
      "==========\n",
      "0.290*\"service\" + 0.233*\"water\" + 0.207*\"change\" + 0.205*\"reception\" + 0.199*\"dirty\" + 0.186*\"smell\" + 0.177*\"look\" + 0.171*\"breakfast\" + 0.170*\"toilet\" + 0.157*\"towel\" + 0.149*\"bathroom\" + 0.146*\"pay\" + 0.140*\"shower\" + 0.133*\"call\" + 0.132*\"old\" + 0.132*\"singapore\" + 0.129*\"find\" + 0.127*\"request\" + 0.125*\"front\" + 0.120*\"price\"\n",
      "\n",
      "Topic #2:\n",
      "==========\n",
      "-0.430*\"smell\" + 0.349*\"service\" + -0.295*\"water\" + -0.294*\"toilet\" + -0.285*\"old\" + 0.230*\"change\" + -0.210*\"shower\" + 0.209*\"pay\" + -0.187*\"bathroom\" + 0.145*\"call\" + 0.136*\"star\" + 0.134*\"dirty\" + 0.129*\"request\" + -0.125*\"thing\" + 0.115*\"breakfast\" + 0.104*\"customer\" + -0.096*\"hot\" + 0.095*\"wait\" + 0.092*\"reception\" + -0.087*\"work\"\n",
      "\n",
      "Topic #3:\n",
      "==========\n",
      "0.465*\"breakfast\" + -0.393*\"dirty\" + -0.332*\"towel\" + -0.294*\"change\" + 0.275*\"pay\" + 0.192*\"front\" + 0.171*\"call\" + 0.158*\"smell\" + 0.135*\"already\" + 0.134*\"tell\" + -0.134*\"charge\" + 0.117*\"price\" + -0.108*\"water\" + 0.107*\"old\" + 0.107*\"wait\" + -0.105*\"shower\" + 0.102*\"food\" + 0.102*\"try\" + -0.098*\"request\" + -0.085*\"stain\"\n",
      "\n",
      "Topic #4:\n",
      "==========\n",
      "-0.435*\"service\" + 0.321*\"towel\" + -0.313*\"smell\" + -0.297*\"change\" + 0.220*\"star\" + 0.207*\"food\" + 0.207*\"charge\" + 0.205*\"reception\" + 0.175*\"facility\" + 0.164*\"breakfast\" + 0.151*\"thing\" + 0.143*\"never\" + 0.141*\"pool\" + 0.139*\"use\" + -0.135*\"customer\" + 0.132*\"put\" + 0.124*\"light\" + -0.098*\"wait\" + 0.097*\"another\" + -0.093*\"front\"\n",
      "\n",
      "--------------------------------------------------\n",
      "\n",
      "MODEL: LSI - NUMBER OF TOPICS: 5\n"
     ]
    },
    {
     "name": "stderr",
     "output_type": "stream",
     "text": [
      " 44%|█████████████████████████████████████▎                                              | 4/9 [00:19<00:24,  4.94s/it]"
     ]
    },
    {
     "name": "stdout",
     "output_type": "stream",
     "text": [
      "Topic #1:\n",
      "==========\n",
      "0.290*\"service\" + 0.233*\"water\" + 0.207*\"change\" + 0.205*\"reception\" + 0.199*\"dirty\" + 0.186*\"smell\" + 0.177*\"look\" + 0.171*\"breakfast\" + 0.170*\"toilet\" + 0.157*\"towel\" + 0.149*\"bathroom\" + 0.146*\"pay\" + 0.140*\"shower\" + 0.133*\"call\" + 0.132*\"old\" + 0.132*\"singapore\" + 0.129*\"find\" + 0.127*\"request\" + 0.125*\"front\" + 0.120*\"price\"\n",
      "\n",
      "Topic #2:\n",
      "==========\n",
      "0.430*\"smell\" + -0.349*\"service\" + 0.295*\"water\" + 0.294*\"toilet\" + 0.285*\"old\" + -0.230*\"change\" + 0.210*\"shower\" + -0.209*\"pay\" + 0.187*\"bathroom\" + -0.145*\"call\" + -0.136*\"star\" + -0.134*\"dirty\" + -0.129*\"request\" + 0.125*\"thing\" + -0.115*\"breakfast\" + -0.104*\"customer\" + 0.096*\"hot\" + -0.095*\"wait\" + -0.092*\"reception\" + 0.087*\"work\"\n",
      "\n",
      "Topic #3:\n",
      "==========\n",
      "-0.465*\"breakfast\" + 0.393*\"dirty\" + 0.332*\"towel\" + 0.294*\"change\" + -0.275*\"pay\" + -0.192*\"front\" + -0.171*\"call\" + -0.158*\"smell\" + -0.135*\"already\" + -0.134*\"tell\" + 0.134*\"charge\" + -0.117*\"price\" + 0.108*\"water\" + -0.107*\"old\" + -0.107*\"wait\" + 0.105*\"shower\" + -0.102*\"food\" + -0.102*\"try\" + 0.098*\"request\" + 0.085*\"stain\"\n",
      "\n",
      "Topic #4:\n",
      "==========\n",
      "-0.435*\"service\" + 0.321*\"towel\" + -0.313*\"smell\" + -0.297*\"change\" + 0.220*\"star\" + 0.207*\"food\" + 0.207*\"charge\" + 0.205*\"reception\" + 0.175*\"facility\" + 0.164*\"breakfast\" + 0.151*\"thing\" + 0.143*\"never\" + 0.141*\"pool\" + 0.139*\"use\" + -0.135*\"customer\" + 0.132*\"put\" + 0.124*\"light\" + -0.098*\"wait\" + 0.097*\"another\" + -0.093*\"front\"\n",
      "\n",
      "Topic #5:\n",
      "==========\n",
      "0.361*\"breakfast\" + 0.300*\"smell\" + 0.290*\"change\" + -0.272*\"reception\" + 0.239*\"star\" + 0.213*\"towel\" + -0.202*\"wait\" + 0.177*\"bathroom\" + -0.167*\"light\" + -0.160*\"front\" + -0.154*\"water\" + -0.150*\"another\" + -0.146*\"mind\" + -0.142*\"thing\" + -0.140*\"toilet\" + 0.139*\"dirty\" + -0.138*\"desk\" + -0.134*\"service\" + -0.134*\"put\" + 0.132*\"pool\"\n",
      "\n",
      "--------------------------------------------------\n",
      "\n",
      "MODEL: LSI - NUMBER OF TOPICS: 6\n"
     ]
    },
    {
     "name": "stderr",
     "output_type": "stream",
     "text": [
      " 56%|██████████████████████████████████████████████▋                                     | 5/9 [00:25<00:21,  5.33s/it]"
     ]
    },
    {
     "name": "stdout",
     "output_type": "stream",
     "text": [
      "Topic #1:\n",
      "==========\n",
      "0.290*\"service\" + 0.233*\"water\" + 0.207*\"change\" + 0.205*\"reception\" + 0.199*\"dirty\" + 0.186*\"smell\" + 0.177*\"look\" + 0.171*\"breakfast\" + 0.170*\"toilet\" + 0.157*\"towel\" + 0.149*\"bathroom\" + 0.146*\"pay\" + 0.140*\"shower\" + 0.133*\"call\" + 0.132*\"old\" + 0.132*\"singapore\" + 0.129*\"find\" + 0.127*\"request\" + 0.125*\"front\" + 0.120*\"price\"\n",
      "\n",
      "Topic #2:\n",
      "==========\n",
      "-0.430*\"smell\" + 0.349*\"service\" + -0.295*\"water\" + -0.294*\"toilet\" + -0.285*\"old\" + 0.230*\"change\" + -0.210*\"shower\" + 0.209*\"pay\" + -0.187*\"bathroom\" + 0.145*\"call\" + 0.136*\"star\" + 0.134*\"dirty\" + 0.129*\"request\" + -0.125*\"thing\" + 0.115*\"breakfast\" + 0.104*\"customer\" + -0.096*\"hot\" + 0.095*\"wait\" + 0.092*\"reception\" + -0.087*\"work\"\n",
      "\n",
      "Topic #3:\n",
      "==========\n",
      "0.465*\"breakfast\" + -0.393*\"dirty\" + -0.332*\"towel\" + -0.294*\"change\" + 0.275*\"pay\" + 0.192*\"front\" + 0.171*\"call\" + 0.158*\"smell\" + 0.135*\"already\" + 0.134*\"tell\" + -0.134*\"charge\" + 0.117*\"price\" + -0.108*\"water\" + 0.107*\"old\" + 0.107*\"wait\" + -0.105*\"shower\" + 0.102*\"food\" + 0.102*\"try\" + -0.098*\"request\" + -0.085*\"stain\"\n",
      "\n",
      "Topic #4:\n",
      "==========\n",
      "-0.435*\"service\" + 0.321*\"towel\" + -0.313*\"smell\" + -0.297*\"change\" + 0.220*\"star\" + 0.207*\"food\" + 0.207*\"charge\" + 0.205*\"reception\" + 0.175*\"facility\" + 0.164*\"breakfast\" + 0.151*\"thing\" + 0.143*\"never\" + 0.141*\"pool\" + 0.139*\"use\" + -0.135*\"customer\" + 0.132*\"put\" + 0.124*\"light\" + -0.098*\"wait\" + 0.097*\"another\" + -0.093*\"front\"\n",
      "\n",
      "Topic #5:\n",
      "==========\n",
      "0.361*\"breakfast\" + 0.300*\"smell\" + 0.290*\"change\" + -0.272*\"reception\" + 0.239*\"star\" + 0.213*\"towel\" + -0.202*\"wait\" + 0.177*\"bathroom\" + -0.167*\"light\" + -0.160*\"front\" + -0.154*\"water\" + -0.150*\"another\" + -0.146*\"mind\" + -0.142*\"thing\" + -0.140*\"toilet\" + 0.139*\"dirty\" + -0.138*\"desk\" + -0.134*\"service\" + -0.134*\"put\" + 0.132*\"pool\"\n",
      "\n",
      "Topic #6:\n",
      "==========\n",
      "0.522*\"water\" + -0.445*\"smell\" + -0.232*\"reception\" + 0.219*\"shower\" + -0.198*\"old\" + 0.192*\"toilet\" + 0.161*\"hot\" + 0.160*\"request\" + -0.154*\"light\" + 0.148*\"breakfast\" + -0.137*\"dirty\" + -0.133*\"singapore\" + 0.132*\"pay\" + -0.125*\"look\" + -0.101*\"find\" + -0.097*\"another\" + -0.096*\"desk\" + 0.093*\"recommend\" + -0.092*\"put\" + -0.092*\"bathroom\"\n",
      "\n",
      "--------------------------------------------------\n",
      "\n",
      "MODEL: LSI - NUMBER OF TOPICS: 7\n"
     ]
    },
    {
     "name": "stderr",
     "output_type": "stream",
     "text": [
      " 67%|████████████████████████████████████████████████████████                            | 6/9 [00:30<00:15,  5.24s/it]"
     ]
    },
    {
     "name": "stdout",
     "output_type": "stream",
     "text": [
      "Topic #1:\n",
      "==========\n",
      "0.290*\"service\" + 0.233*\"water\" + 0.207*\"change\" + 0.205*\"reception\" + 0.199*\"dirty\" + 0.186*\"smell\" + 0.177*\"look\" + 0.171*\"breakfast\" + 0.170*\"toilet\" + 0.157*\"towel\" + 0.149*\"bathroom\" + 0.146*\"pay\" + 0.140*\"shower\" + 0.133*\"call\" + 0.132*\"old\" + 0.132*\"singapore\" + 0.129*\"find\" + 0.127*\"request\" + 0.125*\"front\" + 0.120*\"price\"\n",
      "\n",
      "Topic #2:\n",
      "==========\n",
      "-0.430*\"smell\" + 0.349*\"service\" + -0.295*\"water\" + -0.294*\"toilet\" + -0.285*\"old\" + 0.230*\"change\" + -0.210*\"shower\" + 0.209*\"pay\" + -0.187*\"bathroom\" + 0.145*\"call\" + 0.136*\"star\" + 0.134*\"dirty\" + 0.129*\"request\" + -0.125*\"thing\" + 0.115*\"breakfast\" + 0.104*\"customer\" + -0.096*\"hot\" + 0.095*\"wait\" + 0.092*\"reception\" + -0.087*\"work\"\n",
      "\n",
      "Topic #3:\n",
      "==========\n",
      "0.465*\"breakfast\" + -0.393*\"dirty\" + -0.332*\"towel\" + -0.294*\"change\" + 0.275*\"pay\" + 0.192*\"front\" + 0.171*\"call\" + 0.158*\"smell\" + 0.135*\"already\" + 0.134*\"tell\" + -0.134*\"charge\" + 0.117*\"price\" + -0.108*\"water\" + 0.107*\"old\" + 0.107*\"wait\" + -0.105*\"shower\" + 0.102*\"food\" + 0.102*\"try\" + -0.098*\"request\" + -0.085*\"stain\"\n",
      "\n",
      "Topic #4:\n",
      "==========\n",
      "0.435*\"service\" + -0.321*\"towel\" + 0.313*\"smell\" + 0.297*\"change\" + -0.220*\"star\" + -0.207*\"food\" + -0.207*\"charge\" + -0.205*\"reception\" + -0.175*\"facility\" + -0.164*\"breakfast\" + -0.151*\"thing\" + -0.143*\"never\" + -0.141*\"pool\" + -0.139*\"use\" + 0.135*\"customer\" + -0.132*\"put\" + -0.124*\"light\" + 0.098*\"wait\" + -0.097*\"another\" + 0.093*\"front\"\n",
      "\n",
      "Topic #5:\n",
      "==========\n",
      "0.361*\"breakfast\" + 0.300*\"smell\" + 0.290*\"change\" + -0.272*\"reception\" + 0.239*\"star\" + 0.213*\"towel\" + -0.202*\"wait\" + 0.177*\"bathroom\" + -0.167*\"light\" + -0.160*\"front\" + -0.154*\"water\" + -0.150*\"another\" + -0.146*\"mind\" + -0.142*\"thing\" + -0.140*\"toilet\" + 0.139*\"dirty\" + -0.138*\"desk\" + -0.134*\"service\" + -0.134*\"put\" + 0.132*\"pool\"\n",
      "\n",
      "Topic #6:\n",
      "==========\n",
      "-0.522*\"water\" + 0.445*\"smell\" + 0.232*\"reception\" + -0.219*\"shower\" + 0.198*\"old\" + -0.192*\"toilet\" + -0.161*\"hot\" + -0.160*\"request\" + 0.154*\"light\" + -0.148*\"breakfast\" + 0.137*\"dirty\" + 0.133*\"singapore\" + -0.132*\"pay\" + 0.125*\"look\" + 0.101*\"find\" + 0.097*\"another\" + 0.096*\"desk\" + -0.093*\"recommend\" + 0.092*\"put\" + 0.092*\"bathroom\"\n",
      "\n",
      "Topic #7:\n",
      "==========\n",
      "-0.407*\"service\" + 0.269*\"front\" + -0.250*\"price\" + 0.237*\"request\" + 0.224*\"wait\" + 0.213*\"bathroom\" + 0.208*\"tell\" + -0.196*\"water\" + 0.193*\"mind\" + 0.192*\"towel\" + -0.166*\"old\" + -0.148*\"breakfast\" + 0.143*\"pay\" + 0.137*\"wall\" + -0.134*\"look\" + 0.131*\"already\" + -0.126*\"find\" + 0.119*\"lobby\" + 0.118*\"shower\" + 0.116*\"luggage\"\n",
      "\n",
      "--------------------------------------------------\n",
      "\n",
      "MODEL: LSI - NUMBER OF TOPICS: 8\n"
     ]
    },
    {
     "name": "stderr",
     "output_type": "stream",
     "text": [
      " 78%|█████████████████████████████████████████████████████████████████▎                  | 7/9 [00:35<00:10,  5.12s/it]"
     ]
    },
    {
     "name": "stdout",
     "output_type": "stream",
     "text": [
      "Topic #1:\n",
      "==========\n",
      "0.290*\"service\" + 0.233*\"water\" + 0.207*\"change\" + 0.205*\"reception\" + 0.199*\"dirty\" + 0.186*\"smell\" + 0.177*\"look\" + 0.171*\"breakfast\" + 0.170*\"toilet\" + 0.157*\"towel\" + 0.149*\"bathroom\" + 0.146*\"pay\" + 0.140*\"shower\" + 0.133*\"call\" + 0.132*\"old\" + 0.132*\"singapore\" + 0.129*\"find\" + 0.127*\"request\" + 0.125*\"front\" + 0.120*\"price\"\n",
      "\n",
      "Topic #2:\n",
      "==========\n",
      "-0.430*\"smell\" + 0.349*\"service\" + -0.295*\"water\" + -0.294*\"toilet\" + -0.285*\"old\" + 0.230*\"change\" + -0.210*\"shower\" + 0.209*\"pay\" + -0.187*\"bathroom\" + 0.145*\"call\" + 0.136*\"star\" + 0.134*\"dirty\" + 0.129*\"request\" + -0.125*\"thing\" + 0.115*\"breakfast\" + 0.104*\"customer\" + -0.096*\"hot\" + 0.095*\"wait\" + 0.092*\"reception\" + -0.087*\"work\"\n",
      "\n",
      "Topic #3:\n",
      "==========\n",
      "0.465*\"breakfast\" + -0.393*\"dirty\" + -0.332*\"towel\" + -0.294*\"change\" + 0.275*\"pay\" + 0.192*\"front\" + 0.171*\"call\" + 0.158*\"smell\" + 0.135*\"already\" + 0.134*\"tell\" + -0.134*\"charge\" + 0.117*\"price\" + -0.108*\"water\" + 0.107*\"old\" + 0.107*\"wait\" + -0.105*\"shower\" + 0.102*\"food\" + 0.102*\"try\" + -0.098*\"request\" + -0.085*\"stain\"\n",
      "\n",
      "Topic #4:\n",
      "==========\n",
      "0.435*\"service\" + -0.321*\"towel\" + 0.313*\"smell\" + 0.297*\"change\" + -0.220*\"star\" + -0.207*\"food\" + -0.207*\"charge\" + -0.205*\"reception\" + -0.175*\"facility\" + -0.164*\"breakfast\" + -0.151*\"thing\" + -0.143*\"never\" + -0.141*\"pool\" + -0.139*\"use\" + 0.135*\"customer\" + -0.132*\"put\" + -0.124*\"light\" + 0.098*\"wait\" + -0.097*\"another\" + 0.093*\"front\"\n",
      "\n",
      "Topic #5:\n",
      "==========\n",
      "0.361*\"breakfast\" + 0.300*\"smell\" + 0.290*\"change\" + -0.272*\"reception\" + 0.239*\"star\" + 0.213*\"towel\" + -0.202*\"wait\" + 0.177*\"bathroom\" + -0.167*\"light\" + -0.160*\"front\" + -0.154*\"water\" + -0.150*\"another\" + -0.146*\"mind\" + -0.142*\"thing\" + -0.140*\"toilet\" + 0.139*\"dirty\" + -0.138*\"desk\" + -0.134*\"service\" + -0.134*\"put\" + 0.132*\"pool\"\n",
      "\n",
      "Topic #6:\n",
      "==========\n",
      "0.522*\"water\" + -0.445*\"smell\" + -0.232*\"reception\" + 0.219*\"shower\" + -0.198*\"old\" + 0.192*\"toilet\" + 0.161*\"hot\" + 0.160*\"request\" + -0.154*\"light\" + 0.148*\"breakfast\" + -0.137*\"dirty\" + -0.133*\"singapore\" + 0.132*\"pay\" + -0.125*\"look\" + -0.101*\"find\" + -0.097*\"another\" + -0.096*\"desk\" + 0.093*\"recommend\" + -0.092*\"put\" + -0.092*\"bathroom\"\n",
      "\n",
      "Topic #7:\n",
      "==========\n",
      "-0.407*\"service\" + 0.269*\"front\" + -0.250*\"price\" + 0.237*\"request\" + 0.224*\"wait\" + 0.213*\"bathroom\" + 0.208*\"tell\" + -0.196*\"water\" + 0.193*\"mind\" + 0.192*\"towel\" + -0.166*\"old\" + -0.148*\"breakfast\" + 0.143*\"pay\" + 0.137*\"wall\" + -0.134*\"look\" + 0.131*\"already\" + -0.126*\"find\" + 0.119*\"lobby\" + 0.118*\"shower\" + 0.116*\"luggage\"\n",
      "\n",
      "Topic #8:\n",
      "==========\n",
      "0.483*\"star\" + -0.474*\"pay\" + 0.237*\"pool\" + -0.231*\"old\" + 0.207*\"call\" + 0.190*\"never\" + -0.169*\"tell\" + -0.166*\"already\" + -0.161*\"towel\" + -0.153*\"dirty\" + -0.152*\"price\" + 0.140*\"outside\" + -0.127*\"thing\" + 0.110*\"experience\" + 0.109*\"feel\" + -0.104*\"toilet\" + 0.098*\"close\" + 0.089*\"bathroom\" + -0.089*\"nothing\" + 0.087*\"much\"\n",
      "\n",
      "--------------------------------------------------\n",
      "\n",
      "MODEL: LSI - NUMBER OF TOPICS: 9\n"
     ]
    },
    {
     "name": "stderr",
     "output_type": "stream",
     "text": [
      " 89%|██████████████████████████████████████████████████████████████████████████▋         | 8/9 [00:40<00:05,  5.09s/it]"
     ]
    },
    {
     "name": "stdout",
     "output_type": "stream",
     "text": [
      "Topic #1:\n",
      "==========\n",
      "0.290*\"service\" + 0.233*\"water\" + 0.207*\"change\" + 0.205*\"reception\" + 0.199*\"dirty\" + 0.186*\"smell\" + 0.177*\"look\" + 0.171*\"breakfast\" + 0.170*\"toilet\" + 0.157*\"towel\" + 0.149*\"bathroom\" + 0.146*\"pay\" + 0.140*\"shower\" + 0.133*\"call\" + 0.132*\"old\" + 0.132*\"singapore\" + 0.129*\"find\" + 0.127*\"request\" + 0.125*\"front\" + 0.120*\"price\"\n",
      "\n",
      "Topic #2:\n",
      "==========\n",
      "-0.430*\"smell\" + 0.349*\"service\" + -0.295*\"water\" + -0.294*\"toilet\" + -0.285*\"old\" + 0.230*\"change\" + -0.210*\"shower\" + 0.209*\"pay\" + -0.187*\"bathroom\" + 0.145*\"call\" + 0.136*\"star\" + 0.134*\"dirty\" + 0.129*\"request\" + -0.125*\"thing\" + 0.115*\"breakfast\" + 0.104*\"customer\" + -0.096*\"hot\" + 0.095*\"wait\" + 0.092*\"reception\" + -0.087*\"work\"\n",
      "\n",
      "Topic #3:\n",
      "==========\n",
      "0.465*\"breakfast\" + -0.393*\"dirty\" + -0.332*\"towel\" + -0.294*\"change\" + 0.275*\"pay\" + 0.192*\"front\" + 0.171*\"call\" + 0.158*\"smell\" + 0.135*\"already\" + 0.134*\"tell\" + -0.134*\"charge\" + 0.117*\"price\" + -0.108*\"water\" + 0.107*\"old\" + 0.107*\"wait\" + -0.105*\"shower\" + 0.102*\"food\" + 0.102*\"try\" + -0.098*\"request\" + -0.085*\"stain\"\n",
      "\n",
      "Topic #4:\n",
      "==========\n",
      "-0.435*\"service\" + 0.321*\"towel\" + -0.313*\"smell\" + -0.297*\"change\" + 0.220*\"star\" + 0.207*\"food\" + 0.207*\"charge\" + 0.205*\"reception\" + 0.175*\"facility\" + 0.164*\"breakfast\" + 0.151*\"thing\" + 0.143*\"never\" + 0.141*\"pool\" + 0.139*\"use\" + -0.135*\"customer\" + 0.132*\"put\" + 0.124*\"light\" + -0.098*\"wait\" + 0.097*\"another\" + -0.093*\"front\"\n",
      "\n",
      "Topic #5:\n",
      "==========\n",
      "0.361*\"breakfast\" + 0.300*\"smell\" + 0.290*\"change\" + -0.272*\"reception\" + 0.239*\"star\" + 0.213*\"towel\" + -0.202*\"wait\" + 0.177*\"bathroom\" + -0.167*\"light\" + -0.160*\"front\" + -0.154*\"water\" + -0.150*\"another\" + -0.146*\"mind\" + -0.142*\"thing\" + -0.140*\"toilet\" + 0.139*\"dirty\" + -0.138*\"desk\" + -0.134*\"service\" + -0.134*\"put\" + 0.132*\"pool\"\n",
      "\n",
      "Topic #6:\n",
      "==========\n",
      "-0.522*\"water\" + 0.445*\"smell\" + 0.232*\"reception\" + -0.219*\"shower\" + 0.198*\"old\" + -0.192*\"toilet\" + -0.161*\"hot\" + -0.160*\"request\" + 0.154*\"light\" + -0.148*\"breakfast\" + 0.137*\"dirty\" + 0.133*\"singapore\" + -0.132*\"pay\" + 0.125*\"look\" + 0.101*\"find\" + 0.097*\"another\" + 0.096*\"desk\" + -0.093*\"recommend\" + 0.092*\"put\" + 0.092*\"bathroom\"\n",
      "\n",
      "Topic #7:\n",
      "==========\n",
      "-0.407*\"service\" + 0.269*\"front\" + -0.250*\"price\" + 0.237*\"request\" + 0.224*\"wait\" + 0.213*\"bathroom\" + 0.208*\"tell\" + -0.196*\"water\" + 0.193*\"mind\" + 0.192*\"towel\" + -0.166*\"old\" + -0.148*\"breakfast\" + 0.143*\"pay\" + 0.137*\"wall\" + -0.134*\"look\" + 0.131*\"already\" + -0.126*\"find\" + 0.119*\"lobby\" + 0.118*\"shower\" + 0.116*\"luggage\"\n",
      "\n",
      "Topic #8:\n",
      "==========\n",
      "0.483*\"star\" + -0.474*\"pay\" + 0.237*\"pool\" + -0.231*\"old\" + 0.207*\"call\" + 0.190*\"never\" + -0.169*\"tell\" + -0.166*\"already\" + -0.161*\"towel\" + -0.153*\"dirty\" + -0.152*\"price\" + 0.140*\"outside\" + -0.127*\"thing\" + 0.110*\"experience\" + 0.109*\"feel\" + -0.104*\"toilet\" + 0.098*\"close\" + 0.089*\"bathroom\" + -0.089*\"nothing\" + 0.087*\"much\"\n",
      "\n",
      "Topic #9:\n",
      "==========\n",
      "0.383*\"smell\" + -0.277*\"lobby\" + 0.257*\"water\" + -0.245*\"bathroom\" + -0.210*\"old\" + 0.210*\"reception\" + -0.187*\"experience\" + 0.176*\"food\" + 0.168*\"request\" + -0.164*\"look\" + -0.158*\"feel\" + -0.157*\"front\" + -0.153*\"wall\" + 0.152*\"call\" + -0.147*\"space\" + 0.144*\"thing\" + -0.144*\"cleanliness\" + -0.136*\"walk\" + -0.127*\"customer\" + -0.125*\"however\"\n",
      "\n",
      "--------------------------------------------------\n",
      "\n",
      "MODEL: LSI - NUMBER OF TOPICS: 10\n"
     ]
    },
    {
     "name": "stderr",
     "output_type": "stream",
     "text": [
      "100%|████████████████████████████████████████████████████████████████████████████████████| 9/9 [00:45<00:00,  5.05s/it]\n"
     ]
    },
    {
     "name": "stdout",
     "output_type": "stream",
     "text": [
      "Topic #1:\n",
      "==========\n",
      "0.290*\"service\" + 0.233*\"water\" + 0.207*\"change\" + 0.205*\"reception\" + 0.199*\"dirty\" + 0.186*\"smell\" + 0.177*\"look\" + 0.171*\"breakfast\" + 0.170*\"toilet\" + 0.157*\"towel\" + 0.149*\"bathroom\" + 0.146*\"pay\" + 0.140*\"shower\" + 0.133*\"call\" + 0.132*\"old\" + 0.132*\"singapore\" + 0.129*\"find\" + 0.127*\"request\" + 0.125*\"front\" + 0.120*\"price\"\n",
      "\n",
      "Topic #2:\n",
      "==========\n",
      "-0.430*\"smell\" + 0.349*\"service\" + -0.295*\"water\" + -0.294*\"toilet\" + -0.285*\"old\" + 0.230*\"change\" + -0.210*\"shower\" + 0.209*\"pay\" + -0.187*\"bathroom\" + 0.145*\"call\" + 0.136*\"star\" + 0.134*\"dirty\" + 0.129*\"request\" + -0.125*\"thing\" + 0.115*\"breakfast\" + 0.104*\"customer\" + -0.096*\"hot\" + 0.095*\"wait\" + 0.092*\"reception\" + -0.087*\"work\"\n",
      "\n",
      "Topic #3:\n",
      "==========\n",
      "0.465*\"breakfast\" + -0.393*\"dirty\" + -0.332*\"towel\" + -0.294*\"change\" + 0.275*\"pay\" + 0.192*\"front\" + 0.171*\"call\" + 0.158*\"smell\" + 0.135*\"already\" + 0.134*\"tell\" + -0.134*\"charge\" + 0.117*\"price\" + -0.108*\"water\" + 0.107*\"old\" + 0.107*\"wait\" + -0.105*\"shower\" + 0.102*\"food\" + 0.102*\"try\" + -0.098*\"request\" + -0.085*\"stain\"\n",
      "\n",
      "Topic #4:\n",
      "==========\n",
      "0.435*\"service\" + -0.321*\"towel\" + 0.313*\"smell\" + 0.297*\"change\" + -0.220*\"star\" + -0.207*\"food\" + -0.207*\"charge\" + -0.205*\"reception\" + -0.175*\"facility\" + -0.164*\"breakfast\" + -0.151*\"thing\" + -0.143*\"never\" + -0.141*\"pool\" + -0.139*\"use\" + 0.135*\"customer\" + -0.132*\"put\" + -0.124*\"light\" + 0.098*\"wait\" + -0.097*\"another\" + 0.093*\"front\"\n",
      "\n",
      "Topic #5:\n",
      "==========\n",
      "0.361*\"breakfast\" + 0.300*\"smell\" + 0.290*\"change\" + -0.272*\"reception\" + 0.239*\"star\" + 0.213*\"towel\" + -0.202*\"wait\" + 0.177*\"bathroom\" + -0.167*\"light\" + -0.160*\"front\" + -0.154*\"water\" + -0.150*\"another\" + -0.146*\"mind\" + -0.142*\"thing\" + -0.140*\"toilet\" + 0.139*\"dirty\" + -0.138*\"desk\" + -0.134*\"service\" + -0.134*\"put\" + 0.132*\"pool\"\n",
      "\n",
      "Topic #6:\n",
      "==========\n",
      "-0.522*\"water\" + 0.445*\"smell\" + 0.232*\"reception\" + -0.219*\"shower\" + 0.198*\"old\" + -0.192*\"toilet\" + -0.161*\"hot\" + -0.160*\"request\" + 0.154*\"light\" + -0.148*\"breakfast\" + 0.137*\"dirty\" + 0.133*\"singapore\" + -0.132*\"pay\" + 0.125*\"look\" + 0.101*\"find\" + 0.097*\"another\" + 0.096*\"desk\" + -0.093*\"recommend\" + 0.092*\"put\" + 0.092*\"bathroom\"\n",
      "\n",
      "Topic #7:\n",
      "==========\n",
      "-0.407*\"service\" + 0.269*\"front\" + -0.250*\"price\" + 0.237*\"request\" + 0.224*\"wait\" + 0.213*\"bathroom\" + 0.208*\"tell\" + -0.196*\"water\" + 0.193*\"mind\" + 0.192*\"towel\" + -0.166*\"old\" + -0.148*\"breakfast\" + 0.143*\"pay\" + 0.137*\"wall\" + -0.134*\"look\" + 0.131*\"already\" + -0.126*\"find\" + 0.119*\"lobby\" + 0.118*\"shower\" + 0.116*\"luggage\"\n",
      "\n",
      "Topic #8:\n",
      "==========\n",
      "0.483*\"star\" + -0.474*\"pay\" + 0.237*\"pool\" + -0.231*\"old\" + 0.207*\"call\" + 0.190*\"never\" + -0.169*\"tell\" + -0.166*\"already\" + -0.161*\"towel\" + -0.153*\"dirty\" + -0.152*\"price\" + 0.140*\"outside\" + -0.127*\"thing\" + 0.110*\"experience\" + 0.109*\"feel\" + -0.104*\"toilet\" + 0.098*\"close\" + 0.089*\"bathroom\" + -0.089*\"nothing\" + 0.087*\"much\"\n",
      "\n",
      "Topic #9:\n",
      "==========\n",
      "0.383*\"smell\" + -0.277*\"lobby\" + 0.257*\"water\" + -0.245*\"bathroom\" + -0.210*\"old\" + 0.210*\"reception\" + -0.187*\"experience\" + 0.176*\"food\" + 0.168*\"request\" + -0.164*\"look\" + -0.158*\"feel\" + -0.157*\"front\" + -0.153*\"wall\" + 0.152*\"call\" + -0.147*\"space\" + 0.144*\"thing\" + -0.144*\"cleanliness\" + -0.136*\"walk\" + -0.127*\"customer\" + -0.125*\"however\"\n",
      "\n",
      "Topic #10:\n",
      "==========\n",
      "0.412*\"towel\" + -0.332*\"look\" + -0.267*\"old\" + -0.252*\"change\" + -0.243*\"light\" + 0.229*\"service\" + 0.190*\"bathroom\" + 0.184*\"toilet\" + 0.167*\"smell\" + -0.156*\"request\" + 0.151*\"price\" + -0.150*\"recommend\" + -0.146*\"due\" + -0.136*\"everything\" + 0.132*\"call\" + -0.131*\"work\" + -0.115*\"sleep\" + -0.107*\"money\" + -0.102*\"hear\" + 0.100*\"desk\"\n",
      "\n",
      "--------------------------------------------------\n",
      "  Model Name  Number of Topics  Coherence Score df_name\n",
      "0        LSI                 2         0.550753  df_neg\n",
      "1        LSI                 3         0.504555  df_neg\n",
      "2        LSI                 4         0.518666  df_neg\n",
      "3        LSI                 5         0.501657  df_neg\n",
      "4        LSI                 6         0.478099  df_neg\n",
      "5        LSI                 7         0.502843  df_neg\n",
      "6        LSI                 8         0.457026  df_neg\n",
      "7        LSI                 9         0.472178  df_neg\n",
      "8        LSI                10         0.460272  df_neg\n"
     ]
    },
    {
     "name": "stderr",
     "output_type": "stream",
     "text": [
      "  0%|                                                                                            | 0/9 [00:00<?, ?it/s]"
     ]
    },
    {
     "name": "stdout",
     "output_type": "stream",
     "text": [
      "\n",
      "MODEL: LDA - NUMBER OF TOPICS: 2\n"
     ]
    },
    {
     "name": "stderr",
     "output_type": "stream",
     "text": [
      " 11%|█████████▎                                                                          | 1/9 [00:03<00:29,  3.66s/it]"
     ]
    },
    {
     "name": "stdout",
     "output_type": "stream",
     "text": [
      "Topic #1:\n",
      "==========\n",
      "0.025*\"bathroom\" + 0.024*\"old\" + 0.023*\"water\" + 0.023*\"shower\" + 0.022*\"towel\" + 0.021*\"toilet\" + 0.019*\"smell\" + 0.019*\"look\" + 0.019*\"pay\" + 0.018*\"light\" + 0.018*\"breakfast\" + 0.017*\"service\" + 0.017*\"dirty\" + 0.016*\"food\" + 0.016*\"sleep\" + 0.015*\"request\" + 0.015*\"wall\" + 0.014*\"facility\" + 0.014*\"pool\" + 0.013*\"much\"\n",
      "\n",
      "Topic #2:\n",
      "==========\n",
      "0.036*\"service\" + 0.030*\"smell\" + 0.027*\"nothing\" + 0.025*\"price\" + 0.021*\"breakfast\" + 0.021*\"reception\" + 0.020*\"find\" + 0.019*\"water\" + 0.018*\"little\" + 0.018*\"dirty\" + 0.017*\"call\" + 0.016*\"work\" + 0.015*\"feel\" + 0.014*\"bathroom\" + 0.014*\"many\" + 0.014*\"look\" + 0.014*\"change\" + 0.014*\"provide\" + 0.013*\"singapore\" + 0.013*\"charge\"\n",
      "\n",
      "--------------------------------------------------\n",
      "\n",
      "MODEL: LDA - NUMBER OF TOPICS: 3\n"
     ]
    },
    {
     "name": "stderr",
     "output_type": "stream",
     "text": [
      " 22%|██████████████████▋                                                                 | 2/9 [00:07<00:24,  3.50s/it]"
     ]
    },
    {
     "name": "stdout",
     "output_type": "stream",
     "text": [
      "Topic #1:\n",
      "==========\n",
      "0.035*\"smell\" + 0.034*\"nothing\" + 0.030*\"water\" + 0.027*\"find\" + 0.024*\"light\" + 0.022*\"dirty\" + 0.022*\"food\" + 0.022*\"sleep\" + 0.021*\"reception\" + 0.020*\"feel\" + 0.020*\"breakfast\" + 0.020*\"price\" + 0.019*\"change\" + 0.018*\"towel\" + 0.018*\"recommend\" + 0.017*\"first\" + 0.017*\"service\" + 0.017*\"really\" + 0.017*\"thing\" + 0.016*\"toilet\"\n",
      "\n",
      "Topic #2:\n",
      "==========\n",
      "0.041*\"bathroom\" + 0.035*\"service\" + 0.027*\"smell\" + 0.025*\"shower\" + 0.024*\"money\" + 0.023*\"water\" + 0.021*\"walk\" + 0.020*\"work\" + 0.020*\"reception\" + 0.020*\"toilet\" + 0.019*\"little\" + 0.018*\"price\" + 0.017*\"wall\" + 0.016*\"use\" + 0.016*\"dirty\" + 0.016*\"look\" + 0.015*\"next\" + 0.015*\"poor\" + 0.014*\"enough\" + 0.014*\"breakfast\"\n",
      "\n",
      "Topic #3:\n",
      "==========\n",
      "0.032*\"pay\" + 0.027*\"star\" + 0.026*\"old\" + 0.026*\"wait\" + 0.024*\"breakfast\" + 0.024*\"service\" + 0.024*\"look\" + 0.022*\"request\" + 0.022*\"charge\" + 0.021*\"experience\" + 0.021*\"towel\" + 0.020*\"luggage\" + 0.018*\"tell\" + 0.018*\"pool\" + 0.017*\"quite\" + 0.016*\"toilet\" + 0.016*\"helpful\" + 0.015*\"close\" + 0.015*\"provide\" + 0.015*\"far\"\n",
      "\n",
      "--------------------------------------------------\n",
      "\n",
      "MODEL: LDA - NUMBER OF TOPICS: 4\n"
     ]
    },
    {
     "name": "stderr",
     "output_type": "stream",
     "text": [
      " 33%|████████████████████████████                                                        | 3/9 [00:10<00:20,  3.38s/it]"
     ]
    },
    {
     "name": "stdout",
     "output_type": "stream",
     "text": [
      "Topic #1:\n",
      "==========\n",
      "0.042*\"nothing\" + 0.030*\"use\" + 0.027*\"look\" + 0.027*\"work\" + 0.026*\"old\" + 0.024*\"experience\" + 0.023*\"recommend\" + 0.022*\"light\" + 0.022*\"cleanliness\" + 0.021*\"expensive\" + 0.020*\"many\" + 0.019*\"water\" + 0.019*\"little\" + 0.019*\"charge\" + 0.019*\"far\" + 0.018*\"towel\" + 0.016*\"iron\" + 0.016*\"smell\" + 0.016*\"toilet\" + 0.016*\"walk\"\n",
      "\n",
      "Topic #2:\n",
      "==========\n",
      "0.064*\"service\" + 0.038*\"pay\" + 0.032*\"reception\" + 0.031*\"wait\" + 0.028*\"smell\" + 0.027*\"call\" + 0.026*\"customer\" + 0.024*\"front\" + 0.024*\"tell\" + 0.022*\"light\" + 0.022*\"already\" + 0.021*\"dirty\" + 0.019*\"lot\" + 0.017*\"breakfast\" + 0.016*\"mind\" + 0.016*\"provide\" + 0.016*\"request\" + 0.015*\"find\" + 0.015*\"desk\" + 0.015*\"star\"\n",
      "\n",
      "Topic #3:\n",
      "==========\n",
      "0.046*\"water\" + 0.044*\"shower\" + 0.044*\"bathroom\" + 0.032*\"wall\" + 0.028*\"towel\" + 0.021*\"outside\" + 0.020*\"request\" + 0.019*\"smell\" + 0.018*\"star\" + 0.018*\"lobby\" + 0.018*\"little\" + 0.017*\"toilet\" + 0.017*\"sleep\" + 0.017*\"want\" + 0.017*\"luggage\" + 0.016*\"put\" + 0.016*\"look\" + 0.016*\"dirty\" + 0.016*\"breakfast\" + 0.015*\"due\"\n",
      "\n",
      "Topic #4:\n",
      "==========\n",
      "0.044*\"price\" + 0.034*\"breakfast\" + 0.032*\"smell\" + 0.026*\"toilet\" + 0.024*\"find\" + 0.024*\"old\" + 0.024*\"nothing\" + 0.023*\"dirty\" + 0.022*\"close\" + 0.020*\"bathroom\" + 0.020*\"change\" + 0.019*\"service\" + 0.018*\"pool\" + 0.018*\"much\" + 0.018*\"quite\" + 0.017*\"water\" + 0.017*\"food\" + 0.015*\"money\" + 0.015*\"reception\" + 0.015*\"thing\"\n",
      "\n",
      "--------------------------------------------------\n",
      "\n",
      "MODEL: LDA - NUMBER OF TOPICS: 5\n"
     ]
    },
    {
     "name": "stderr",
     "output_type": "stream",
     "text": [
      " 44%|█████████████████████████████████████▎                                              | 4/9 [00:13<00:16,  3.26s/it]"
     ]
    },
    {
     "name": "stdout",
     "output_type": "stream",
     "text": [
      "Topic #1:\n",
      "==========\n",
      "0.052*\"pay\" + 0.047*\"light\" + 0.034*\"wait\" + 0.034*\"tell\" + 0.031*\"already\" + 0.029*\"reception\" + 0.026*\"smell\" + 0.026*\"charge\" + 0.026*\"another\" + 0.024*\"star\" + 0.024*\"way\" + 0.021*\"hear\" + 0.021*\"price\" + 0.021*\"request\" + 0.021*\"noise\" + 0.021*\"see\" + 0.019*\"water\" + 0.018*\"find\" + 0.018*\"call\" + 0.018*\"luggage\"\n",
      "\n",
      "Topic #2:\n",
      "==========\n",
      "0.038*\"service\" + 0.032*\"money\" + 0.031*\"toilet\" + 0.030*\"bathroom\" + 0.029*\"much\" + 0.025*\"really\" + 0.024*\"wall\" + 0.022*\"look\" + 0.022*\"enough\" + 0.021*\"everything\" + 0.021*\"next\" + 0.020*\"expensive\" + 0.019*\"price\" + 0.019*\"hear\" + 0.018*\"feel\" + 0.018*\"smell\" + 0.018*\"find\" + 0.018*\"big\" + 0.016*\"towel\" + 0.016*\"customer\"\n",
      "\n",
      "Topic #3:\n",
      "==========\n",
      "0.038*\"price\" + 0.037*\"bathroom\" + 0.035*\"sleep\" + 0.032*\"recommend\" + 0.029*\"experience\" + 0.028*\"helpful\" + 0.024*\"old\" + 0.024*\"feel\" + 0.022*\"star\" + 0.019*\"facility\" + 0.019*\"little\" + 0.018*\"look\" + 0.018*\"use\" + 0.018*\"morning\" + 0.017*\"friendly\" + 0.016*\"lobby\" + 0.016*\"high\" + 0.015*\"much\" + 0.015*\"cleanliness\" + 0.015*\"space\"\n",
      "\n",
      "Topic #4:\n",
      "==========\n",
      "0.042*\"dirty\" + 0.040*\"smell\" + 0.032*\"towel\" + 0.031*\"old\" + 0.030*\"change\" + 0.030*\"nothing\" + 0.026*\"water\" + 0.026*\"service\" + 0.022*\"reception\" + 0.021*\"bathroom\" + 0.020*\"breakfast\" + 0.020*\"singapore\" + 0.019*\"shower\" + 0.016*\"work\" + 0.015*\"request\" + 0.015*\"use\" + 0.015*\"food\" + 0.014*\"look\" + 0.014*\"lot\" + 0.014*\"cleanliness\"\n",
      "\n",
      "Topic #5:\n",
      "==========\n",
      "0.042*\"breakfast\" + 0.036*\"service\" + 0.036*\"water\" + 0.028*\"nothing\" + 0.026*\"toilet\" + 0.023*\"shower\" + 0.021*\"smell\" + 0.020*\"never\" + 0.019*\"look\" + 0.018*\"close\" + 0.018*\"noisy\" + 0.017*\"wait\" + 0.017*\"front\" + 0.017*\"thing\" + 0.016*\"poor\" + 0.015*\"find\" + 0.015*\"see\" + 0.015*\"first\" + 0.014*\"reception\" + 0.014*\"two\"\n",
      "\n",
      "--------------------------------------------------\n",
      "\n",
      "MODEL: LDA - NUMBER OF TOPICS: 6\n"
     ]
    },
    {
     "name": "stderr",
     "output_type": "stream",
     "text": [
      " 56%|██████████████████████████████████████████████▋                                     | 5/9 [00:16<00:12,  3.18s/it]"
     ]
    },
    {
     "name": "stdout",
     "output_type": "stream",
     "text": [
      "Topic #1:\n",
      "==========\n",
      "0.037*\"change\" + 0.035*\"nothing\" + 0.031*\"service\" + 0.030*\"light\" + 0.026*\"price\" + 0.025*\"really\" + 0.025*\"feel\" + 0.025*\"breakfast\" + 0.022*\"front\" + 0.021*\"towel\" + 0.020*\"use\" + 0.019*\"toilet\" + 0.018*\"water\" + 0.018*\"call\" + 0.018*\"put\" + 0.018*\"little\" + 0.017*\"smell\" + 0.017*\"request\" + 0.017*\"desk\" + 0.017*\"far\"\n",
      "\n",
      "Topic #2:\n",
      "==========\n",
      "0.043*\"pay\" + 0.041*\"money\" + 0.031*\"water\" + 0.029*\"service\" + 0.029*\"already\" + 0.025*\"bathroom\" + 0.024*\"breakfast\" + 0.024*\"provide\" + 0.022*\"poor\" + 0.022*\"big\" + 0.020*\"front\" + 0.020*\"end\" + 0.020*\"old\" + 0.020*\"enough\" + 0.020*\"lobby\" + 0.019*\"another\" + 0.018*\"wait\" + 0.018*\"request\" + 0.018*\"star\" + 0.018*\"wall\"\n",
      "\n",
      "Topic #3:\n",
      "==========\n",
      "0.069*\"smell\" + 0.053*\"shower\" + 0.047*\"work\" + 0.033*\"toilet\" + 0.033*\"bathroom\" + 0.029*\"towel\" + 0.025*\"find\" + 0.020*\"enough\" + 0.019*\"water\" + 0.019*\"wall\" + 0.018*\"request\" + 0.018*\"pool\" + 0.018*\"still\" + 0.018*\"quite\" + 0.016*\"old\" + 0.016*\"hear\" + 0.016*\"window\" + 0.016*\"people\" + 0.016*\"use\" + 0.016*\"next\"\n",
      "\n",
      "Topic #4:\n",
      "==========\n",
      "0.042*\"reception\" + 0.037*\"service\" + 0.033*\"look\" + 0.033*\"old\" + 0.030*\"much\" + 0.027*\"smell\" + 0.027*\"water\" + 0.026*\"star\" + 0.023*\"dirty\" + 0.021*\"food\" + 0.020*\"thing\" + 0.019*\"singapore\" + 0.018*\"call\" + 0.018*\"option\" + 0.017*\"bathroom\" + 0.017*\"find\" + 0.016*\"pool\" + 0.016*\"quite\" + 0.016*\"toilet\" + 0.015*\"shower\"\n",
      "\n",
      "Topic #5:\n",
      "==========\n",
      "0.047*\"dirty\" + 0.039*\"experience\" + 0.034*\"nothing\" + 0.033*\"look\" + 0.032*\"breakfast\" + 0.024*\"smell\" + 0.024*\"everything\" + 0.022*\"recommend\" + 0.020*\"old\" + 0.018*\"iron\" + 0.018*\"leave\" + 0.018*\"noisy\" + 0.017*\"money\" + 0.016*\"service\" + 0.016*\"work\" + 0.016*\"customer\" + 0.016*\"two\" + 0.016*\"charge\" + 0.015*\"morning\" + 0.014*\"towel\"\n",
      "\n",
      "Topic #6:\n",
      "==========\n",
      "0.036*\"expensive\" + 0.032*\"bathroom\" + 0.032*\"price\" + 0.029*\"service\" + 0.029*\"luggage\" + 0.027*\"poor\" + 0.025*\"pay\" + 0.023*\"water\" + 0.023*\"close\" + 0.021*\"sleep\" + 0.020*\"charge\" + 0.020*\"cold\" + 0.018*\"shower\" + 0.018*\"hot\" + 0.017*\"toilet\" + 0.017*\"see\" + 0.016*\"walk\" + 0.015*\"find\" + 0.015*\"reception\" + 0.015*\"iron\"\n",
      "\n",
      "--------------------------------------------------\n",
      "\n",
      "MODEL: LDA - NUMBER OF TOPICS: 7\n"
     ]
    },
    {
     "name": "stderr",
     "output_type": "stream",
     "text": [
      " 67%|████████████████████████████████████████████████████████                            | 6/9 [00:19<00:09,  3.16s/it]"
     ]
    },
    {
     "name": "stdout",
     "output_type": "stream",
     "text": [
      "Topic #1:\n",
      "==========\n",
      "0.054*\"breakfast\" + 0.039*\"nothing\" + 0.036*\"pool\" + 0.029*\"water\" + 0.025*\"pay\" + 0.024*\"look\" + 0.022*\"though\" + 0.022*\"price\" + 0.021*\"reception\" + 0.021*\"star\" + 0.020*\"service\" + 0.020*\"call\" + 0.020*\"close\" + 0.017*\"already\" + 0.017*\"use\" + 0.017*\"think\" + 0.015*\"request\" + 0.015*\"front\" + 0.015*\"tell\" + 0.015*\"sleep\"\n",
      "\n",
      "Topic #2:\n",
      "==========\n",
      "0.048*\"service\" + 0.046*\"bathroom\" + 0.045*\"change\" + 0.041*\"smell\" + 0.033*\"shower\" + 0.028*\"water\" + 0.027*\"towel\" + 0.027*\"nothing\" + 0.022*\"toilet\" + 0.020*\"dirty\" + 0.020*\"customer\" + 0.020*\"space\" + 0.020*\"put\" + 0.018*\"really\" + 0.018*\"window\" + 0.017*\"lobby\" + 0.017*\"helpful\" + 0.017*\"outside\" + 0.015*\"look\" + 0.015*\"luggage\"\n",
      "\n",
      "Topic #3:\n",
      "==========\n",
      "0.039*\"reception\" + 0.030*\"request\" + 0.030*\"experience\" + 0.028*\"service\" + 0.028*\"everything\" + 0.026*\"money\" + 0.026*\"pay\" + 0.026*\"due\" + 0.024*\"towel\" + 0.024*\"front\" + 0.022*\"dirty\" + 0.022*\"wall\" + 0.022*\"desk\" + 0.022*\"call\" + 0.020*\"price\" + 0.020*\"provide\" + 0.017*\"breakfast\" + 0.017*\"wait\" + 0.017*\"light\" + 0.017*\"mind\"\n",
      "\n",
      "Topic #4:\n",
      "==========\n",
      "0.038*\"find\" + 0.033*\"look\" + 0.033*\"money\" + 0.027*\"bathroom\" + 0.022*\"thing\" + 0.022*\"recommend\" + 0.022*\"many\" + 0.020*\"service\" + 0.020*\"price\" + 0.018*\"reception\" + 0.018*\"wait\" + 0.018*\"charge\" + 0.016*\"nothing\" + 0.016*\"food\" + 0.016*\"singapore\" + 0.016*\"enough\" + 0.016*\"another\" + 0.015*\"water\" + 0.015*\"call\" + 0.015*\"shower\"\n",
      "\n",
      "Topic #5:\n",
      "==========\n",
      "0.054*\"old\" + 0.051*\"dirty\" + 0.049*\"toilet\" + 0.043*\"poor\" + 0.041*\"smell\" + 0.038*\"towel\" + 0.036*\"price\" + 0.028*\"much\" + 0.023*\"breakfast\" + 0.021*\"light\" + 0.021*\"high\" + 0.018*\"people\" + 0.018*\"disappoint\" + 0.016*\"service\" + 0.016*\"walk\" + 0.016*\"charge\" + 0.016*\"facility\" + 0.016*\"helpful\" + 0.016*\"option\" + 0.016*\"seem\"\n",
      "\n",
      "Topic #6:\n",
      "==========\n",
      "0.046*\"smell\" + 0.043*\"feel\" + 0.040*\"water\" + 0.028*\"service\" + 0.026*\"shower\" + 0.025*\"work\" + 0.025*\"iron\" + 0.023*\"sleep\" + 0.023*\"recommend\" + 0.021*\"toilet\" + 0.021*\"hot\" + 0.021*\"cold\" + 0.020*\"facility\" + 0.020*\"quite\" + 0.018*\"noise\" + 0.017*\"old\" + 0.017*\"really\" + 0.017*\"star\" + 0.017*\"cleanliness\" + 0.015*\"wall\"\n",
      "\n",
      "Topic #7:\n",
      "==========\n",
      "0.059*\"expensive\" + 0.041*\"old\" + 0.037*\"use\" + 0.033*\"bathroom\" + 0.030*\"look\" + 0.026*\"smell\" + 0.026*\"luggage\" + 0.026*\"star\" + 0.026*\"food\" + 0.023*\"breakfast\" + 0.022*\"front\" + 0.022*\"wait\" + 0.022*\"work\" + 0.022*\"seem\" + 0.022*\"expect\" + 0.019*\"singapore\" + 0.019*\"little\" + 0.019*\"lobby\" + 0.019*\"sleep\" + 0.019*\"iron\"\n",
      "\n",
      "--------------------------------------------------\n",
      "\n",
      "MODEL: LDA - NUMBER OF TOPICS: 8\n"
     ]
    },
    {
     "name": "stderr",
     "output_type": "stream",
     "text": [
      " 78%|█████████████████████████████████████████████████████████████████▎                  | 7/9 [00:22<00:06,  3.14s/it]"
     ]
    },
    {
     "name": "stdout",
     "output_type": "stream",
     "text": [
      "Topic #1:\n",
      "==========\n",
      "0.059*\"service\" + 0.048*\"star\" + 0.036*\"wait\" + 0.031*\"call\" + 0.031*\"breakfast\" + 0.031*\"money\" + 0.029*\"price\" + 0.029*\"much\" + 0.027*\"experience\" + 0.024*\"pay\" + 0.022*\"expect\" + 0.022*\"front\" + 0.019*\"reception\" + 0.019*\"look\" + 0.019*\"desk\" + 0.019*\"nothing\" + 0.019*\"due\" + 0.019*\"another\" + 0.017*\"never\" + 0.017*\"singapore\"\n",
      "\n",
      "Topic #2:\n",
      "==========\n",
      "0.083*\"breakfast\" + 0.051*\"food\" + 0.039*\"many\" + 0.030*\"smell\" + 0.024*\"old\" + 0.024*\"feel\" + 0.021*\"walk\" + 0.021*\"bathroom\" + 0.021*\"see\" + 0.021*\"cleanliness\" + 0.021*\"everything\" + 0.018*\"water\" + 0.018*\"quite\" + 0.018*\"look\" + 0.018*\"pool\" + 0.015*\"little\" + 0.015*\"far\" + 0.015*\"enough\" + 0.015*\"people\" + 0.015*\"phone\"\n",
      "\n",
      "Topic #3:\n",
      "==========\n",
      "0.039*\"bathroom\" + 0.034*\"look\" + 0.034*\"old\" + 0.034*\"dirty\" + 0.028*\"pay\" + 0.025*\"water\" + 0.023*\"smell\" + 0.023*\"change\" + 0.023*\"toilet\" + 0.023*\"price\" + 0.020*\"enough\" + 0.019*\"reception\" + 0.018*\"stain\" + 0.017*\"towel\" + 0.017*\"expensive\" + 0.015*\"hear\" + 0.015*\"really\" + 0.015*\"outside\" + 0.015*\"big\" + 0.014*\"breakfast\"\n",
      "\n",
      "Topic #4:\n",
      "==========\n",
      "0.046*\"toilet\" + 0.046*\"thing\" + 0.041*\"smell\" + 0.038*\"shower\" + 0.023*\"find\" + 0.023*\"recommend\" + 0.021*\"water\" + 0.021*\"old\" + 0.021*\"charge\" + 0.021*\"first\" + 0.020*\"put\" + 0.020*\"space\" + 0.018*\"reception\" + 0.018*\"another\" + 0.018*\"noise\" + 0.018*\"morning\" + 0.018*\"bathroom\" + 0.018*\"disappoint\" + 0.015*\"facility\" + 0.015*\"singapore\"\n",
      "\n",
      "Topic #5:\n",
      "==========\n",
      "0.081*\"smell\" + 0.052*\"sleep\" + 0.036*\"light\" + 0.029*\"quite\" + 0.026*\"noisy\" + 0.024*\"old\" + 0.024*\"look\" + 0.024*\"noise\" + 0.021*\"water\" + 0.021*\"use\" + 0.021*\"end\" + 0.021*\"expensive\" + 0.019*\"price\" + 0.019*\"pool\" + 0.019*\"dirty\" + 0.018*\"work\" + 0.018*\"seem\" + 0.018*\"little\" + 0.016*\"much\" + 0.016*\"shower\"\n",
      "\n",
      "Topic #6:\n",
      "==========\n",
      "0.063*\"towel\" + 0.056*\"service\" + 0.029*\"close\" + 0.027*\"request\" + 0.025*\"nothing\" + 0.025*\"pool\" + 0.025*\"iron\" + 0.023*\"find\" + 0.023*\"work\" + 0.021*\"recommend\" + 0.019*\"pay\" + 0.019*\"really\" + 0.017*\"much\" + 0.017*\"dirty\" + 0.017*\"helpful\" + 0.017*\"sleep\" + 0.017*\"change\" + 0.017*\"people\" + 0.015*\"breakfast\" + 0.015*\"charge\"\n",
      "\n",
      "Topic #7:\n",
      "==========\n",
      "0.082*\"nothing\" + 0.042*\"shower\" + 0.035*\"bathroom\" + 0.035*\"work\" + 0.035*\"wall\" + 0.027*\"service\" + 0.027*\"feel\" + 0.027*\"experience\" + 0.027*\"facility\" + 0.024*\"dirty\" + 0.024*\"water\" + 0.021*\"change\" + 0.019*\"request\" + 0.019*\"due\" + 0.019*\"reception\" + 0.019*\"price\" + 0.016*\"light\" + 0.016*\"front\" + 0.016*\"everything\" + 0.016*\"window\"\n",
      "\n",
      "Topic #8:\n",
      "==========\n",
      "0.043*\"water\" + 0.039*\"poor\" + 0.037*\"use\" + 0.025*\"helpful\" + 0.023*\"toilet\" + 0.021*\"really\" + 0.021*\"provide\" + 0.019*\"service\" + 0.019*\"find\" + 0.019*\"customer\" + 0.019*\"little\" + 0.019*\"hot\" + 0.018*\"lot\" + 0.017*\"light\" + 0.017*\"breakfast\" + 0.017*\"price\" + 0.017*\"shower\" + 0.017*\"lobby\" + 0.017*\"reception\" + 0.017*\"walk\"\n",
      "\n",
      "--------------------------------------------------\n",
      "\n",
      "MODEL: LDA - NUMBER OF TOPICS: 9\n"
     ]
    },
    {
     "name": "stderr",
     "output_type": "stream",
     "text": [
      " 89%|██████████████████████████████████████████████████████████████████████████▋         | 8/9 [00:25<00:03,  3.11s/it]"
     ]
    },
    {
     "name": "stdout",
     "output_type": "stream",
     "text": [
      "Topic #1:\n",
      "==========\n",
      "0.066*\"smell\" + 0.048*\"change\" + 0.039*\"food\" + 0.036*\"breakfast\" + 0.030*\"really\" + 0.027*\"experience\" + 0.027*\"find\" + 0.027*\"front\" + 0.027*\"feel\" + 0.024*\"toilet\" + 0.021*\"water\" + 0.021*\"recommend\" + 0.021*\"light\" + 0.018*\"service\" + 0.018*\"poor\" + 0.018*\"towel\" + 0.018*\"never\" + 0.018*\"helpful\" + 0.018*\"money\" + 0.018*\"window\"\n",
      "\n",
      "Topic #2:\n",
      "==========\n",
      "0.095*\"service\" + 0.039*\"pay\" + 0.029*\"toilet\" + 0.026*\"price\" + 0.026*\"water\" + 0.021*\"customer\" + 0.021*\"lot\" + 0.021*\"recommend\" + 0.019*\"call\" + 0.019*\"see\" + 0.019*\"food\" + 0.017*\"wait\" + 0.017*\"cold\" + 0.015*\"dirty\" + 0.015*\"money\" + 0.015*\"sleep\" + 0.015*\"outside\" + 0.015*\"far\" + 0.015*\"feel\" + 0.015*\"still\"\n",
      "\n",
      "Topic #3:\n",
      "==========\n",
      "0.049*\"really\" + 0.039*\"front\" + 0.034*\"sleep\" + 0.034*\"much\" + 0.034*\"option\" + 0.029*\"wall\" + 0.029*\"call\" + 0.029*\"mind\" + 0.025*\"nothing\" + 0.025*\"put\" + 0.025*\"money\" + 0.025*\"reception\" + 0.020*\"toilet\" + 0.020*\"towel\" + 0.020*\"light\" + 0.020*\"star\" + 0.020*\"change\" + 0.020*\"worth\" + 0.020*\"expensive\" + 0.015*\"price\"\n",
      "\n",
      "Topic #4:\n",
      "==========\n",
      "0.034*\"use\" + 0.034*\"sleep\" + 0.031*\"light\" + 0.029*\"nothing\" + 0.027*\"expensive\" + 0.024*\"toilet\" + 0.024*\"pool\" + 0.024*\"close\" + 0.020*\"water\" + 0.020*\"towel\" + 0.020*\"next\" + 0.020*\"shower\" + 0.020*\"hear\" + 0.020*\"walk\" + 0.020*\"however\" + 0.020*\"enough\" + 0.020*\"iron\" + 0.020*\"still\" + 0.017*\"look\" + 0.017*\"pay\"\n",
      "\n",
      "Topic #5:\n",
      "==========\n",
      "0.041*\"tell\" + 0.038*\"smell\" + 0.035*\"breakfast\" + 0.032*\"experience\" + 0.032*\"friendly\" + 0.028*\"dirty\" + 0.025*\"hear\" + 0.025*\"wall\" + 0.025*\"wait\" + 0.022*\"service\" + 0.022*\"pay\" + 0.022*\"money\" + 0.019*\"next\" + 0.019*\"price\" + 0.019*\"walk\" + 0.019*\"lot\" + 0.019*\"customer\" + 0.019*\"already\" + 0.016*\"bathroom\" + 0.016*\"old\"\n",
      "\n",
      "Topic #6:\n",
      "==========\n",
      "0.070*\"bathroom\" + 0.032*\"shower\" + 0.032*\"towel\" + 0.030*\"nothing\" + 0.029*\"many\" + 0.027*\"reception\" + 0.027*\"charge\" + 0.024*\"dirty\" + 0.022*\"another\" + 0.020*\"lobby\" + 0.020*\"people\" + 0.020*\"provide\" + 0.018*\"feel\" + 0.018*\"facility\" + 0.018*\"never\" + 0.018*\"singapore\" + 0.016*\"experience\" + 0.016*\"use\" + 0.016*\"thing\" + 0.016*\"water\"\n",
      "\n",
      "Topic #7:\n",
      "==========\n",
      "0.036*\"smell\" + 0.035*\"breakfast\" + 0.033*\"reception\" + 0.031*\"price\" + 0.027*\"request\" + 0.027*\"due\" + 0.025*\"water\" + 0.025*\"seem\" + 0.023*\"service\" + 0.020*\"bathroom\" + 0.020*\"old\" + 0.020*\"wait\" + 0.020*\"put\" + 0.020*\"space\" + 0.018*\"use\" + 0.018*\"luggage\" + 0.018*\"think\" + 0.018*\"little\" + 0.016*\"change\" + 0.016*\"star\"\n",
      "\n",
      "Topic #8:\n",
      "==========\n",
      "0.050*\"old\" + 0.041*\"work\" + 0.041*\"look\" + 0.035*\"water\" + 0.034*\"quite\" + 0.022*\"towel\" + 0.022*\"light\" + 0.022*\"thing\" + 0.021*\"smell\" + 0.021*\"shower\" + 0.021*\"walk\" + 0.019*\"toilet\" + 0.019*\"breakfast\" + 0.019*\"noisy\" + 0.018*\"poor\" + 0.016*\"bathroom\" + 0.016*\"dirty\" + 0.016*\"little\" + 0.016*\"noise\" + 0.016*\"price\"\n",
      "\n",
      "Topic #9:\n",
      "==========\n",
      "0.051*\"nothing\" + 0.043*\"dirty\" + 0.037*\"star\" + 0.037*\"pool\" + 0.031*\"phone\" + 0.029*\"smell\" + 0.029*\"enough\" + 0.026*\"change\" + 0.023*\"service\" + 0.020*\"much\" + 0.020*\"request\" + 0.017*\"breakfast\" + 0.017*\"look\" + 0.017*\"customer\" + 0.017*\"find\" + 0.017*\"lobby\" + 0.017*\"little\" + 0.014*\"bathroom\" + 0.014*\"water\" + 0.014*\"experience\"\n",
      "\n",
      "--------------------------------------------------\n",
      "\n",
      "MODEL: LDA - NUMBER OF TOPICS: 10\n"
     ]
    },
    {
     "name": "stderr",
     "output_type": "stream",
     "text": [
      "100%|████████████████████████████████████████████████████████████████████████████████████| 9/9 [00:28<00:00,  3.20s/it]"
     ]
    },
    {
     "name": "stdout",
     "output_type": "stream",
     "text": [
      "Topic #1:\n",
      "==========\n",
      "0.038*\"really\" + 0.035*\"breakfast\" + 0.033*\"sleep\" + 0.028*\"wall\" + 0.028*\"use\" + 0.024*\"dirty\" + 0.024*\"smell\" + 0.024*\"front\" + 0.024*\"work\" + 0.024*\"find\" + 0.024*\"want\" + 0.021*\"shower\" + 0.021*\"reception\" + 0.021*\"toilet\" + 0.021*\"hear\" + 0.021*\"put\" + 0.018*\"service\" + 0.018*\"thing\" + 0.018*\"experience\" + 0.018*\"water\"\n",
      "\n",
      "Topic #2:\n",
      "==========\n",
      "0.046*\"work\" + 0.044*\"option\" + 0.032*\"service\" + 0.032*\"food\" + 0.029*\"iron\" + 0.029*\"much\" + 0.028*\"toilet\" + 0.026*\"light\" + 0.023*\"water\" + 0.023*\"shower\" + 0.023*\"cleanliness\" + 0.021*\"price\" + 0.021*\"space\" + 0.021*\"breakfast\" + 0.018*\"dirty\" + 0.018*\"reception\" + 0.018*\"disappoint\" + 0.018*\"hot\" + 0.018*\"money\" + 0.018*\"little\"\n",
      "\n",
      "Topic #3:\n",
      "==========\n",
      "0.037*\"cold\" + 0.034*\"walk\" + 0.034*\"quite\" + 0.030*\"next\" + 0.027*\"people\" + 0.024*\"water\" + 0.024*\"little\" + 0.024*\"wall\" + 0.020*\"look\" + 0.020*\"light\" + 0.020*\"enough\" + 0.020*\"hear\" + 0.020*\"pool\" + 0.017*\"nothing\" + 0.017*\"service\" + 0.017*\"bathroom\" + 0.017*\"breakfast\" + 0.017*\"find\" + 0.017*\"lot\" + 0.017*\"outside\"\n",
      "\n",
      "Topic #4:\n",
      "==========\n",
      "0.051*\"far\" + 0.030*\"smell\" + 0.030*\"call\" + 0.030*\"walk\" + 0.030*\"breakfast\" + 0.028*\"big\" + 0.028*\"lot\" + 0.024*\"little\" + 0.023*\"service\" + 0.022*\"light\" + 0.022*\"price\" + 0.022*\"poor\" + 0.020*\"helpful\" + 0.019*\"singapore\" + 0.019*\"want\" + 0.019*\"desk\" + 0.019*\"really\" + 0.019*\"space\" + 0.015*\"bathroom\" + 0.015*\"money\"\n",
      "\n",
      "Topic #5:\n",
      "==========\n",
      "0.073*\"water\" + 0.041*\"bathroom\" + 0.035*\"service\" + 0.030*\"look\" + 0.030*\"reception\" + 0.030*\"shower\" + 0.027*\"use\" + 0.027*\"friendly\" + 0.025*\"helpful\" + 0.022*\"dirty\" + 0.022*\"old\" + 0.022*\"thing\" + 0.019*\"customer\" + 0.019*\"hot\" + 0.019*\"disappoint\" + 0.016*\"wall\" + 0.016*\"provide\" + 0.016*\"leave\" + 0.014*\"breakfast\" + 0.014*\"hear\"\n",
      "\n",
      "Topic #6:\n",
      "==========\n",
      "0.039*\"shower\" + 0.036*\"water\" + 0.033*\"request\" + 0.033*\"recommend\" + 0.030*\"though\" + 0.030*\"bathroom\" + 0.027*\"front\" + 0.024*\"much\" + 0.024*\"towel\" + 0.024*\"luggage\" + 0.021*\"reception\" + 0.021*\"see\" + 0.021*\"wait\" + 0.021*\"quite\" + 0.018*\"smell\" + 0.018*\"lobby\" + 0.018*\"money\" + 0.018*\"find\" + 0.018*\"way\" + 0.018*\"provide\"\n",
      "\n",
      "Topic #7:\n",
      "==========\n",
      "0.064*\"old\" + 0.049*\"price\" + 0.047*\"nothing\" + 0.042*\"breakfast\" + 0.038*\"change\" + 0.035*\"smell\" + 0.033*\"look\" + 0.028*\"sleep\" + 0.024*\"star\" + 0.024*\"bathroom\" + 0.020*\"towel\" + 0.020*\"morning\" + 0.020*\"food\" + 0.018*\"never\" + 0.016*\"singapore\" + 0.016*\"toilet\" + 0.016*\"close\" + 0.016*\"pool\" + 0.016*\"cleanliness\" + 0.016*\"outside\"\n",
      "\n",
      "Topic #8:\n",
      "==========\n",
      "0.058*\"service\" + 0.038*\"toilet\" + 0.033*\"pay\" + 0.027*\"mind\" + 0.027*\"star\" + 0.023*\"smell\" + 0.022*\"nothing\" + 0.019*\"first\" + 0.019*\"request\" + 0.019*\"customer\" + 0.019*\"poor\" + 0.018*\"tell\" + 0.017*\"change\" + 0.017*\"dirty\" + 0.017*\"wait\" + 0.017*\"shower\" + 0.017*\"call\" + 0.017*\"everything\" + 0.016*\"bathroom\" + 0.016*\"worth\"\n",
      "\n",
      "Topic #9:\n",
      "==========\n",
      "0.034*\"reception\" + 0.034*\"money\" + 0.032*\"feel\" + 0.032*\"experience\" + 0.029*\"pay\" + 0.027*\"charge\" + 0.027*\"dirty\" + 0.024*\"another\" + 0.024*\"look\" + 0.024*\"never\" + 0.021*\"bathroom\" + 0.021*\"already\" + 0.021*\"light\" + 0.021*\"noise\" + 0.021*\"close\" + 0.019*\"pool\" + 0.019*\"expect\" + 0.019*\"recommend\" + 0.019*\"expensive\" + 0.016*\"service\"\n",
      "\n",
      "Topic #10:\n",
      "==========\n",
      "0.077*\"smell\" + 0.068*\"nothing\" + 0.063*\"towel\" + 0.039*\"enough\" + 0.028*\"feel\" + 0.028*\"dirty\" + 0.028*\"little\" + 0.025*\"bathroom\" + 0.025*\"lobby\" + 0.021*\"however\" + 0.021*\"end\" + 0.021*\"high\" + 0.018*\"service\" + 0.018*\"price\" + 0.018*\"work\" + 0.018*\"charge\" + 0.018*\"put\" + 0.018*\"pool\" + 0.014*\"pay\" + 0.014*\"wall\"\n",
      "\n",
      "--------------------------------------------------\n",
      "  Model Name  Number of Topics  Coherence Score df_name\n",
      "0        LDA                 2         0.354566  df_neg\n",
      "1        LDA                 3         0.309765  df_neg\n",
      "2        LDA                 4         0.356757  df_neg\n",
      "3        LDA                 5         0.337285  df_neg\n",
      "4        LDA                 6         0.322370  df_neg\n",
      "5        LDA                 7         0.346675  df_neg\n",
      "6        LDA                 8         0.326655  df_neg\n",
      "7        LDA                 9         0.310535  df_neg\n",
      "8        LDA                10         0.311023  df_neg\n"
     ]
    },
    {
     "name": "stderr",
     "output_type": "stream",
     "text": [
      "\n"
     ]
    },
    {
     "data": {
      "image/png": "[encoded data removed]",
      "text/plain": [
       "<Figure size 1500x1200 with 1 Axes>"
      ]
     },
     "metadata": {},
     "output_type": "display_data"
    },
    {
     "data": {
      "image/png": "[encoded data removed]",
      "text/plain": [
       "<Figure size 1500x1200 with 1 Axes>"
      ]
     },
     "metadata": {},
     "output_type": "display_data"
    }
   ],
   "source": [
    "# Calculate coherence scores for each model\n",
    "target_text = \"review_cleaned_v3\"\n",
    "\n",
    "overall_coherence_df = pd.DataFrame() # df to store coherence_df\n",
    "model_topic_info_list = []  # List to store model_topic_info\n",
    "\n",
    "for i, df_set in enumerate(df_sets):\n",
    "    \n",
    "    print(\"\\nDF NAME: {}\\n\".format(df_names[i]))\n",
    "\n",
    "    coherence_df, model_topic_info = topic_model_coherence_plot(df_set, df_names[i], target_text, MODEL_NAMES, START_TOPIC_COUNT, END_TOPIC_COUNT)\n",
    "    overall_coherence_df = pd.concat([overall_coherence_df, coherence_df], axis=0) # Concatenate to overall_coherence_df\n",
    "    model_topic_info_list.append(model_topic_info) # Store model_topic_info in a list"
   ]
  },
  {
   "cell_type": "code",
   "execution_count": 11,
   "id": "8b52abde-3936-44c5-b270-4e9cab3a4e33",
   "metadata": {},
   "outputs": [
    {
     "data": {
      "text/html": [
       "<div>\n",
       "<style scoped>\n",
       "    .dataframe tbody tr th:only-of-type {\n",
       "        vertical-align: middle;\n",
       "    }\n",
       "\n",
       "    .dataframe tbody tr th {\n",
       "        vertical-align: top;\n",
       "    }\n",
       "\n",
       "    .dataframe thead th {\n",
       "        text-align: right;\n",
       "    }\n",
       "</style>\n",
       "<table border=\"1\" class=\"dataframe\">\n",
       "  <thead>\n",
       "    <tr style=\"text-align: right;\">\n",
       "      <th></th>\n",
       "      <th>Model Name</th>\n",
       "      <th>Number of Topics</th>\n",
       "      <th>Coherence Score</th>\n",
       "      <th>df_name</th>\n",
       "    </tr>\n",
       "  </thead>\n",
       "  <tbody>\n",
       "    <tr>\n",
       "      <th>0</th>\n",
       "      <td>LSI</td>\n",
       "      <td>2</td>\n",
       "      <td>0.667260</td>\n",
       "      <td>df_pos</td>\n",
       "    </tr>\n",
       "    <tr>\n",
       "      <th>1</th>\n",
       "      <td>LSI</td>\n",
       "      <td>3</td>\n",
       "      <td>0.660077</td>\n",
       "      <td>df_pos</td>\n",
       "    </tr>\n",
       "    <tr>\n",
       "      <th>2</th>\n",
       "      <td>LSI</td>\n",
       "      <td>4</td>\n",
       "      <td>0.658079</td>\n",
       "      <td>df_pos</td>\n",
       "    </tr>\n",
       "    <tr>\n",
       "      <th>3</th>\n",
       "      <td>LSI</td>\n",
       "      <td>5</td>\n",
       "      <td>0.623225</td>\n",
       "      <td>df_pos</td>\n",
       "    </tr>\n",
       "    <tr>\n",
       "      <th>4</th>\n",
       "      <td>LSI</td>\n",
       "      <td>6</td>\n",
       "      <td>0.658220</td>\n",
       "      <td>df_pos</td>\n",
       "    </tr>\n",
       "    <tr>\n",
       "      <th>5</th>\n",
       "      <td>LSI</td>\n",
       "      <td>7</td>\n",
       "      <td>0.663805</td>\n",
       "      <td>df_pos</td>\n",
       "    </tr>\n",
       "    <tr>\n",
       "      <th>6</th>\n",
       "      <td>LSI</td>\n",
       "      <td>8</td>\n",
       "      <td>0.653828</td>\n",
       "      <td>df_pos</td>\n",
       "    </tr>\n",
       "    <tr>\n",
       "      <th>7</th>\n",
       "      <td>LSI</td>\n",
       "      <td>9</td>\n",
       "      <td>0.645417</td>\n",
       "      <td>df_pos</td>\n",
       "    </tr>\n",
       "    <tr>\n",
       "      <th>8</th>\n",
       "      <td>LSI</td>\n",
       "      <td>10</td>\n",
       "      <td>0.659091</td>\n",
       "      <td>df_pos</td>\n",
       "    </tr>\n",
       "    <tr>\n",
       "      <th>0</th>\n",
       "      <td>LDA</td>\n",
       "      <td>2</td>\n",
       "      <td>0.552269</td>\n",
       "      <td>df_pos</td>\n",
       "    </tr>\n",
       "    <tr>\n",
       "      <th>1</th>\n",
       "      <td>LDA</td>\n",
       "      <td>3</td>\n",
       "      <td>0.535224</td>\n",
       "      <td>df_pos</td>\n",
       "    </tr>\n",
       "    <tr>\n",
       "      <th>2</th>\n",
       "      <td>LDA</td>\n",
       "      <td>4</td>\n",
       "      <td>0.518203</td>\n",
       "      <td>df_pos</td>\n",
       "    </tr>\n",
       "    <tr>\n",
       "      <th>3</th>\n",
       "      <td>LDA</td>\n",
       "      <td>5</td>\n",
       "      <td>0.512665</td>\n",
       "      <td>df_pos</td>\n",
       "    </tr>\n",
       "    <tr>\n",
       "      <th>4</th>\n",
       "      <td>LDA</td>\n",
       "      <td>6</td>\n",
       "      <td>0.521893</td>\n",
       "      <td>df_pos</td>\n",
       "    </tr>\n",
       "    <tr>\n",
       "      <th>5</th>\n",
       "      <td>LDA</td>\n",
       "      <td>7</td>\n",
       "      <td>0.502221</td>\n",
       "      <td>df_pos</td>\n",
       "    </tr>\n",
       "    <tr>\n",
       "      <th>6</th>\n",
       "      <td>LDA</td>\n",
       "      <td>8</td>\n",
       "      <td>0.495540</td>\n",
       "      <td>df_pos</td>\n",
       "    </tr>\n",
       "    <tr>\n",
       "      <th>7</th>\n",
       "      <td>LDA</td>\n",
       "      <td>9</td>\n",
       "      <td>0.491394</td>\n",
       "      <td>df_pos</td>\n",
       "    </tr>\n",
       "    <tr>\n",
       "      <th>8</th>\n",
       "      <td>LDA</td>\n",
       "      <td>10</td>\n",
       "      <td>0.506830</td>\n",
       "      <td>df_pos</td>\n",
       "    </tr>\n",
       "    <tr>\n",
       "      <th>0</th>\n",
       "      <td>LSI</td>\n",
       "      <td>2</td>\n",
       "      <td>0.550753</td>\n",
       "      <td>df_neg</td>\n",
       "    </tr>\n",
       "    <tr>\n",
       "      <th>1</th>\n",
       "      <td>LSI</td>\n",
       "      <td>3</td>\n",
       "      <td>0.504555</td>\n",
       "      <td>df_neg</td>\n",
       "    </tr>\n",
       "    <tr>\n",
       "      <th>2</th>\n",
       "      <td>LSI</td>\n",
       "      <td>4</td>\n",
       "      <td>0.518666</td>\n",
       "      <td>df_neg</td>\n",
       "    </tr>\n",
       "    <tr>\n",
       "      <th>3</th>\n",
       "      <td>LSI</td>\n",
       "      <td>5</td>\n",
       "      <td>0.501657</td>\n",
       "      <td>df_neg</td>\n",
       "    </tr>\n",
       "    <tr>\n",
       "      <th>4</th>\n",
       "      <td>LSI</td>\n",
       "      <td>6</td>\n",
       "      <td>0.478099</td>\n",
       "      <td>df_neg</td>\n",
       "    </tr>\n",
       "    <tr>\n",
       "      <th>5</th>\n",
       "      <td>LSI</td>\n",
       "      <td>7</td>\n",
       "      <td>0.502843</td>\n",
       "      <td>df_neg</td>\n",
       "    </tr>\n",
       "    <tr>\n",
       "      <th>6</th>\n",
       "      <td>LSI</td>\n",
       "      <td>8</td>\n",
       "      <td>0.457026</td>\n",
       "      <td>df_neg</td>\n",
       "    </tr>\n",
       "    <tr>\n",
       "      <th>7</th>\n",
       "      <td>LSI</td>\n",
       "      <td>9</td>\n",
       "      <td>0.472178</td>\n",
       "      <td>df_neg</td>\n",
       "    </tr>\n",
       "    <tr>\n",
       "      <th>8</th>\n",
       "      <td>LSI</td>\n",
       "      <td>10</td>\n",
       "      <td>0.460272</td>\n",
       "      <td>df_neg</td>\n",
       "    </tr>\n",
       "    <tr>\n",
       "      <th>0</th>\n",
       "      <td>LDA</td>\n",
       "      <td>2</td>\n",
       "      <td>0.354566</td>\n",
       "      <td>df_neg</td>\n",
       "    </tr>\n",
       "    <tr>\n",
       "      <th>1</th>\n",
       "      <td>LDA</td>\n",
       "      <td>3</td>\n",
       "      <td>0.309765</td>\n",
       "      <td>df_neg</td>\n",
       "    </tr>\n",
       "    <tr>\n",
       "      <th>2</th>\n",
       "      <td>LDA</td>\n",
       "      <td>4</td>\n",
       "      <td>0.356757</td>\n",
       "      <td>df_neg</td>\n",
       "    </tr>\n",
       "    <tr>\n",
       "      <th>3</th>\n",
       "      <td>LDA</td>\n",
       "      <td>5</td>\n",
       "      <td>0.337285</td>\n",
       "      <td>df_neg</td>\n",
       "    </tr>\n",
       "    <tr>\n",
       "      <th>4</th>\n",
       "      <td>LDA</td>\n",
       "      <td>6</td>\n",
       "      <td>0.322370</td>\n",
       "      <td>df_neg</td>\n",
       "    </tr>\n",
       "    <tr>\n",
       "      <th>5</th>\n",
       "      <td>LDA</td>\n",
       "      <td>7</td>\n",
       "      <td>0.346675</td>\n",
       "      <td>df_neg</td>\n",
       "    </tr>\n",
       "    <tr>\n",
       "      <th>6</th>\n",
       "      <td>LDA</td>\n",
       "      <td>8</td>\n",
       "      <td>0.326655</td>\n",
       "      <td>df_neg</td>\n",
       "    </tr>\n",
       "    <tr>\n",
       "      <th>7</th>\n",
       "      <td>LDA</td>\n",
       "      <td>9</td>\n",
       "      <td>0.310535</td>\n",
       "      <td>df_neg</td>\n",
       "    </tr>\n",
       "    <tr>\n",
       "      <th>8</th>\n",
       "      <td>LDA</td>\n",
       "      <td>10</td>\n",
       "      <td>0.311023</td>\n",
       "      <td>df_neg</td>\n",
       "    </tr>\n",
       "  </tbody>\n",
       "</table>\n",
       "</div>"
      ],
      "text/plain": [
       "  Model Name  Number of Topics  Coherence Score df_name\n",
       "0        LSI                 2         0.667260  df_pos\n",
       "1        LSI                 3         0.660077  df_pos\n",
       "2        LSI                 4         0.658079  df_pos\n",
       "3        LSI                 5         0.623225  df_pos\n",
       "4        LSI                 6         0.658220  df_pos\n",
       "5        LSI                 7         0.663805  df_pos\n",
       "6        LSI                 8         0.653828  df_pos\n",
       "7        LSI                 9         0.645417  df_pos\n",
       "8        LSI                10         0.659091  df_pos\n",
       "0        LDA                 2         0.552269  df_pos\n",
       "1        LDA                 3         0.535224  df_pos\n",
       "2        LDA                 4         0.518203  df_pos\n",
       "3        LDA                 5         0.512665  df_pos\n",
       "4        LDA                 6         0.521893  df_pos\n",
       "5        LDA                 7         0.502221  df_pos\n",
       "6        LDA                 8         0.495540  df_pos\n",
       "7        LDA                 9         0.491394  df_pos\n",
       "8        LDA                10         0.506830  df_pos\n",
       "0        LSI                 2         0.550753  df_neg\n",
       "1        LSI                 3         0.504555  df_neg\n",
       "2        LSI                 4         0.518666  df_neg\n",
       "3        LSI                 5         0.501657  df_neg\n",
       "4        LSI                 6         0.478099  df_neg\n",
       "5        LSI                 7         0.502843  df_neg\n",
       "6        LSI                 8         0.457026  df_neg\n",
       "7        LSI                 9         0.472178  df_neg\n",
       "8        LSI                10         0.460272  df_neg\n",
       "0        LDA                 2         0.354566  df_neg\n",
       "1        LDA                 3         0.309765  df_neg\n",
       "2        LDA                 4         0.356757  df_neg\n",
       "3        LDA                 5         0.337285  df_neg\n",
       "4        LDA                 6         0.322370  df_neg\n",
       "5        LDA                 7         0.346675  df_neg\n",
       "6        LDA                 8         0.326655  df_neg\n",
       "7        LDA                 9         0.310535  df_neg\n",
       "8        LDA                10         0.311023  df_neg"
      ]
     },
     "execution_count": 11,
     "metadata": {},
     "output_type": "execute_result"
    }
   ],
   "source": [
    "# Print all models' coherence scores\n",
    "overall_coherence_df"
   ]
  },
  {
   "cell_type": "code",
   "execution_count": 12,
   "id": "1b1c5f4e-ad60-4343-9a9b-a6cd13e82c1d",
   "metadata": {},
   "outputs": [
    {
     "data": {
      "text/html": [
       "<div>\n",
       "<style scoped>\n",
       "    .dataframe tbody tr th:only-of-type {\n",
       "        vertical-align: middle;\n",
       "    }\n",
       "\n",
       "    .dataframe tbody tr th {\n",
       "        vertical-align: top;\n",
       "    }\n",
       "\n",
       "    .dataframe thead th {\n",
       "        text-align: right;\n",
       "    }\n",
       "</style>\n",
       "<table border=\"1\" class=\"dataframe\">\n",
       "  <thead>\n",
       "    <tr style=\"text-align: right;\">\n",
       "      <th></th>\n",
       "      <th>Model Name</th>\n",
       "      <th>Number of Topics</th>\n",
       "      <th>Coherence Score</th>\n",
       "      <th>df_name</th>\n",
       "    </tr>\n",
       "  </thead>\n",
       "  <tbody>\n",
       "    <tr>\n",
       "      <th>0</th>\n",
       "      <td>LSI</td>\n",
       "      <td>2</td>\n",
       "      <td>0.550753</td>\n",
       "      <td>df_neg</td>\n",
       "    </tr>\n",
       "    <tr>\n",
       "      <th>1</th>\n",
       "      <td>LSI</td>\n",
       "      <td>2</td>\n",
       "      <td>0.667260</td>\n",
       "      <td>df_pos</td>\n",
       "    </tr>\n",
       "  </tbody>\n",
       "</table>\n",
       "</div>"
      ],
      "text/plain": [
       "  Model Name  Number of Topics  Coherence Score df_name\n",
       "0        LSI                 2         0.550753  df_neg\n",
       "1        LSI                 2         0.667260  df_pos"
      ]
     },
     "execution_count": 12,
     "metadata": {},
     "output_type": "execute_result"
    }
   ],
   "source": [
    "# Store coherence scores of all models into \"overall_coherence_df\", sort by \"df_name\" and \"Coherence Score\"\n",
    "overall_coherence_df = overall_coherence_df.sort_values([\"df_name\", \"Coherence Score\"], ascending=False).reset_index(drop=True)\n",
    "#overall_coherence_df\n",
    "\n",
    "# Find best model for each df\n",
    "overall_coherence_best_df = overall_coherence_df.loc[overall_coherence_df.groupby(\"df_name\")[\"Coherence Score\"].idxmax()].reset_index(drop=True)\n",
    "overall_coherence_best_df"
   ]
  },
  {
   "cell_type": "code",
   "execution_count": 13,
   "id": "9f94451d-42c2-4657-ace1-ca53930e2690",
   "metadata": {},
   "outputs": [
    {
     "name": "stdout",
     "output_type": "stream",
     "text": [
      "\n",
      "DF NAME: df_neg\n",
      "MODEL: LSI - NUMBER OF TOPICS: 2\n",
      "\n",
      "Topic 1: service, water, change, reception, dirty, smell, look, breakfast, toilet, towel\n",
      "\n",
      "Topic 2: smell, service, water, toilet, old, change, shower, pay, bathroom, call\n",
      "\n",
      "----------\n",
      "\n",
      "\n",
      "DF NAME: df_pos\n",
      "MODEL: LSI - NUMBER OF TOPICS: 2\n",
      "\n",
      "Topic 1: great, station, breakfast, food, friendly, singapore, water, provide, service, helpful\n",
      "\n",
      "Topic 2: great, water, call, provide, want, friendly, tell, reception, station, quite\n",
      "\n",
      "----------\n",
      "\n"
     ]
    }
   ],
   "source": [
    "# Print topics of best model\n",
    "print_best_model_topics(overall_coherence_best_df, model_topic_info_list)"
   ]
  },
  {
   "cell_type": "code",
   "execution_count": 14,
   "id": "c2e89998-39e0-4e8c-9c6c-3820f70f335e",
   "metadata": {},
   "outputs": [
    {
     "name": "stdout",
     "output_type": "stream",
     "text": [
      "Text processing ended at 2024-06-27 00:12:22.727979\n",
      "Text processing spent 0:09:28.160730\n"
     ]
    }
   ],
   "source": [
    "end_time = datetime.now()\n",
    "print(\"Text processing ended at {}\".format(end_time))\n",
    "print(\"Text processing spent {}\".format(end_time - start_time))"
   ]
  }
 ],
 "metadata": {
  "kernelspec": {
   "display_name": "Python 3 (ipykernel)",
   "language": "python",
   "name": "python3"
  },
  "language_info": {
   "codemirror_mode": {
    "name": "ipython",
    "version": 3
   },
   "file_extension": ".py",
   "mimetype": "text/x-python",
   "name": "python",
   "nbconvert_exporter": "python",
   "pygments_lexer": "ipython3",
   "version": "3.11.1"
  }
 },
 "nbformat": 4,
 "nbformat_minor": 5
}

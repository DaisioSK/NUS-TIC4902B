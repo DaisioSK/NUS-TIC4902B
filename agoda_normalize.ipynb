{
 "cells": [
  {
   "cell_type": "code",
   "execution_count": 1,
   "id": "81892e64-b001-4745-a275-72ab7609f0e6",
   "metadata": {},
   "outputs": [],
   "source": [
    "import numpy as np\n",
    "import pandas as pd\n",
    "\n",
    "import time\n",
    "from datetime import datetime\n",
    "\n",
    "from IPython.core.display import HTML\n",
    "import en_nlp_utils"
   ]
  },
  {
   "cell_type": "code",
   "execution_count": 2,
   "id": "63827ad9-8358-43f2-9a55-777e8ee754c3",
   "metadata": {},
   "outputs": [
    {
     "data": {
      "text/html": [
       "<style>pre { white-space: pre !important; }</style>"
      ],
      "text/plain": [
       "<IPython.core.display.HTML object>"
      ]
     },
     "metadata": {},
     "output_type": "display_data"
    },
    {
     "name": "stdout",
     "output_type": "stream",
     "text": [
      "Text processing started at 2024-02-20 01:45:44.531771\n"
     ]
    }
   ],
   "source": [
    "# Adjust the HTML style of the output and set default display options for Pandas\n",
    "display(HTML(\"<style>pre { white-space: pre !important; }</style>\"))\n",
    "en_nlp_utils.set_default_pandas_options()\n",
    "\n",
    "# Define default source path\n",
    "SRC_PATH = \"src/\"\n",
    "\n",
    "start_time = datetime.now()\n",
    "print(\"Text processing started at {}\".format(start_time))"
   ]
  },
  {
   "cell_type": "code",
   "execution_count": 3,
   "id": "fe26eb98-bbd8-4e0c-88e0-3aff92866e7c",
   "metadata": {},
   "outputs": [],
   "source": [
    "# Load dataset\n",
    "df_review = pd.read_csv(SRC_PATH + \"agoda_reviews_details_valid.csv\")"
   ]
  },
  {
   "cell_type": "code",
   "execution_count": 4,
   "id": "2590649c-bbb7-44ca-93b9-936ee74c1719",
   "metadata": {},
   "outputs": [
    {
     "data": {
      "text/html": [
       "<div>\n",
       "<style scoped>\n",
       "    .dataframe tbody tr th:only-of-type {\n",
       "        vertical-align: middle;\n",
       "    }\n",
       "\n",
       "    .dataframe tbody tr th {\n",
       "        vertical-align: top;\n",
       "    }\n",
       "\n",
       "    .dataframe thead th {\n",
       "        text-align: right;\n",
       "    }\n",
       "</style>\n",
       "<table border=\"1\" class=\"dataframe\">\n",
       "  <thead>\n",
       "    <tr style=\"text-align: right;\">\n",
       "      <th></th>\n",
       "      <th>hotel_id</th>\n",
       "      <th>hotel_name</th>\n",
       "      <th>rating_cat</th>\n",
       "      <th>reviewer</th>\n",
       "      <th>country</th>\n",
       "      <th>...</th>\n",
       "      <th>review_score_cat</th>\n",
       "      <th>review_date</th>\n",
       "      <th>review_title</th>\n",
       "      <th>review</th>\n",
       "      <th>review_cleaned</th>\n",
       "    </tr>\n",
       "  </thead>\n",
       "  <tbody>\n",
       "    <tr>\n",
       "      <th>0</th>\n",
       "      <td>1007</td>\n",
       "      <td>PARKROYAL on Kitchener Road, Singapore</td>\n",
       "      <td>9+ Exceptional</td>\n",
       "      <td>ravi</td>\n",
       "      <td>India</td>\n",
       "      <td>...</td>\n",
       "      <td>Exceptional</td>\n",
       "      <td>28/01/2024</td>\n",
       "      <td>Gr8</td>\n",
       "      <td>Awesome in all aspects</td>\n",
       "      <td>awesome aspect</td>\n",
       "    </tr>\n",
       "    <tr>\n",
       "      <th>1</th>\n",
       "      <td>1007</td>\n",
       "      <td>PARKROYAL on Kitchener Road, Singapore</td>\n",
       "      <td>9+ Exceptional</td>\n",
       "      <td>Pankaj</td>\n",
       "      <td>India</td>\n",
       "      <td>...</td>\n",
       "      <td>Exceptional</td>\n",
       "      <td>23/01/2024</td>\n",
       "      <td>Overall it was a good experience</td>\n",
       "      <td>Everything was good there except they dont hav...</td>\n",
       "      <td>everything good except many restaurant hotel c...</td>\n",
       "    </tr>\n",
       "    <tr>\n",
       "      <th>2</th>\n",
       "      <td>1007</td>\n",
       "      <td>PARKROYAL on Kitchener Road, Singapore</td>\n",
       "      <td>9+ Exceptional</td>\n",
       "      <td>Kin</td>\n",
       "      <td>Singapore</td>\n",
       "      <td>...</td>\n",
       "      <td>Exceptional</td>\n",
       "      <td>18/01/2024</td>\n",
       "      <td>Nice stay</td>\n",
       "      <td>Nice Stay</td>\n",
       "      <td>nice stay</td>\n",
       "    </tr>\n",
       "    <tr>\n",
       "      <th>3</th>\n",
       "      <td>1007</td>\n",
       "      <td>PARKROYAL on Kitchener Road, Singapore</td>\n",
       "      <td>9+ Exceptional</td>\n",
       "      <td>Nur</td>\n",
       "      <td>Singapore</td>\n",
       "      <td>...</td>\n",
       "      <td>Exceptional</td>\n",
       "      <td>13/01/2024</td>\n",
       "      <td>Staycay</td>\n",
       "      <td>Clean &amp; Spacious room, amenities were provided...</td>\n",
       "      <td>clean spacious room amenity provide good locat...</td>\n",
       "    </tr>\n",
       "    <tr>\n",
       "      <th>4</th>\n",
       "      <td>1007</td>\n",
       "      <td>PARKROYAL on Kitchener Road, Singapore</td>\n",
       "      <td>9+ Exceptional</td>\n",
       "      <td>Feroze</td>\n",
       "      <td>Singapore</td>\n",
       "      <td>...</td>\n",
       "      <td>Exceptional</td>\n",
       "      <td>07/01/2024</td>\n",
       "      <td>Best hotel.</td>\n",
       "      <td>Clean and big rooms, good location, front offi...</td>\n",
       "      <td>clean big room good location front office gent...</td>\n",
       "    </tr>\n",
       "  </tbody>\n",
       "</table>\n",
       "<p>5 rows × 16 columns</p>\n",
       "</div>"
      ],
      "text/plain": [
       "   hotel_id                              hotel_name      rating_cat reviewer    country  ... review_score_cat review_date                       review_title                                             review                                     review_cleaned\n",
       "0      1007  PARKROYAL on Kitchener Road, Singapore  9+ Exceptional     ravi      India  ...      Exceptional  28/01/2024                                Gr8                             Awesome in all aspects                                     awesome aspect\n",
       "1      1007  PARKROYAL on Kitchener Road, Singapore  9+ Exceptional   Pankaj      India  ...      Exceptional  23/01/2024  Overall it was a good experience   Everything was good there except they dont hav...  everything good except many restaurant hotel c...\n",
       "2      1007  PARKROYAL on Kitchener Road, Singapore  9+ Exceptional      Kin  Singapore  ...      Exceptional  18/01/2024                          Nice stay                                          Nice Stay                                          nice stay\n",
       "3      1007  PARKROYAL on Kitchener Road, Singapore  9+ Exceptional      Nur  Singapore  ...      Exceptional  13/01/2024                            Staycay  Clean & Spacious room, amenities were provided...  clean spacious room amenity provide good locat...\n",
       "4      1007  PARKROYAL on Kitchener Road, Singapore  9+ Exceptional   Feroze  Singapore  ...      Exceptional  07/01/2024                        Best hotel.  Clean and big rooms, good location, front offi...  clean big room good location front office gent...\n",
       "\n",
       "[5 rows x 16 columns]"
      ]
     },
     "execution_count": 4,
     "metadata": {},
     "output_type": "execute_result"
    }
   ],
   "source": [
    "# Exclude stopwords\n",
    "#stopword_exclusion_list = [\"no\", \"not\"]\n",
    "#en_nlp_utils.exclude_stopwords(stopword_exclusion_list)\n",
    "\n",
    "df_review_cleaned = en_nlp_utils.normalize_corpus(df_review, \"review\", \"review_cleaned\")\n",
    "df_review_cleaned.head()"
   ]
  },
  {
   "cell_type": "code",
   "execution_count": 5,
   "id": "d9172319-7d36-48ba-8252-cac9e09e2729",
   "metadata": {},
   "outputs": [
    {
     "name": "stdout",
     "output_type": "stream",
     "text": [
      "Text processing ended at 2024-02-20 05:00:45.230226\n",
      "Text processing spent 3:15:00.698455\n"
     ]
    }
   ],
   "source": [
    "end_time = datetime.now()\n",
    "print(\"Text processing ended at {}\".format(end_time))\n",
    "print(\"Text processing spent {}\".format(end_time - start_time))"
   ]
  },
  {
   "cell_type": "code",
   "execution_count": 6,
   "id": "6c1230fd-356f-4878-aead-7c7da87c6a95",
   "metadata": {},
   "outputs": [],
   "source": [
    "df_review_cleaned.to_csv(SRC_PATH + \"agoda_reviews_details_cleaned.csv\", index=False, encoding=\"utf-8\")"
   ]
  }
 ],
 "metadata": {
  "kernelspec": {
   "display_name": "Python 3 (ipykernel)",
   "language": "python",
   "name": "python3"
  },
  "language_info": {
   "codemirror_mode": {
    "name": "ipython",
    "version": 3
   },
   "file_extension": ".py",
   "mimetype": "text/x-python",
   "name": "python",
   "nbconvert_exporter": "python",
   "pygments_lexer": "ipython3",
   "version": "3.11.1"
  }
 },
 "nbformat": 4,
 "nbformat_minor": 5
}
